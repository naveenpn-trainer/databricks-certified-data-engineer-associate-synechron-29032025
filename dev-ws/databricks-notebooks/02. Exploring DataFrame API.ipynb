{
 "cells": [
  {
   "cell_type": "markdown",
   "metadata": {
    "application/vnd.databricks.v1+cell": {
     "cellMetadata": {},
     "inputWidgets": {},
     "nuid": "fe622b6e-a1e9-45bb-838b-85e5c623034e",
     "showTitle": false,
     "tableResultSettingsMap": {},
     "title": ""
    }
   },
   "source": [
    "# Exploring Data Source API"
   ]
  },
  {
   "cell_type": "markdown",
   "metadata": {
    "application/vnd.databricks.v1+cell": {
     "cellMetadata": {},
     "inputWidgets": {},
     "nuid": "e8e0b800-2661-4f80-98ae-13d12182cd9a",
     "showTitle": false,
     "tableResultSettingsMap": {},
     "title": ""
    }
   },
   "source": [
    "## Creating DF from different sources"
   ]
  },
  {
   "cell_type": "markdown",
   "metadata": {
    "application/vnd.databricks.v1+cell": {
     "cellMetadata": {},
     "inputWidgets": {},
     "nuid": "99c5d56e-0daa-4faa-8c23-a266cc1f5233",
     "showTitle": false,
     "tableResultSettingsMap": {},
     "title": ""
    }
   },
   "source": [
    "### Create DF from CSV Data"
   ]
  },
  {
   "cell_type": "code",
   "execution_count": 0,
   "metadata": {
    "application/vnd.databricks.v1+cell": {
     "cellMetadata": {
      "byteLimit": 2048000,
      "rowLimit": 10000
     },
     "inputWidgets": {},
     "nuid": "680ef09d-7e18-4e39-af81-9308dab1a973",
     "showTitle": false,
     "tableResultSettingsMap": {},
     "title": ""
    }
   },
   "outputs": [
    {
     "output_type": "display_data",
     "data": {
      "text/html": [
       "<style scoped>\n",
       "  .table-result-container {\n",
       "    max-height: 300px;\n",
       "    overflow: auto;\n",
       "  }\n",
       "  table, th, td {\n",
       "    border: 1px solid black;\n",
       "    border-collapse: collapse;\n",
       "  }\n",
       "  th, td {\n",
       "    padding: 5px;\n",
       "  }\n",
       "  th {\n",
       "    text-align: left;\n",
       "  }\n",
       "</style><div class='table-result-container'><table class='table-result'><thead style='background-color: white'><tr><th>id</th><th>age</th><th>gen</th><th>designation</th><th>salary</th></tr></thead><tbody><tr><td>1</td><td>26</td><td>M</td><td>Technician</td><td>85711</td></tr><tr><td>2</td><td>53</td><td>F</td><td>Other</td><td>94043</td></tr><tr><td>3</td><td>23</td><td>M</td><td>Writer</td><td>32067</td></tr><tr><td>4</td><td>26</td><td>M</td><td>technician</td><td>43537</td></tr></tbody></table></div>"
      ]
     },
     "metadata": {
      "application/vnd.databricks.v1+output": {
       "addedWidgets": {},
       "aggData": [],
       "aggError": "",
       "aggOverflow": false,
       "aggSchema": [],
       "aggSeriesLimitReached": false,
       "aggType": "",
       "arguments": {},
       "columnCustomDisplayInfos": {},
       "data": [
        [
         1,
         26,
         "M",
         "Technician",
         85711
        ],
        [
         2,
         53,
         "F",
         "Other",
         94043
        ],
        [
         3,
         23,
         "M",
         "Writer",
         32067
        ],
        [
         4,
         26,
         "M",
         "technician",
         43537
        ]
       ],
       "datasetInfos": [],
       "dbfsResultPath": null,
       "isJsonSchema": true,
       "metadata": {},
       "overflow": false,
       "plotOptions": {
        "customPlotOptions": {},
        "displayType": "table",
        "pivotAggregation": null,
        "pivotColumns": null,
        "xColumns": null,
        "yColumns": null
       },
       "removedWidgets": [],
       "schema": [
        {
         "metadata": "{}",
         "name": "id",
         "type": "\"integer\""
        },
        {
         "metadata": "{}",
         "name": "age",
         "type": "\"integer\""
        },
        {
         "metadata": "{}",
         "name": "gen",
         "type": "\"string\""
        },
        {
         "metadata": "{}",
         "name": "designation",
         "type": "\"string\""
        },
        {
         "metadata": "{}",
         "name": "salary",
         "type": "\"integer\""
        }
       ],
       "type": "table"
      }
     },
     "output_type": "display_data"
    }
   ],
   "source": [
    "user_df = spark.read.csv(\n",
    "    path=\"dbfs:/FileStore/synechron009/dataset/users/csv_format/users_001.csv\",\n",
    "    header=True,\n",
    "    inferSchema=True\n",
    ")\n",
    "user_df.limit(4).display()"
   ]
  },
  {
   "cell_type": "code",
   "execution_count": 0,
   "metadata": {
    "application/vnd.databricks.v1+cell": {
     "cellMetadata": {
      "byteLimit": 2048000,
      "rowLimit": 10000
     },
     "inputWidgets": {},
     "nuid": "943cd09a-2309-4efe-9286-8f6b60ce1274",
     "showTitle": false,
     "tableResultSettingsMap": {},
     "title": ""
    }
   },
   "outputs": [
    {
     "output_type": "stream",
     "name": "stdout",
     "output_type": "stream",
     "text": [
      "root\n |-- id: integer (nullable = true)\n |-- age: integer (nullable = true)\n |-- gen: string (nullable = true)\n |-- designation: string (nullable = true)\n |-- salary: integer (nullable = true)\n\n"
     ]
    }
   ],
   "source": [
    "user_df.printSchema()"
   ]
  },
  {
   "cell_type": "markdown",
   "metadata": {
    "application/vnd.databricks.v1+cell": {
     "cellMetadata": {},
     "inputWidgets": {},
     "nuid": "0e9d7047-10c8-4611-b10d-4cb9fe4226e0",
     "showTitle": false,
     "tableResultSettingsMap": {},
     "title": ""
    }
   },
   "source": []
  },
  {
   "cell_type": "markdown",
   "metadata": {
    "application/vnd.databricks.v1+cell": {
     "cellMetadata": {},
     "inputWidgets": {},
     "nuid": "2d3c2474-f731-4b3a-bdd4-37415acf9a61",
     "showTitle": false,
     "tableResultSettingsMap": {},
     "title": ""
    }
   },
   "source": [
    "### Create DF from custom delimited"
   ]
  },
  {
   "cell_type": "code",
   "execution_count": 0,
   "metadata": {
    "application/vnd.databricks.v1+cell": {
     "cellMetadata": {
      "byteLimit": 2048000,
      "rowLimit": 10000
     },
     "inputWidgets": {},
     "nuid": "935d69b6-9d06-4405-a5d4-923a4683f52e",
     "showTitle": false,
     "tableResultSettingsMap": {},
     "title": ""
    }
   },
   "outputs": [
    {
     "output_type": "display_data",
     "data": {
      "text/html": [
       "<style scoped>\n",
       "  .table-result-container {\n",
       "    max-height: 300px;\n",
       "    overflow: auto;\n",
       "  }\n",
       "  table, th, td {\n",
       "    border: 1px solid black;\n",
       "    border-collapse: collapse;\n",
       "  }\n",
       "  th, td {\n",
       "    padding: 5px;\n",
       "  }\n",
       "  th {\n",
       "    text-align: left;\n",
       "  }\n",
       "</style><div class='table-result-container'><table class='table-result'><thead style='background-color: white'><tr><th>id</th><th>age</th><th>gen</th><th>designation</th><th>salary</th></tr></thead><tbody><tr><td>1</td><td>26</td><td>M</td><td>Technician</td><td>85711</td></tr><tr><td>2</td><td>53</td><td>F</td><td>Other</td><td>94043</td></tr><tr><td>3</td><td>23</td><td>M</td><td>Writer</td><td>32067</td></tr><tr><td>4</td><td>26</td><td>M</td><td>technician</td><td>43537</td></tr></tbody></table></div>"
      ]
     },
     "metadata": {
      "application/vnd.databricks.v1+output": {
       "addedWidgets": {},
       "aggData": [],
       "aggError": "",
       "aggOverflow": false,
       "aggSchema": [],
       "aggSeriesLimitReached": false,
       "aggType": "",
       "arguments": {},
       "columnCustomDisplayInfos": {},
       "data": [
        [
         1,
         26,
         "M",
         "Technician",
         85711
        ],
        [
         2,
         53,
         "F",
         "Other",
         94043
        ],
        [
         3,
         23,
         "M",
         "Writer",
         32067
        ],
        [
         4,
         26,
         "M",
         "technician",
         43537
        ]
       ],
       "datasetInfos": [],
       "dbfsResultPath": null,
       "isJsonSchema": true,
       "metadata": {},
       "overflow": false,
       "plotOptions": {
        "customPlotOptions": {},
        "displayType": "table",
        "pivotAggregation": null,
        "pivotColumns": null,
        "xColumns": null,
        "yColumns": null
       },
       "removedWidgets": [],
       "schema": [
        {
         "metadata": "{}",
         "name": "id",
         "type": "\"integer\""
        },
        {
         "metadata": "{}",
         "name": "age",
         "type": "\"integer\""
        },
        {
         "metadata": "{}",
         "name": "gen",
         "type": "\"string\""
        },
        {
         "metadata": "{}",
         "name": "designation",
         "type": "\"string\""
        },
        {
         "metadata": "{}",
         "name": "salary",
         "type": "\"integer\""
        }
       ],
       "type": "table"
      }
     },
     "output_type": "display_data"
    }
   ],
   "source": [
    "df = spark.read.csv(\n",
    "    path=\"dbfs:/FileStore/synechron009/dataset/users/delimited_format/users_001.dat\",\n",
    "    sep=\"|\",\n",
    "    header=True,\n",
    "    inferSchema=True,\n",
    ")\n",
    "df.limit(4).display()"
   ]
  },
  {
   "cell_type": "markdown",
   "metadata": {
    "application/vnd.databricks.v1+cell": {
     "cellMetadata": {},
     "inputWidgets": {},
     "nuid": "b4737a28-7438-43f9-8af9-546c73a4d9d9",
     "showTitle": false,
     "tableResultSettingsMap": {},
     "title": ""
    }
   },
   "source": [
    "### Create DF from JSON"
   ]
  },
  {
   "cell_type": "code",
   "execution_count": 0,
   "metadata": {
    "application/vnd.databricks.v1+cell": {
     "cellMetadata": {
      "byteLimit": 2048000,
      "rowLimit": 10000
     },
     "inputWidgets": {},
     "nuid": "e28dcb30-a8d4-4230-95f7-4ffecfcb06b0",
     "showTitle": false,
     "tableResultSettingsMap": {},
     "title": ""
    }
   },
   "outputs": [
    {
     "output_type": "display_data",
     "data": {
      "text/html": [
       "<style scoped>\n",
       "  .table-result-container {\n",
       "    max-height: 300px;\n",
       "    overflow: auto;\n",
       "  }\n",
       "  table, th, td {\n",
       "    border: 1px solid black;\n",
       "    border-collapse: collapse;\n",
       "  }\n",
       "  th, td {\n",
       "    padding: 5px;\n",
       "  }\n",
       "  th {\n",
       "    text-align: left;\n",
       "  }\n",
       "</style><div class='table-result-container'><table class='table-result'><thead style='background-color: white'><tr><th>age</th><th>designation</th><th>gender</th><th>id</th><th>salary</th></tr></thead><tbody><tr><td>0</td><td>technician</td><td>M</td><td>1</td><td>85711</td></tr><tr><td>53</td><td>other</td><td>F</td><td>2</td><td>94043</td></tr><tr><td>23</td><td>writer</td><td>M</td><td>3</td><td>32067</td></tr><tr><td>0</td><td>technician</td><td>M</td><td>4</td><td>43537</td></tr></tbody></table></div>"
      ]
     },
     "metadata": {
      "application/vnd.databricks.v1+output": {
       "addedWidgets": {},
       "aggData": [],
       "aggError": "",
       "aggOverflow": false,
       "aggSchema": [],
       "aggSeriesLimitReached": false,
       "aggType": "",
       "arguments": {},
       "columnCustomDisplayInfos": {},
       "data": [
        [
         0,
         "technician",
         "M",
         1,
         85711
        ],
        [
         53,
         "other",
         "F",
         2,
         94043
        ],
        [
         23,
         "writer",
         "M",
         3,
         32067
        ],
        [
         0,
         "technician",
         "M",
         4,
         43537
        ]
       ],
       "datasetInfos": [],
       "dbfsResultPath": null,
       "isJsonSchema": true,
       "metadata": {},
       "overflow": false,
       "plotOptions": {
        "customPlotOptions": {},
        "displayType": "table",
        "pivotAggregation": null,
        "pivotColumns": null,
        "xColumns": null,
        "yColumns": null
       },
       "removedWidgets": [],
       "schema": [
        {
         "metadata": "{}",
         "name": "age",
         "type": "\"long\""
        },
        {
         "metadata": "{}",
         "name": "designation",
         "type": "\"string\""
        },
        {
         "metadata": "{}",
         "name": "gender",
         "type": "\"string\""
        },
        {
         "metadata": "{}",
         "name": "id",
         "type": "\"long\""
        },
        {
         "metadata": "{}",
         "name": "salary",
         "type": "\"long\""
        }
       ],
       "type": "table"
      }
     },
     "output_type": "display_data"
    }
   ],
   "source": [
    "user_df = spark.read.json(\n",
    "    path=\"dbfs:/FileStore/synechron009/dataset/users/json_format/users_001.json\"\n",
    ")\n",
    "\n",
    "user_df.limit(4).display()"
   ]
  },
  {
   "cell_type": "code",
   "execution_count": 0,
   "metadata": {
    "application/vnd.databricks.v1+cell": {
     "cellMetadata": {
      "byteLimit": 2048000,
      "rowLimit": 10000
     },
     "inputWidgets": {},
     "nuid": "e850814a-8928-4a3d-8790-2a6465c586a9",
     "showTitle": false,
     "tableResultSettingsMap": {},
     "title": ""
    }
   },
   "outputs": [
    {
     "output_type": "display_data",
     "data": {
      "text/html": [
       "<style scoped>\n",
       "  .table-result-container {\n",
       "    max-height: 300px;\n",
       "    overflow: auto;\n",
       "  }\n",
       "  table, th, td {\n",
       "    border: 1px solid black;\n",
       "    border-collapse: collapse;\n",
       "  }\n",
       "  th, td {\n",
       "    padding: 5px;\n",
       "  }\n",
       "  th {\n",
       "    text-align: left;\n",
       "  }\n",
       "</style><div class='table-result-container'><table class='table-result'><thead style='background-color: white'><tr><th>age</th><th>designation</th><th>gender</th><th>id</th><th>salary</th></tr></thead><tbody><tr><td>0</td><td>technician</td><td>M</td><td>1</td><td>85711</td></tr></tbody></table></div>"
      ]
     },
     "metadata": {
      "application/vnd.databricks.v1+output": {
       "addedWidgets": {},
       "aggData": [],
       "aggError": "",
       "aggOverflow": false,
       "aggSchema": [],
       "aggSeriesLimitReached": false,
       "aggType": "",
       "arguments": {},
       "columnCustomDisplayInfos": {},
       "data": [
        [
         0,
         "technician",
         "M",
         1,
         85711
        ]
       ],
       "datasetInfos": [],
       "dbfsResultPath": null,
       "isJsonSchema": true,
       "metadata": {},
       "overflow": false,
       "plotOptions": {
        "customPlotOptions": {},
        "displayType": "table",
        "pivotAggregation": null,
        "pivotColumns": null,
        "xColumns": null,
        "yColumns": null
       },
       "removedWidgets": [],
       "schema": [
        {
         "metadata": "{}",
         "name": "age",
         "type": "\"long\""
        },
        {
         "metadata": "{}",
         "name": "designation",
         "type": "\"string\""
        },
        {
         "metadata": "{}",
         "name": "gender",
         "type": "\"string\""
        },
        {
         "metadata": "{}",
         "name": "id",
         "type": "\"long\""
        },
        {
         "metadata": "{}",
         "name": "salary",
         "type": "\"long\""
        }
       ],
       "type": "table"
      }
     },
     "output_type": "display_data"
    }
   ],
   "source": [
    "user_df = spark.read.json(\n",
    "    path=\"dbfs:/FileStore/synechron009/dataset/users/json_format/users_002.json\",\n",
    "    multiLine=True\n",
    ")\n",
    "\n",
    "user_df.limit(4).display()"
   ]
  },
  {
   "cell_type": "code",
   "execution_count": 0,
   "metadata": {
    "application/vnd.databricks.v1+cell": {
     "cellMetadata": {
      "byteLimit": 2048000,
      "rowLimit": 10000
     },
     "inputWidgets": {},
     "nuid": "1dabed7b-bc44-46ef-b48e-57d3a9b9de17",
     "showTitle": false,
     "tableResultSettingsMap": {},
     "title": ""
    }
   },
   "outputs": [
    {
     "output_type": "display_data",
     "data": {
      "text/html": [
       "<style scoped>\n",
       "  .table-result-container {\n",
       "    max-height: 300px;\n",
       "    overflow: auto;\n",
       "  }\n",
       "  table, th, td {\n",
       "    border: 1px solid black;\n",
       "    border-collapse: collapse;\n",
       "  }\n",
       "  th, td {\n",
       "    padding: 5px;\n",
       "  }\n",
       "  th {\n",
       "    text-align: left;\n",
       "  }\n",
       "</style><div class='table-result-container'><table class='table-result'><thead style='background-color: white'><tr><th>age</th><th>designation</th><th>gender</th><th>id</th><th>salary</th></tr></thead><tbody><tr><td>0</td><td>technician</td><td>M</td><td>1</td><td>85711</td></tr><tr><td>53</td><td>other</td><td>F</td><td>2</td><td>94043</td></tr></tbody></table></div>"
      ]
     },
     "metadata": {
      "application/vnd.databricks.v1+output": {
       "addedWidgets": {},
       "aggData": [],
       "aggError": "",
       "aggOverflow": false,
       "aggSchema": [],
       "aggSeriesLimitReached": false,
       "aggType": "",
       "arguments": {},
       "columnCustomDisplayInfos": {},
       "data": [
        [
         0,
         "technician",
         "M",
         1,
         85711
        ],
        [
         53,
         "other",
         "F",
         2,
         94043
        ]
       ],
       "datasetInfos": [],
       "dbfsResultPath": null,
       "isJsonSchema": true,
       "metadata": {},
       "overflow": false,
       "plotOptions": {
        "customPlotOptions": {},
        "displayType": "table",
        "pivotAggregation": null,
        "pivotColumns": null,
        "xColumns": null,
        "yColumns": null
       },
       "removedWidgets": [],
       "schema": [
        {
         "metadata": "{}",
         "name": "age",
         "type": "\"long\""
        },
        {
         "metadata": "{}",
         "name": "designation",
         "type": "\"string\""
        },
        {
         "metadata": "{}",
         "name": "gender",
         "type": "\"string\""
        },
        {
         "metadata": "{}",
         "name": "id",
         "type": "\"long\""
        },
        {
         "metadata": "{}",
         "name": "salary",
         "type": "\"long\""
        }
       ],
       "type": "table"
      }
     },
     "output_type": "display_data"
    }
   ],
   "source": [
    "user_df = spark.read.json(\n",
    "    path=\"dbfs:/FileStore/synechron009/dataset/users/json_format/users_003.json\",\n",
    "    multiLine=True\n",
    ")\n",
    "\n",
    "user_df.limit(4).display()"
   ]
  },
  {
   "cell_type": "markdown",
   "metadata": {
    "application/vnd.databricks.v1+cell": {
     "cellMetadata": {},
     "inputWidgets": {},
     "nuid": "0213593e-7266-4d53-980e-ffbfcae1feba",
     "showTitle": false,
     "tableResultSettingsMap": {},
     "title": ""
    }
   },
   "source": [
    "### Create DF from Paraquet"
   ]
  },
  {
   "cell_type": "code",
   "execution_count": 0,
   "metadata": {
    "application/vnd.databricks.v1+cell": {
     "cellMetadata": {
      "byteLimit": 2048000,
      "rowLimit": 10000
     },
     "inputWidgets": {},
     "nuid": "1c156842-c5dc-4825-b73a-7a52fd8c9e0d",
     "showTitle": false,
     "tableResultSettingsMap": {},
     "title": ""
    }
   },
   "outputs": [
    {
     "output_type": "display_data",
     "data": {
      "text/html": [
       "<style scoped>\n",
       "  .table-result-container {\n",
       "    max-height: 300px;\n",
       "    overflow: auto;\n",
       "  }\n",
       "  table, th, td {\n",
       "    border: 1px solid black;\n",
       "    border-collapse: collapse;\n",
       "  }\n",
       "  th, td {\n",
       "    padding: 5px;\n",
       "  }\n",
       "  th {\n",
       "    text-align: left;\n",
       "  }\n",
       "</style><div class='table-result-container'><table class='table-result'><thead style='background-color: white'><tr><th>id</th><th>age</th><th>gender</th><th>designation</th><th>salary</th></tr></thead><tbody><tr><td>1</td><td>0</td><td>M</td><td>technician</td><td>85711</td></tr><tr><td>2</td><td>53</td><td>F</td><td>other</td><td>94043</td></tr><tr><td>3</td><td>23</td><td>M</td><td>writer</td><td>32067</td></tr><tr><td>4</td><td>0</td><td>M</td><td>technician</td><td>43537</td></tr></tbody></table></div>"
      ]
     },
     "metadata": {
      "application/vnd.databricks.v1+output": {
       "addedWidgets": {},
       "aggData": [],
       "aggError": "",
       "aggOverflow": false,
       "aggSchema": [],
       "aggSeriesLimitReached": false,
       "aggType": "",
       "arguments": {},
       "columnCustomDisplayInfos": {},
       "data": [
        [
         1,
         0,
         "M",
         "technician",
         85711
        ],
        [
         2,
         53,
         "F",
         "other",
         94043
        ],
        [
         3,
         23,
         "M",
         "writer",
         32067
        ],
        [
         4,
         0,
         "M",
         "technician",
         43537
        ]
       ],
       "datasetInfos": [],
       "dbfsResultPath": null,
       "isJsonSchema": true,
       "metadata": {},
       "overflow": false,
       "plotOptions": {
        "customPlotOptions": {},
        "displayType": "table",
        "pivotAggregation": null,
        "pivotColumns": null,
        "xColumns": null,
        "yColumns": null
       },
       "removedWidgets": [],
       "schema": [
        {
         "metadata": "{}",
         "name": "id",
         "type": "\"integer\""
        },
        {
         "metadata": "{}",
         "name": "age",
         "type": "\"integer\""
        },
        {
         "metadata": "{}",
         "name": "gender",
         "type": "\"string\""
        },
        {
         "metadata": "{}",
         "name": "designation",
         "type": "\"string\""
        },
        {
         "metadata": "{}",
         "name": "salary",
         "type": "\"integer\""
        }
       ],
       "type": "table"
      }
     },
     "output_type": "display_data"
    }
   ],
   "source": [
    "user_df = spark.read.parquet(\"dbfs:/FileStore/synechron009/dataset/users/parquet_format/users.parquet\")\n",
    "user_df.limit(4).display()"
   ]
  },
  {
   "cell_type": "markdown",
   "metadata": {
    "application/vnd.databricks.v1+cell": {
     "cellMetadata": {},
     "inputWidgets": {},
     "nuid": "dfb75829-6a84-4ba8-90a3-3c01271b0e5a",
     "showTitle": false,
     "tableResultSettingsMap": {},
     "title": ""
    }
   },
   "source": [
    "## Custom Schema"
   ]
  },
  {
   "cell_type": "code",
   "execution_count": 0,
   "metadata": {
    "application/vnd.databricks.v1+cell": {
     "cellMetadata": {
      "byteLimit": 2048000,
      "rowLimit": 10000
     },
     "inputWidgets": {},
     "nuid": "2bd0a8ad-0e7d-4eff-82e5-5d881dcf3e21",
     "showTitle": false,
     "tableResultSettingsMap": {},
     "title": ""
    }
   },
   "outputs": [
    {
     "output_type": "display_data",
     "data": {
      "text/html": [
       "<style scoped>\n",
       "  .table-result-container {\n",
       "    max-height: 300px;\n",
       "    overflow: auto;\n",
       "  }\n",
       "  table, th, td {\n",
       "    border: 1px solid black;\n",
       "    border-collapse: collapse;\n",
       "  }\n",
       "  th, td {\n",
       "    padding: 5px;\n",
       "  }\n",
       "  th {\n",
       "    text-align: left;\n",
       "  }\n",
       "</style><div class='table-result-container'><table class='table-result'><thead style='background-color: white'><tr><th>id</th><th>age</th><th>gender</th><th>designation</th><th>salary</th></tr></thead><tbody><tr><td>1</td><td>26</td><td>null</td><td>Technician</td><td>85711</td></tr><tr><td>2</td><td>53</td><td>null</td><td>Other</td><td>94043</td></tr><tr><td>3</td><td>23</td><td>null</td><td>Writer</td><td>32067</td></tr><tr><td>4</td><td>26</td><td>null</td><td>technician</td><td>43537</td></tr></tbody></table></div>"
      ]
     },
     "metadata": {
      "application/vnd.databricks.v1+output": {
       "addedWidgets": {},
       "aggData": [],
       "aggError": "",
       "aggOverflow": false,
       "aggSchema": [],
       "aggSeriesLimitReached": false,
       "aggType": "",
       "arguments": {},
       "columnCustomDisplayInfos": {},
       "data": [
        [
         1,
         26,
         null,
         "Technician",
         85711
        ],
        [
         2,
         53,
         null,
         "Other",
         94043
        ],
        [
         3,
         23,
         null,
         "Writer",
         32067
        ],
        [
         4,
         26,
         null,
         "technician",
         43537
        ]
       ],
       "datasetInfos": [],
       "dbfsResultPath": null,
       "isJsonSchema": true,
       "metadata": {},
       "overflow": false,
       "plotOptions": {
        "customPlotOptions": {},
        "displayType": "table",
        "pivotAggregation": null,
        "pivotColumns": null,
        "xColumns": null,
        "yColumns": null
       },
       "removedWidgets": [],
       "schema": [
        {
         "metadata": "{}",
         "name": "id",
         "type": "\"integer\""
        },
        {
         "metadata": "{}",
         "name": "age",
         "type": "\"integer\""
        },
        {
         "metadata": "{}",
         "name": "gender",
         "type": "\"integer\""
        },
        {
         "metadata": "{}",
         "name": "designation",
         "type": "\"string\""
        },
        {
         "metadata": "{}",
         "name": "salary",
         "type": "\"integer\""
        }
       ],
       "type": "table"
      }
     },
     "output_type": "display_data"
    }
   ],
   "source": [
    "from pyspark.sql.types import *\n",
    "\n",
    "USER_SCHEMA = StructType(\n",
    "    [\n",
    "        StructField(\"id\", IntegerType()),\n",
    "        StructField(\"age\", IntegerType()),\n",
    "        StructField(\"gender\", IntegerType()),\n",
    "        StructField(\"designation\", StringType()),\n",
    "        StructField(\"salary\", IntegerType()),\n",
    "    ]\n",
    ")\n",
    "user_df = spark.read.csv(\n",
    "    path=\"dbfs:/FileStore/synechron009/dataset/users/csv_format/users_001.csv\",\n",
    "    header=True,\n",
    "    schema=USER_SCHEMA,\n",
    ")\n",
    "user_df.limit(4).display()"
   ]
  },
  {
   "cell_type": "markdown",
   "metadata": {
    "application/vnd.databricks.v1+cell": {
     "cellMetadata": {},
     "inputWidgets": {},
     "nuid": "41a9a231-8264-4c0f-a6dc-97143320b994",
     "showTitle": false,
     "tableResultSettingsMap": {},
     "title": ""
    }
   },
   "source": [
    "## Handling Corrupt/Bad Record"
   ]
  },
  {
   "cell_type": "markdown",
   "metadata": {
    "application/vnd.databricks.v1+cell": {
     "cellMetadata": {},
     "inputWidgets": {},
     "nuid": "60577fb1-30c7-4b55-b496-0213af2a634b",
     "showTitle": false,
     "tableResultSettingsMap": {},
     "title": ""
    }
   },
   "source": [
    "### PERMISSIVE (default)"
   ]
  },
  {
   "cell_type": "code",
   "execution_count": 0,
   "metadata": {
    "application/vnd.databricks.v1+cell": {
     "cellMetadata": {
      "byteLimit": 2048000,
      "rowLimit": 10000
     },
     "inputWidgets": {},
     "nuid": "73977010-7772-4239-9292-722373b85922",
     "showTitle": false,
     "tableResultSettingsMap": {},
     "title": ""
    }
   },
   "outputs": [
    {
     "output_type": "display_data",
     "data": {
      "text/html": [
       "<style scoped>\n",
       "  .table-result-container {\n",
       "    max-height: 300px;\n",
       "    overflow: auto;\n",
       "  }\n",
       "  table, th, td {\n",
       "    border: 1px solid black;\n",
       "    border-collapse: collapse;\n",
       "  }\n",
       "  th, td {\n",
       "    padding: 5px;\n",
       "  }\n",
       "  th {\n",
       "    text-align: left;\n",
       "  }\n",
       "</style><div class='table-result-container'><table class='table-result'><thead style='background-color: white'><tr><th>bad_record</th><th>email</th><th>first_name</th><th>gender</th><th>id</th><th>ip_address</th><th>last_name</th></tr></thead><tbody><tr><td>null</td><td>jpenddreth0@census.gov</td><td>Jeanette</td><td>Female</td><td>1</td><td>26.58.193.2</td><td>Penddreth</td></tr><tr><td>null</td><td>gfrediani1@senate.gov</td><td>Giavani</td><td>Male</td><td>2</td><td>229.179.4.212</td><td>Frediani</td></tr><tr><td>null</td><td>nbea2@imageshack.us</td><td>Noell</td><td>Female</td><td>3</td><td>180.66.162.255</td><td>Bea</td></tr><tr><td>{\"id\": 4,\"first_name\": {,\"last_name\": \"Valek\",\"email\": \"wvalek3@vk.com\",\"gender\": \"Male\",\"ip_address\": \"67.76.188.26\"}</td><td>null</td><td>null</td><td>null</td><td>null</td><td>null</td><td>null</td></tr></tbody></table></div>"
      ]
     },
     "metadata": {
      "application/vnd.databricks.v1+output": {
       "addedWidgets": {},
       "aggData": [],
       "aggError": "",
       "aggOverflow": false,
       "aggSchema": [],
       "aggSeriesLimitReached": false,
       "aggType": "",
       "arguments": {},
       "columnCustomDisplayInfos": {},
       "data": [
        [
         null,
         "jpenddreth0@census.gov",
         "Jeanette",
         "Female",
         1,
         "26.58.193.2",
         "Penddreth"
        ],
        [
         null,
         "gfrediani1@senate.gov",
         "Giavani",
         "Male",
         2,
         "229.179.4.212",
         "Frediani"
        ],
        [
         null,
         "nbea2@imageshack.us",
         "Noell",
         "Female",
         3,
         "180.66.162.255",
         "Bea"
        ],
        [
         "{\"id\": 4,\"first_name\": {,\"last_name\": \"Valek\",\"email\": \"wvalek3@vk.com\",\"gender\": \"Male\",\"ip_address\": \"67.76.188.26\"}",
         null,
         null,
         null,
         null,
         null,
         null
        ]
       ],
       "datasetInfos": [],
       "dbfsResultPath": null,
       "isJsonSchema": true,
       "metadata": {},
       "overflow": false,
       "plotOptions": {
        "customPlotOptions": {},
        "displayType": "table",
        "pivotAggregation": null,
        "pivotColumns": null,
        "xColumns": null,
        "yColumns": null
       },
       "removedWidgets": [],
       "schema": [
        {
         "metadata": "{}",
         "name": "bad_record",
         "type": "\"string\""
        },
        {
         "metadata": "{}",
         "name": "email",
         "type": "\"string\""
        },
        {
         "metadata": "{}",
         "name": "first_name",
         "type": "\"string\""
        },
        {
         "metadata": "{}",
         "name": "gender",
         "type": "\"string\""
        },
        {
         "metadata": "{}",
         "name": "id",
         "type": "\"long\""
        },
        {
         "metadata": "{}",
         "name": "ip_address",
         "type": "\"string\""
        },
        {
         "metadata": "{}",
         "name": "last_name",
         "type": "\"string\""
        }
       ],
       "type": "table"
      }
     },
     "output_type": "display_data"
    }
   ],
   "source": [
    "access_logs = spark.read.option(\"columnNameOfCorruptRecord\", \"bad_record\").json(\n",
    "    path=\"dbfs:/FileStore/synechron009/dataset/access_logs.json\", mode=\"PERMISSIVE\"\n",
    ")\n",
    "access_logs.display()"
   ]
  },
  {
   "cell_type": "markdown",
   "metadata": {
    "application/vnd.databricks.v1+cell": {
     "cellMetadata": {},
     "inputWidgets": {},
     "nuid": "745a0060-a481-4bcf-a1bf-dc9ff192e2d7",
     "showTitle": false,
     "tableResultSettingsMap": {},
     "title": ""
    }
   },
   "source": [
    "### DROPMALFORMED"
   ]
  },
  {
   "cell_type": "code",
   "execution_count": 0,
   "metadata": {
    "application/vnd.databricks.v1+cell": {
     "cellMetadata": {
      "byteLimit": 2048000,
      "rowLimit": 10000
     },
     "inputWidgets": {},
     "nuid": "0a0d45dd-0111-4b31-b58a-7f63894d56aa",
     "showTitle": false,
     "tableResultSettingsMap": {},
     "title": ""
    }
   },
   "outputs": [
    {
     "output_type": "display_data",
     "data": {
      "text/html": [
       "<style scoped>\n",
       "  .table-result-container {\n",
       "    max-height: 300px;\n",
       "    overflow: auto;\n",
       "  }\n",
       "  table, th, td {\n",
       "    border: 1px solid black;\n",
       "    border-collapse: collapse;\n",
       "  }\n",
       "  th, td {\n",
       "    padding: 5px;\n",
       "  }\n",
       "  th {\n",
       "    text-align: left;\n",
       "  }\n",
       "</style><div class='table-result-container'><table class='table-result'><thead style='background-color: white'><tr><th>email</th><th>first_name</th><th>gender</th><th>id</th><th>ip_address</th><th>last_name</th></tr></thead><tbody><tr><td>jpenddreth0@census.gov</td><td>Jeanette</td><td>Female</td><td>1</td><td>26.58.193.2</td><td>Penddreth</td></tr><tr><td>gfrediani1@senate.gov</td><td>Giavani</td><td>Male</td><td>2</td><td>229.179.4.212</td><td>Frediani</td></tr><tr><td>nbea2@imageshack.us</td><td>Noell</td><td>Female</td><td>3</td><td>180.66.162.255</td><td>Bea</td></tr></tbody></table></div>"
      ]
     },
     "metadata": {
      "application/vnd.databricks.v1+output": {
       "addedWidgets": {},
       "aggData": [],
       "aggError": "",
       "aggOverflow": false,
       "aggSchema": [],
       "aggSeriesLimitReached": false,
       "aggType": "",
       "arguments": {},
       "columnCustomDisplayInfos": {},
       "data": [
        [
         "jpenddreth0@census.gov",
         "Jeanette",
         "Female",
         1,
         "26.58.193.2",
         "Penddreth"
        ],
        [
         "gfrediani1@senate.gov",
         "Giavani",
         "Male",
         2,
         "229.179.4.212",
         "Frediani"
        ],
        [
         "nbea2@imageshack.us",
         "Noell",
         "Female",
         3,
         "180.66.162.255",
         "Bea"
        ]
       ],
       "datasetInfos": [],
       "dbfsResultPath": null,
       "isJsonSchema": true,
       "metadata": {},
       "overflow": false,
       "plotOptions": {
        "customPlotOptions": {},
        "displayType": "table",
        "pivotAggregation": null,
        "pivotColumns": null,
        "xColumns": null,
        "yColumns": null
       },
       "removedWidgets": [],
       "schema": [
        {
         "metadata": "{}",
         "name": "email",
         "type": "\"string\""
        },
        {
         "metadata": "{}",
         "name": "first_name",
         "type": "\"string\""
        },
        {
         "metadata": "{}",
         "name": "gender",
         "type": "\"string\""
        },
        {
         "metadata": "{}",
         "name": "id",
         "type": "\"long\""
        },
        {
         "metadata": "{}",
         "name": "ip_address",
         "type": "\"string\""
        },
        {
         "metadata": "{}",
         "name": "last_name",
         "type": "\"string\""
        }
       ],
       "type": "table"
      }
     },
     "output_type": "display_data"
    }
   ],
   "source": [
    "access_logs = spark.read.json(\n",
    "    path=\"dbfs:/FileStore/synechron009/dataset/access_logs.json\", mode=\"DROPMALFORMED\"\n",
    ")\n",
    "access_logs.display()"
   ]
  },
  {
   "cell_type": "markdown",
   "metadata": {
    "application/vnd.databricks.v1+cell": {
     "cellMetadata": {},
     "inputWidgets": {},
     "nuid": "efd60342-c497-42e3-9b30-e85dd9d0bae0",
     "showTitle": false,
     "tableResultSettingsMap": {},
     "title": ""
    }
   },
   "source": [
    "### FAILFAST"
   ]
  },
  {
   "cell_type": "code",
   "execution_count": 0,
   "metadata": {
    "application/vnd.databricks.v1+cell": {
     "cellMetadata": {
      "byteLimit": 2048000,
      "rowLimit": 10000
     },
     "inputWidgets": {},
     "nuid": "03fb5469-cb64-4d41-b11b-0530ea3166dd",
     "showTitle": false,
     "tableResultSettingsMap": {},
     "title": ""
    }
   },
   "outputs": [
    {
     "output_type": "display_data",
     "data": {
      "text/plain": [
       "\u001B[0;31m---------------------------------------------------------------------------\u001B[0m\n",
       "\u001B[0;31mPy4JJavaError\u001B[0m                             Traceback (most recent call last)\n",
       "File \u001B[0;32m<command-3004113653720669>:1\u001B[0m\n",
       "\u001B[0;32m----> 1\u001B[0m access_logs \u001B[38;5;241m=\u001B[39m spark\u001B[38;5;241m.\u001B[39mread\u001B[38;5;241m.\u001B[39mjson(\n",
       "\u001B[1;32m      2\u001B[0m     path\u001B[38;5;241m=\u001B[39m\u001B[38;5;124m\"\u001B[39m\u001B[38;5;124mdbfs:/FileStore/synechron009/dataset/access_logs.json\u001B[39m\u001B[38;5;124m\"\u001B[39m, mode\u001B[38;5;241m=\u001B[39m\u001B[38;5;124m\"\u001B[39m\u001B[38;5;124mFAILFAST\u001B[39m\u001B[38;5;124m\"\u001B[39m\n",
       "\u001B[1;32m      3\u001B[0m )\n",
       "\u001B[1;32m      4\u001B[0m access_logs\u001B[38;5;241m.\u001B[39mdisplay()\n",
       "\n",
       "File \u001B[0;32m/databricks/spark/python/pyspark/instrumentation_utils.py:48\u001B[0m, in \u001B[0;36m_wrap_function.<locals>.wrapper\u001B[0;34m(*args, **kwargs)\u001B[0m\n",
       "\u001B[1;32m     46\u001B[0m start \u001B[38;5;241m=\u001B[39m time\u001B[38;5;241m.\u001B[39mperf_counter()\n",
       "\u001B[1;32m     47\u001B[0m \u001B[38;5;28;01mtry\u001B[39;00m:\n",
       "\u001B[0;32m---> 48\u001B[0m     res \u001B[38;5;241m=\u001B[39m \u001B[43mfunc\u001B[49m\u001B[43m(\u001B[49m\u001B[38;5;241;43m*\u001B[39;49m\u001B[43margs\u001B[49m\u001B[43m,\u001B[49m\u001B[43m \u001B[49m\u001B[38;5;241;43m*\u001B[39;49m\u001B[38;5;241;43m*\u001B[39;49m\u001B[43mkwargs\u001B[49m\u001B[43m)\u001B[49m\n",
       "\u001B[1;32m     49\u001B[0m     logger\u001B[38;5;241m.\u001B[39mlog_success(\n",
       "\u001B[1;32m     50\u001B[0m         module_name, class_name, function_name, time\u001B[38;5;241m.\u001B[39mperf_counter() \u001B[38;5;241m-\u001B[39m start, signature\n",
       "\u001B[1;32m     51\u001B[0m     )\n",
       "\u001B[1;32m     52\u001B[0m     \u001B[38;5;28;01mreturn\u001B[39;00m res\n",
       "\n",
       "File \u001B[0;32m/databricks/spark/python/pyspark/sql/readwriter.py:420\u001B[0m, in \u001B[0;36mDataFrameReader.json\u001B[0;34m(self, path, schema, primitivesAsString, prefersDecimal, allowComments, allowUnquotedFieldNames, allowSingleQuotes, allowNumericLeadingZero, allowBackslashEscapingAnyCharacter, mode, columnNameOfCorruptRecord, dateFormat, timestampFormat, multiLine, allowUnquotedControlChars, lineSep, samplingRatio, dropFieldIfAllNull, encoding, locale, pathGlobFilter, recursiveFileLookup, modifiedBefore, modifiedAfter, allowNonNumericNumbers)\u001B[0m\n",
       "\u001B[1;32m    418\u001B[0m \u001B[38;5;28;01mif\u001B[39;00m \u001B[38;5;28mtype\u001B[39m(path) \u001B[38;5;241m==\u001B[39m \u001B[38;5;28mlist\u001B[39m:\n",
       "\u001B[1;32m    419\u001B[0m     \u001B[38;5;28;01massert\u001B[39;00m \u001B[38;5;28mself\u001B[39m\u001B[38;5;241m.\u001B[39m_spark\u001B[38;5;241m.\u001B[39m_sc\u001B[38;5;241m.\u001B[39m_jvm \u001B[38;5;129;01mis\u001B[39;00m \u001B[38;5;129;01mnot\u001B[39;00m \u001B[38;5;28;01mNone\u001B[39;00m\n",
       "\u001B[0;32m--> 420\u001B[0m     \u001B[38;5;28;01mreturn\u001B[39;00m \u001B[38;5;28mself\u001B[39m\u001B[38;5;241m.\u001B[39m_df(\u001B[38;5;28;43mself\u001B[39;49m\u001B[38;5;241;43m.\u001B[39;49m\u001B[43m_jreader\u001B[49m\u001B[38;5;241;43m.\u001B[39;49m\u001B[43mjson\u001B[49m\u001B[43m(\u001B[49m\u001B[38;5;28;43mself\u001B[39;49m\u001B[38;5;241;43m.\u001B[39;49m\u001B[43m_spark\u001B[49m\u001B[38;5;241;43m.\u001B[39;49m\u001B[43m_sc\u001B[49m\u001B[38;5;241;43m.\u001B[39;49m\u001B[43m_jvm\u001B[49m\u001B[38;5;241;43m.\u001B[39;49m\u001B[43mPythonUtils\u001B[49m\u001B[38;5;241;43m.\u001B[39;49m\u001B[43mtoSeq\u001B[49m\u001B[43m(\u001B[49m\u001B[43mpath\u001B[49m\u001B[43m)\u001B[49m\u001B[43m)\u001B[49m)\n",
       "\u001B[1;32m    421\u001B[0m \u001B[38;5;28;01melif\u001B[39;00m \u001B[38;5;28misinstance\u001B[39m(path, RDD):\n",
       "\u001B[1;32m    423\u001B[0m     \u001B[38;5;28;01mdef\u001B[39;00m \u001B[38;5;21mfunc\u001B[39m(iterator: Iterable) \u001B[38;5;241m-\u001B[39m\u001B[38;5;241m>\u001B[39m Iterable:\n",
       "\n",
       "File \u001B[0;32m/databricks/spark/python/lib/py4j-0.10.9.5-src.zip/py4j/java_gateway.py:1321\u001B[0m, in \u001B[0;36mJavaMember.__call__\u001B[0;34m(self, *args)\u001B[0m\n",
       "\u001B[1;32m   1315\u001B[0m command \u001B[38;5;241m=\u001B[39m proto\u001B[38;5;241m.\u001B[39mCALL_COMMAND_NAME \u001B[38;5;241m+\u001B[39m\\\n",
       "\u001B[1;32m   1316\u001B[0m     \u001B[38;5;28mself\u001B[39m\u001B[38;5;241m.\u001B[39mcommand_header \u001B[38;5;241m+\u001B[39m\\\n",
       "\u001B[1;32m   1317\u001B[0m     args_command \u001B[38;5;241m+\u001B[39m\\\n",
       "\u001B[1;32m   1318\u001B[0m     proto\u001B[38;5;241m.\u001B[39mEND_COMMAND_PART\n",
       "\u001B[1;32m   1320\u001B[0m answer \u001B[38;5;241m=\u001B[39m \u001B[38;5;28mself\u001B[39m\u001B[38;5;241m.\u001B[39mgateway_client\u001B[38;5;241m.\u001B[39msend_command(command)\n",
       "\u001B[0;32m-> 1321\u001B[0m return_value \u001B[38;5;241m=\u001B[39m \u001B[43mget_return_value\u001B[49m\u001B[43m(\u001B[49m\n",
       "\u001B[1;32m   1322\u001B[0m \u001B[43m    \u001B[49m\u001B[43manswer\u001B[49m\u001B[43m,\u001B[49m\u001B[43m \u001B[49m\u001B[38;5;28;43mself\u001B[39;49m\u001B[38;5;241;43m.\u001B[39;49m\u001B[43mgateway_client\u001B[49m\u001B[43m,\u001B[49m\u001B[43m \u001B[49m\u001B[38;5;28;43mself\u001B[39;49m\u001B[38;5;241;43m.\u001B[39;49m\u001B[43mtarget_id\u001B[49m\u001B[43m,\u001B[49m\u001B[43m \u001B[49m\u001B[38;5;28;43mself\u001B[39;49m\u001B[38;5;241;43m.\u001B[39;49m\u001B[43mname\u001B[49m\u001B[43m)\u001B[49m\n",
       "\u001B[1;32m   1324\u001B[0m \u001B[38;5;28;01mfor\u001B[39;00m temp_arg \u001B[38;5;129;01min\u001B[39;00m temp_args:\n",
       "\u001B[1;32m   1325\u001B[0m     temp_arg\u001B[38;5;241m.\u001B[39m_detach()\n",
       "\n",
       "File \u001B[0;32m/databricks/spark/python/pyspark/errors/exceptions.py:228\u001B[0m, in \u001B[0;36mcapture_sql_exception.<locals>.deco\u001B[0;34m(*a, **kw)\u001B[0m\n",
       "\u001B[1;32m    226\u001B[0m \u001B[38;5;28;01mdef\u001B[39;00m \u001B[38;5;21mdeco\u001B[39m(\u001B[38;5;241m*\u001B[39ma: Any, \u001B[38;5;241m*\u001B[39m\u001B[38;5;241m*\u001B[39mkw: Any) \u001B[38;5;241m-\u001B[39m\u001B[38;5;241m>\u001B[39m Any:\n",
       "\u001B[1;32m    227\u001B[0m     \u001B[38;5;28;01mtry\u001B[39;00m:\n",
       "\u001B[0;32m--> 228\u001B[0m         \u001B[38;5;28;01mreturn\u001B[39;00m \u001B[43mf\u001B[49m\u001B[43m(\u001B[49m\u001B[38;5;241;43m*\u001B[39;49m\u001B[43ma\u001B[49m\u001B[43m,\u001B[49m\u001B[43m \u001B[49m\u001B[38;5;241;43m*\u001B[39;49m\u001B[38;5;241;43m*\u001B[39;49m\u001B[43mkw\u001B[49m\u001B[43m)\u001B[49m\n",
       "\u001B[1;32m    229\u001B[0m     \u001B[38;5;28;01mexcept\u001B[39;00m Py4JJavaError \u001B[38;5;28;01mas\u001B[39;00m e:\n",
       "\u001B[1;32m    230\u001B[0m         converted \u001B[38;5;241m=\u001B[39m convert_exception(e\u001B[38;5;241m.\u001B[39mjava_exception)\n",
       "\n",
       "File \u001B[0;32m/databricks/spark/python/lib/py4j-0.10.9.5-src.zip/py4j/protocol.py:326\u001B[0m, in \u001B[0;36mget_return_value\u001B[0;34m(answer, gateway_client, target_id, name)\u001B[0m\n",
       "\u001B[1;32m    324\u001B[0m value \u001B[38;5;241m=\u001B[39m OUTPUT_CONVERTER[\u001B[38;5;28mtype\u001B[39m](answer[\u001B[38;5;241m2\u001B[39m:], gateway_client)\n",
       "\u001B[1;32m    325\u001B[0m \u001B[38;5;28;01mif\u001B[39;00m answer[\u001B[38;5;241m1\u001B[39m] \u001B[38;5;241m==\u001B[39m REFERENCE_TYPE:\n",
       "\u001B[0;32m--> 326\u001B[0m     \u001B[38;5;28;01mraise\u001B[39;00m Py4JJavaError(\n",
       "\u001B[1;32m    327\u001B[0m         \u001B[38;5;124m\"\u001B[39m\u001B[38;5;124mAn error occurred while calling \u001B[39m\u001B[38;5;132;01m{0}\u001B[39;00m\u001B[38;5;132;01m{1}\u001B[39;00m\u001B[38;5;132;01m{2}\u001B[39;00m\u001B[38;5;124m.\u001B[39m\u001B[38;5;130;01m\\n\u001B[39;00m\u001B[38;5;124m\"\u001B[39m\u001B[38;5;241m.\u001B[39m\n",
       "\u001B[1;32m    328\u001B[0m         \u001B[38;5;28mformat\u001B[39m(target_id, \u001B[38;5;124m\"\u001B[39m\u001B[38;5;124m.\u001B[39m\u001B[38;5;124m\"\u001B[39m, name), value)\n",
       "\u001B[1;32m    329\u001B[0m \u001B[38;5;28;01melse\u001B[39;00m:\n",
       "\u001B[1;32m    330\u001B[0m     \u001B[38;5;28;01mraise\u001B[39;00m Py4JError(\n",
       "\u001B[1;32m    331\u001B[0m         \u001B[38;5;124m\"\u001B[39m\u001B[38;5;124mAn error occurred while calling \u001B[39m\u001B[38;5;132;01m{0}\u001B[39;00m\u001B[38;5;132;01m{1}\u001B[39;00m\u001B[38;5;132;01m{2}\u001B[39;00m\u001B[38;5;124m. Trace:\u001B[39m\u001B[38;5;130;01m\\n\u001B[39;00m\u001B[38;5;132;01m{3}\u001B[39;00m\u001B[38;5;130;01m\\n\u001B[39;00m\u001B[38;5;124m\"\u001B[39m\u001B[38;5;241m.\u001B[39m\n",
       "\u001B[1;32m    332\u001B[0m         \u001B[38;5;28mformat\u001B[39m(target_id, \u001B[38;5;124m\"\u001B[39m\u001B[38;5;124m.\u001B[39m\u001B[38;5;124m\"\u001B[39m, name, value))\n",
       "\n",
       "\u001B[0;31mPy4JJavaError\u001B[0m: An error occurred while calling o1364.json.\n",
       ": org.apache.spark.SparkException: Job aborted due to stage failure: Task 0 in stage 33.0 failed 1 times, most recent failure: Lost task 0.0 in stage 33.0 (TID 33) (ip-10-172-212-169.us-west-2.compute.internal executor driver): org.apache.spark.SparkException: Malformed records are detected in schema inference. Parse Mode: FAILFAST.\n",
       "\tat org.apache.spark.sql.errors.QueryExecutionErrors$.malformedRecordsDetectedInSchemaInferenceError(QueryExecutionErrors.scala:1847)\n",
       "\tat org.apache.spark.sql.catalyst.json.JsonInferSchema.handleJsonErrorsByParseMode(JsonInferSchema.scala:64)\n",
       "\tat org.apache.spark.sql.catalyst.json.JsonInferSchema.$anonfun$infer$2(JsonInferSchema.scala:93)\n",
       "\tat scala.collection.Iterator$$anon$11.nextCur(Iterator.scala:486)\n",
       "\tat scala.collection.Iterator$$anon$11.hasNext(Iterator.scala:492)\n",
       "\tat scala.collection.Iterator.foreach(Iterator.scala:943)\n",
       "\tat scala.collection.Iterator.foreach$(Iterator.scala:943)\n",
       "\tat scala.collection.AbstractIterator.foreach(Iterator.scala:1431)\n",
       "\tat scala.collection.TraversableOnce.reduceLeft(TraversableOnce.scala:237)\n",
       "\tat scala.collection.TraversableOnce.reduceLeft$(TraversableOnce.scala:220)\n",
       "\tat scala.collection.AbstractIterator.reduceLeft(Iterator.scala:1431)\n",
       "\tat scala.collection.TraversableOnce.reduceLeftOption(TraversableOnce.scala:249)\n",
       "\tat scala.collection.TraversableOnce.reduceLeftOption$(TraversableOnce.scala:248)\n",
       "\tat scala.collection.AbstractIterator.reduceLeftOption(Iterator.scala:1431)\n",
       "\tat scala.collection.TraversableOnce.reduceOption(TraversableOnce.scala:256)\n",
       "\tat scala.collection.TraversableOnce.reduceOption$(TraversableOnce.scala:256)\n",
       "\tat scala.collection.AbstractIterator.reduceOption(Iterator.scala:1431)\n",
       "\tat org.apache.spark.sql.catalyst.json.JsonInferSchema.$anonfun$infer$1(JsonInferSchema.scala:103)\n",
       "\tat org.apache.spark.rdd.RDD.$anonfun$mapPartitions$2(RDD.scala:894)\n",
       "\tat org.apache.spark.rdd.RDD.$anonfun$mapPartitions$2$adapted(RDD.scala:894)\n",
       "\tat org.apache.spark.rdd.MapPartitionsRDD.compute(MapPartitionsRDD.scala:60)\n",
       "\tat org.apache.spark.rdd.RDD.computeOrReadCheckpoint(RDD.scala:406)\n",
       "\tat org.apache.spark.rdd.RDD.iterator(RDD.scala:370)\n",
       "\tat org.apache.spark.scheduler.ResultTask.$anonfun$runTask$3(ResultTask.scala:75)\n",
       "\tat com.databricks.spark.util.ExecutorFrameProfiler$.record(ExecutorFrameProfiler.scala:110)\n",
       "\tat org.apache.spark.scheduler.ResultTask.$anonfun$runTask$1(ResultTask.scala:75)\n",
       "\tat com.databricks.spark.util.ExecutorFrameProfiler$.record(ExecutorFrameProfiler.scala:110)\n",
       "\tat org.apache.spark.scheduler.ResultTask.runTask(ResultTask.scala:55)\n",
       "\tat org.apache.spark.scheduler.Task.doRunTask(Task.scala:179)\n",
       "\tat org.apache.spark.scheduler.Task.$anonfun$run$5(Task.scala:142)\n",
       "\tat com.databricks.unity.EmptyHandle$.runWithAndClose(UCSHandle.scala:126)\n",
       "\tat org.apache.spark.scheduler.Task.$anonfun$run$1(Task.scala:142)\n",
       "\tat com.databricks.spark.util.ExecutorFrameProfiler$.record(ExecutorFrameProfiler.scala:110)\n",
       "\tat org.apache.spark.scheduler.Task.run(Task.scala:97)\n",
       "\tat org.apache.spark.executor.Executor$TaskRunner.$anonfun$run$13(Executor.scala:904)\n",
       "\tat org.apache.spark.util.Utils$.tryWithSafeFinally(Utils.scala:1741)\n",
       "\tat org.apache.spark.executor.Executor$TaskRunner.$anonfun$run$4(Executor.scala:907)\n",
       "\tat scala.runtime.java8.JFunction0$mcV$sp.apply(JFunction0$mcV$sp.java:23)\n",
       "\tat com.databricks.spark.util.ExecutorFrameProfiler$.record(ExecutorFrameProfiler.scala:110)\n",
       "\tat org.apache.spark.executor.Executor$TaskRunner.run(Executor.scala:761)\n",
       "\tat java.util.concurrent.ThreadPoolExecutor.runWorker(ThreadPoolExecutor.java:1149)\n",
       "\tat java.util.concurrent.ThreadPoolExecutor$Worker.run(ThreadPoolExecutor.java:624)\n",
       "\tat java.lang.Thread.run(Thread.java:750)\n",
       "Caused by: com.fasterxml.jackson.core.JsonParseException: Unexpected character (',' (code 44)): was expecting double-quote to start field name\n",
       " at [Source: (byte[])\"{\"id\": 4,\"first_name\": {,\"last_name\": \"Valek\",\"email\": \"wvalek3@vk.com\",\"gender\": \"Male\",\"ip_address\": \"67.76.188.26\"}\"; line: 1, column: 26]\n",
       "\tat com.fasterxml.jackson.core.JsonParser._constructError(JsonParser.java:2391)\n",
       "\tat com.fasterxml.jackson.core.base.ParserMinimalBase._reportError(ParserMinimalBase.java:735)\n",
       "\tat com.fasterxml.jackson.core.base.ParserMinimalBase._reportUnexpectedChar(ParserMinimalBase.java:659)\n",
       "\tat com.fasterxml.jackson.core.json.UTF8StreamJsonParser._handleOddName(UTF8StreamJsonParser.java:2096)\n",
       "\tat com.fasterxml.jackson.core.json.UTF8StreamJsonParser._parseName(UTF8StreamJsonParser.java:1746)\n",
       "\tat com.fasterxml.jackson.core.json.UTF8StreamJsonParser.nextToken(UTF8StreamJsonParser.java:798)\n",
       "\tat org.apache.spark.sql.catalyst.json.JacksonUtils$.nextUntil(JacksonUtils.scala:32)\n",
       "\tat org.apache.spark.sql.catalyst.json.JsonInferSchema.inferField(JsonInferSchema.scala:165)\n",
       "\tat org.apache.spark.sql.catalyst.json.JsonInferSchema.inferField(JsonInferSchema.scala:134)\n",
       "\tat org.apache.spark.sql.catalyst.json.JsonInferSchema.inferField(JsonInferSchema.scala:168)\n",
       "\tat org.apache.spark.sql.catalyst.json.JsonInferSchema.$anonfun$infer$4(JsonInferSchema.scala:88)\n",
       "\tat org.apache.spark.util.Utils$.tryWithResource(Utils.scala:3183)\n",
       "\tat org.apache.spark.sql.catalyst.json.JsonInferSchema.$anonfun$infer$2(JsonInferSchema.scala:86)\n",
       "\t... 40 more\n",
       "\n",
       "Driver stacktrace:\n",
       "\tat org.apache.spark.scheduler.DAGScheduler.failJobAndIndependentStages(DAGScheduler.scala:3440)\n",
       "\tat org.apache.spark.scheduler.DAGScheduler.$anonfun$abortStage$2(DAGScheduler.scala:3362)\n",
       "\tat org.apache.spark.scheduler.DAGScheduler.$anonfun$abortStage$2$adapted(DAGScheduler.scala:3351)\n",
       "\tat scala.collection.mutable.ResizableArray.foreach(ResizableArray.scala:62)\n",
       "\tat scala.collection.mutable.ResizableArray.foreach$(ResizableArray.scala:55)\n",
       "\tat scala.collection.mutable.ArrayBuffer.foreach(ArrayBuffer.scala:49)\n",
       "\tat org.apache.spark.scheduler.DAGScheduler.abortStage(DAGScheduler.scala:3351)\n",
       "\tat org.apache.spark.scheduler.DAGScheduler.$anonfun$handleTaskSetFailed$1(DAGScheduler.scala:1460)\n",
       "\tat org.apache.spark.scheduler.DAGScheduler.$anonfun$handleTaskSetFailed$1$adapted(DAGScheduler.scala:1460)\n",
       "\tat scala.Option.foreach(Option.scala:407)\n",
       "\tat org.apache.spark.scheduler.DAGScheduler.handleTaskSetFailed(DAGScheduler.scala:1460)\n",
       "\tat org.apache.spark.scheduler.DAGSchedulerEventProcessLoop.doOnReceive(DAGScheduler.scala:3651)\n",
       "\tat org.apache.spark.scheduler.DAGSchedulerEventProcessLoop.onReceive(DAGScheduler.scala:3589)\n",
       "\tat org.apache.spark.scheduler.DAGSchedulerEventProcessLoop.onReceive(DAGScheduler.scala:3577)\n",
       "\tat org.apache.spark.util.EventLoop$$anon$1.run(EventLoop.scala:51)\n",
       "\tat org.apache.spark.scheduler.DAGScheduler.$anonfun$runJob$1(DAGScheduler.scala:1209)\n",
       "\tat scala.runtime.java8.JFunction0$mcV$sp.apply(JFunction0$mcV$sp.java:23)\n",
       "\tat com.databricks.spark.util.FrameProfiler$.record(FrameProfiler.scala:80)\n",
       "\tat org.apache.spark.scheduler.DAGScheduler.runJob(DAGScheduler.scala:1197)\n",
       "\tat org.apache.spark.SparkContext.runJobInternal(SparkContext.scala:2758)\n",
       "\tat org.apache.spark.SparkContext.runJob(SparkContext.scala:2741)\n",
       "\tat org.apache.spark.SparkContext.runJob(SparkContext.scala:2853)\n",
       "\tat org.apache.spark.sql.catalyst.json.JsonInferSchema.infer(JsonInferSchema.scala:116)\n",
       "\tat org.apache.spark.sql.execution.datasources.json.TextInputJsonDataSource$.$anonfun$inferFromDataset$1(JsonDataSource.scala:134)\n",
       "\tat org.apache.spark.sql.execution.SQLExecution$.withSQLConfPropagated(SQLExecution.scala:448)\n",
       "\tat org.apache.spark.sql.execution.datasources.json.TextInputJsonDataSource$.inferFromDataset(JsonDataSource.scala:134)\n",
       "\tat org.apache.spark.sql.execution.datasources.json.TextInputJsonDataSource$.infer(JsonDataSource.scala:125)\n",
       "\tat org.apache.spark.sql.execution.datasources.json.JsonDataSource.inferSchema(JsonDataSource.scala:81)\n",
       "\tat org.apache.spark.sql.execution.datasources.json.JsonFileFormat.inferSchema(JsonFileFormat.scala:59)\n",
       "\tat org.apache.spark.sql.execution.datasources.DataSource.$anonfun$getOrInferFileFormatSchema$11(DataSource.scala:237)\n",
       "\tat scala.Option.orElse(Option.scala:447)\n",
       "\tat org.apache.spark.sql.execution.datasources.DataSource.getOrInferFileFormatSchema(DataSource.scala:230)\n",
       "\tat org.apache.spark.sql.execution.datasources.DataSource.resolveRelation(DataSource.scala:462)\n",
       "\tat org.apache.spark.sql.DataFrameReader.loadV1Source(DataFrameReader.scala:378)\n",
       "\tat org.apache.spark.sql.DataFrameReader.$anonfun$load$2(DataFrameReader.scala:334)\n",
       "\tat scala.Option.getOrElse(Option.scala:189)\n",
       "\tat org.apache.spark.sql.DataFrameReader.load(DataFrameReader.scala:334)\n",
       "\tat org.apache.spark.sql.DataFrameReader.json(DataFrameReader.scala:512)\n",
       "\tat sun.reflect.NativeMethodAccessorImpl.invoke0(Native Method)\n",
       "\tat sun.reflect.NativeMethodAccessorImpl.invoke(NativeMethodAccessorImpl.java:62)\n",
       "\tat sun.reflect.DelegatingMethodAccessorImpl.invoke(DelegatingMethodAccessorImpl.java:43)\n",
       "\tat java.lang.reflect.Method.invoke(Method.java:498)\n",
       "\tat py4j.reflection.MethodInvoker.invoke(MethodInvoker.java:244)\n",
       "\tat py4j.reflection.ReflectionEngine.invoke(ReflectionEngine.java:380)\n",
       "\tat py4j.Gateway.invoke(Gateway.java:306)\n",
       "\tat py4j.commands.AbstractCommand.invokeMethod(AbstractCommand.java:132)\n",
       "\tat py4j.commands.CallCommand.execute(CallCommand.java:79)\n",
       "\tat py4j.ClientServerConnection.waitForCommands(ClientServerConnection.java:195)\n",
       "\tat py4j.ClientServerConnection.run(ClientServerConnection.java:115)\n",
       "\tat java.lang.Thread.run(Thread.java:750)\n",
       "Caused by: org.apache.spark.SparkException: Malformed records are detected in schema inference. Parse Mode: FAILFAST.\n",
       "\tat org.apache.spark.sql.errors.QueryExecutionErrors$.malformedRecordsDetectedInSchemaInferenceError(QueryExecutionErrors.scala:1847)\n",
       "\tat org.apache.spark.sql.catalyst.json.JsonInferSchema.handleJsonErrorsByParseMode(JsonInferSchema.scala:64)\n",
       "\tat org.apache.spark.sql.catalyst.json.JsonInferSchema.$anonfun$infer$2(JsonInferSchema.scala:93)\n",
       "\tat scala.collection.Iterator$$anon$11.nextCur(Iterator.scala:486)\n",
       "\tat scala.collection.Iterator$$anon$11.hasNext(Iterator.scala:492)\n",
       "\tat scala.collection.Iterator.foreach(Iterator.scala:943)\n",
       "\tat scala.collection.Iterator.foreach$(Iterator.scala:943)\n",
       "\tat scala.collection.AbstractIterator.foreach(Iterator.scala:1431)\n",
       "\tat scala.collection.TraversableOnce.reduceLeft(TraversableOnce.scala:237)\n",
       "\tat scala.collection.TraversableOnce.reduceLeft$(TraversableOnce.scala:220)\n",
       "\tat scala.collection.AbstractIterator.reduceLeft(Iterator.scala:1431)\n",
       "\tat scala.collection.TraversableOnce.reduceLeftOption(TraversableOnce.scala:249)\n",
       "\tat scala.collection.TraversableOnce.reduceLeftOption$(TraversableOnce.scala:248)\n",
       "\tat scala.collection.AbstractIterator.reduceLeftOption(Iterator.scala:1431)\n",
       "\tat scala.collection.TraversableOnce.reduceOption(TraversableOnce.scala:256)\n",
       "\tat scala.collection.TraversableOnce.reduceOption$(TraversableOnce.scala:256)\n",
       "\tat scala.collection.AbstractIterator.reduceOption(Iterator.scala:1431)\n",
       "\tat org.apache.spark.sql.catalyst.json.JsonInferSchema.$anonfun$infer$1(JsonInferSchema.scala:103)\n",
       "\tat org.apache.spark.rdd.RDD.$anonfun$mapPartitions$2(RDD.scala:894)\n",
       "\tat org.apache.spark.rdd.RDD.$anonfun$mapPartitions$2$adapted(RDD.scala:894)\n",
       "\tat org.apache.spark.rdd.MapPartitionsRDD.compute(MapPartitionsRDD.scala:60)\n",
       "\tat org.apache.spark.rdd.RDD.computeOrReadCheckpoint(RDD.scala:406)\n",
       "\tat org.apache.spark.rdd.RDD.iterator(RDD.scala:370)\n",
       "\tat org.apache.spark.scheduler.ResultTask.$anonfun$runTask$3(ResultTask.scala:75)\n",
       "\tat com.databricks.spark.util.ExecutorFrameProfiler$.record(ExecutorFrameProfiler.scala:110)\n",
       "\tat org.apache.spark.scheduler.ResultTask.$anonfun$runTask$1(ResultTask.scala:75)\n",
       "\tat com.databricks.spark.util.ExecutorFrameProfiler$.record(ExecutorFrameProfiler.scala:110)\n",
       "\tat org.apache.spark.scheduler.ResultTask.runTask(ResultTask.scala:55)\n",
       "\tat org.apache.spark.scheduler.Task.doRunTask(Task.scala:179)\n",
       "\tat org.apache.spark.scheduler.Task.$anonfun$run$5(Task.scala:142)\n",
       "\tat com.databricks.unity.EmptyHandle$.runWithAndClose(UCSHandle.scala:126)\n",
       "\tat org.apache.spark.scheduler.Task.$anonfun$run$1(Task.scala:142)\n",
       "\tat com.databricks.spark.util.ExecutorFrameProfiler$.record(ExecutorFrameProfiler.scala:110)\n",
       "\tat org.apache.spark.scheduler.Task.run(Task.scala:97)\n",
       "\tat org.apache.spark.executor.Executor$TaskRunner.$anonfun$run$13(Executor.scala:904)\n",
       "\tat org.apache.spark.util.Utils$.tryWithSafeFinally(Utils.scala:1741)\n",
       "\tat org.apache.spark.executor.Executor$TaskRunner.$anonfun$run$4(Executor.scala:907)\n",
       "\tat scala.runtime.java8.JFunction0$mcV$sp.apply(JFunction0$mcV$sp.java:23)\n",
       "\tat com.databricks.spark.util.ExecutorFrameProfiler$.record(ExecutorFrameProfiler.scala:110)\n",
       "\tat org.apache.spark.executor.Executor$TaskRunner.run(Executor.scala:761)\n",
       "\tat java.util.concurrent.ThreadPoolExecutor.runWorker(ThreadPoolExecutor.java:1149)\n",
       "\tat java.util.concurrent.ThreadPoolExecutor$Worker.run(ThreadPoolExecutor.java:624)\n",
       "\t... 1 more\n",
       "Caused by: com.fasterxml.jackson.core.JsonParseException: Unexpected character (',' (code 44)): was expecting double-quote to start field name\n",
       " at [Source: UNKNOWN; line: 1, column: 26]\n",
       "\tat com.fasterxml.jackson.core.JsonParser._constructError(JsonParser.java:2391)\n",
       "\tat com.fasterxml.jackson.core.base.ParserMinimalBase._reportError(ParserMinimalBase.java:735)\n",
       "\tat com.fasterxml.jackson.core.base.ParserMinimalBase._reportUnexpectedChar(ParserMinimalBase.java:659)\n",
       "\tat com.fasterxml.jackson.core.json.UTF8StreamJsonParser._handleOddName(UTF8StreamJsonParser.java:2096)\n",
       "\tat com.fasterxml.jackson.core.json.UTF8StreamJsonParser._parseName(UTF8StreamJsonParser.java:1746)\n",
       "\tat com.fasterxml.jackson.core.json.UTF8StreamJsonParser.nextToken(UTF8StreamJsonParser.java:798)\n",
       "\tat org.apache.spark.sql.catalyst.json.JacksonUtils$.nextUntil(JacksonUtils.scala:32)\n",
       "\tat org.apache.spark.sql.catalyst.json.JsonInferSchema.inferField(JsonInferSchema.scala:165)\n",
       "\tat org.apache.spark.sql.catalyst.json.JsonInferSchema.inferField(JsonInferSchema.scala:134)\n",
       "\tat org.apache.spark.sql.catalyst.json.JsonInferSchema.inferField(JsonInferSchema.scala:168)\n",
       "\tat org.apache.spark.sql.catalyst.json.JsonInferSchema.$anonfun$infer$4(JsonInferSchema.scala:88)\n",
       "\tat org.apache.spark.util.Utils$.tryWithResource(Utils.scala:3183)\n",
       "\tat org.apache.spark.sql.catalyst.json.JsonInferSchema.$anonfun$infer$2(JsonInferSchema.scala:86)\n",
       "\t... 40 more\n"
      ]
     },
     "metadata": {
      "application/vnd.databricks.v1+output": {
       "arguments": {},
       "data": "\u001B[0;31m---------------------------------------------------------------------------\u001B[0m\n\u001B[0;31mPy4JJavaError\u001B[0m                             Traceback (most recent call last)\nFile \u001B[0;32m<command-3004113653720669>:1\u001B[0m\n\u001B[0;32m----> 1\u001B[0m access_logs \u001B[38;5;241m=\u001B[39m spark\u001B[38;5;241m.\u001B[39mread\u001B[38;5;241m.\u001B[39mjson(\n\u001B[1;32m      2\u001B[0m     path\u001B[38;5;241m=\u001B[39m\u001B[38;5;124m\"\u001B[39m\u001B[38;5;124mdbfs:/FileStore/synechron009/dataset/access_logs.json\u001B[39m\u001B[38;5;124m\"\u001B[39m, mode\u001B[38;5;241m=\u001B[39m\u001B[38;5;124m\"\u001B[39m\u001B[38;5;124mFAILFAST\u001B[39m\u001B[38;5;124m\"\u001B[39m\n\u001B[1;32m      3\u001B[0m )\n\u001B[1;32m      4\u001B[0m access_logs\u001B[38;5;241m.\u001B[39mdisplay()\n\nFile \u001B[0;32m/databricks/spark/python/pyspark/instrumentation_utils.py:48\u001B[0m, in \u001B[0;36m_wrap_function.<locals>.wrapper\u001B[0;34m(*args, **kwargs)\u001B[0m\n\u001B[1;32m     46\u001B[0m start \u001B[38;5;241m=\u001B[39m time\u001B[38;5;241m.\u001B[39mperf_counter()\n\u001B[1;32m     47\u001B[0m \u001B[38;5;28;01mtry\u001B[39;00m:\n\u001B[0;32m---> 48\u001B[0m     res \u001B[38;5;241m=\u001B[39m \u001B[43mfunc\u001B[49m\u001B[43m(\u001B[49m\u001B[38;5;241;43m*\u001B[39;49m\u001B[43margs\u001B[49m\u001B[43m,\u001B[49m\u001B[43m \u001B[49m\u001B[38;5;241;43m*\u001B[39;49m\u001B[38;5;241;43m*\u001B[39;49m\u001B[43mkwargs\u001B[49m\u001B[43m)\u001B[49m\n\u001B[1;32m     49\u001B[0m     logger\u001B[38;5;241m.\u001B[39mlog_success(\n\u001B[1;32m     50\u001B[0m         module_name, class_name, function_name, time\u001B[38;5;241m.\u001B[39mperf_counter() \u001B[38;5;241m-\u001B[39m start, signature\n\u001B[1;32m     51\u001B[0m     )\n\u001B[1;32m     52\u001B[0m     \u001B[38;5;28;01mreturn\u001B[39;00m res\n\nFile \u001B[0;32m/databricks/spark/python/pyspark/sql/readwriter.py:420\u001B[0m, in \u001B[0;36mDataFrameReader.json\u001B[0;34m(self, path, schema, primitivesAsString, prefersDecimal, allowComments, allowUnquotedFieldNames, allowSingleQuotes, allowNumericLeadingZero, allowBackslashEscapingAnyCharacter, mode, columnNameOfCorruptRecord, dateFormat, timestampFormat, multiLine, allowUnquotedControlChars, lineSep, samplingRatio, dropFieldIfAllNull, encoding, locale, pathGlobFilter, recursiveFileLookup, modifiedBefore, modifiedAfter, allowNonNumericNumbers)\u001B[0m\n\u001B[1;32m    418\u001B[0m \u001B[38;5;28;01mif\u001B[39;00m \u001B[38;5;28mtype\u001B[39m(path) \u001B[38;5;241m==\u001B[39m \u001B[38;5;28mlist\u001B[39m:\n\u001B[1;32m    419\u001B[0m     \u001B[38;5;28;01massert\u001B[39;00m \u001B[38;5;28mself\u001B[39m\u001B[38;5;241m.\u001B[39m_spark\u001B[38;5;241m.\u001B[39m_sc\u001B[38;5;241m.\u001B[39m_jvm \u001B[38;5;129;01mis\u001B[39;00m \u001B[38;5;129;01mnot\u001B[39;00m \u001B[38;5;28;01mNone\u001B[39;00m\n\u001B[0;32m--> 420\u001B[0m     \u001B[38;5;28;01mreturn\u001B[39;00m \u001B[38;5;28mself\u001B[39m\u001B[38;5;241m.\u001B[39m_df(\u001B[38;5;28;43mself\u001B[39;49m\u001B[38;5;241;43m.\u001B[39;49m\u001B[43m_jreader\u001B[49m\u001B[38;5;241;43m.\u001B[39;49m\u001B[43mjson\u001B[49m\u001B[43m(\u001B[49m\u001B[38;5;28;43mself\u001B[39;49m\u001B[38;5;241;43m.\u001B[39;49m\u001B[43m_spark\u001B[49m\u001B[38;5;241;43m.\u001B[39;49m\u001B[43m_sc\u001B[49m\u001B[38;5;241;43m.\u001B[39;49m\u001B[43m_jvm\u001B[49m\u001B[38;5;241;43m.\u001B[39;49m\u001B[43mPythonUtils\u001B[49m\u001B[38;5;241;43m.\u001B[39;49m\u001B[43mtoSeq\u001B[49m\u001B[43m(\u001B[49m\u001B[43mpath\u001B[49m\u001B[43m)\u001B[49m\u001B[43m)\u001B[49m)\n\u001B[1;32m    421\u001B[0m \u001B[38;5;28;01melif\u001B[39;00m \u001B[38;5;28misinstance\u001B[39m(path, RDD):\n\u001B[1;32m    423\u001B[0m     \u001B[38;5;28;01mdef\u001B[39;00m \u001B[38;5;21mfunc\u001B[39m(iterator: Iterable) \u001B[38;5;241m-\u001B[39m\u001B[38;5;241m>\u001B[39m Iterable:\n\nFile \u001B[0;32m/databricks/spark/python/lib/py4j-0.10.9.5-src.zip/py4j/java_gateway.py:1321\u001B[0m, in \u001B[0;36mJavaMember.__call__\u001B[0;34m(self, *args)\u001B[0m\n\u001B[1;32m   1315\u001B[0m command \u001B[38;5;241m=\u001B[39m proto\u001B[38;5;241m.\u001B[39mCALL_COMMAND_NAME \u001B[38;5;241m+\u001B[39m\\\n\u001B[1;32m   1316\u001B[0m     \u001B[38;5;28mself\u001B[39m\u001B[38;5;241m.\u001B[39mcommand_header \u001B[38;5;241m+\u001B[39m\\\n\u001B[1;32m   1317\u001B[0m     args_command \u001B[38;5;241m+\u001B[39m\\\n\u001B[1;32m   1318\u001B[0m     proto\u001B[38;5;241m.\u001B[39mEND_COMMAND_PART\n\u001B[1;32m   1320\u001B[0m answer \u001B[38;5;241m=\u001B[39m \u001B[38;5;28mself\u001B[39m\u001B[38;5;241m.\u001B[39mgateway_client\u001B[38;5;241m.\u001B[39msend_command(command)\n\u001B[0;32m-> 1321\u001B[0m return_value \u001B[38;5;241m=\u001B[39m \u001B[43mget_return_value\u001B[49m\u001B[43m(\u001B[49m\n\u001B[1;32m   1322\u001B[0m \u001B[43m    \u001B[49m\u001B[43manswer\u001B[49m\u001B[43m,\u001B[49m\u001B[43m \u001B[49m\u001B[38;5;28;43mself\u001B[39;49m\u001B[38;5;241;43m.\u001B[39;49m\u001B[43mgateway_client\u001B[49m\u001B[43m,\u001B[49m\u001B[43m \u001B[49m\u001B[38;5;28;43mself\u001B[39;49m\u001B[38;5;241;43m.\u001B[39;49m\u001B[43mtarget_id\u001B[49m\u001B[43m,\u001B[49m\u001B[43m \u001B[49m\u001B[38;5;28;43mself\u001B[39;49m\u001B[38;5;241;43m.\u001B[39;49m\u001B[43mname\u001B[49m\u001B[43m)\u001B[49m\n\u001B[1;32m   1324\u001B[0m \u001B[38;5;28;01mfor\u001B[39;00m temp_arg \u001B[38;5;129;01min\u001B[39;00m temp_args:\n\u001B[1;32m   1325\u001B[0m     temp_arg\u001B[38;5;241m.\u001B[39m_detach()\n\nFile \u001B[0;32m/databricks/spark/python/pyspark/errors/exceptions.py:228\u001B[0m, in \u001B[0;36mcapture_sql_exception.<locals>.deco\u001B[0;34m(*a, **kw)\u001B[0m\n\u001B[1;32m    226\u001B[0m \u001B[38;5;28;01mdef\u001B[39;00m \u001B[38;5;21mdeco\u001B[39m(\u001B[38;5;241m*\u001B[39ma: Any, \u001B[38;5;241m*\u001B[39m\u001B[38;5;241m*\u001B[39mkw: Any) \u001B[38;5;241m-\u001B[39m\u001B[38;5;241m>\u001B[39m Any:\n\u001B[1;32m    227\u001B[0m     \u001B[38;5;28;01mtry\u001B[39;00m:\n\u001B[0;32m--> 228\u001B[0m         \u001B[38;5;28;01mreturn\u001B[39;00m \u001B[43mf\u001B[49m\u001B[43m(\u001B[49m\u001B[38;5;241;43m*\u001B[39;49m\u001B[43ma\u001B[49m\u001B[43m,\u001B[49m\u001B[43m \u001B[49m\u001B[38;5;241;43m*\u001B[39;49m\u001B[38;5;241;43m*\u001B[39;49m\u001B[43mkw\u001B[49m\u001B[43m)\u001B[49m\n\u001B[1;32m    229\u001B[0m     \u001B[38;5;28;01mexcept\u001B[39;00m Py4JJavaError \u001B[38;5;28;01mas\u001B[39;00m e:\n\u001B[1;32m    230\u001B[0m         converted \u001B[38;5;241m=\u001B[39m convert_exception(e\u001B[38;5;241m.\u001B[39mjava_exception)\n\nFile \u001B[0;32m/databricks/spark/python/lib/py4j-0.10.9.5-src.zip/py4j/protocol.py:326\u001B[0m, in \u001B[0;36mget_return_value\u001B[0;34m(answer, gateway_client, target_id, name)\u001B[0m\n\u001B[1;32m    324\u001B[0m value \u001B[38;5;241m=\u001B[39m OUTPUT_CONVERTER[\u001B[38;5;28mtype\u001B[39m](answer[\u001B[38;5;241m2\u001B[39m:], gateway_client)\n\u001B[1;32m    325\u001B[0m \u001B[38;5;28;01mif\u001B[39;00m answer[\u001B[38;5;241m1\u001B[39m] \u001B[38;5;241m==\u001B[39m REFERENCE_TYPE:\n\u001B[0;32m--> 326\u001B[0m     \u001B[38;5;28;01mraise\u001B[39;00m Py4JJavaError(\n\u001B[1;32m    327\u001B[0m         \u001B[38;5;124m\"\u001B[39m\u001B[38;5;124mAn error occurred while calling \u001B[39m\u001B[38;5;132;01m{0}\u001B[39;00m\u001B[38;5;132;01m{1}\u001B[39;00m\u001B[38;5;132;01m{2}\u001B[39;00m\u001B[38;5;124m.\u001B[39m\u001B[38;5;130;01m\\n\u001B[39;00m\u001B[38;5;124m\"\u001B[39m\u001B[38;5;241m.\u001B[39m\n\u001B[1;32m    328\u001B[0m         \u001B[38;5;28mformat\u001B[39m(target_id, \u001B[38;5;124m\"\u001B[39m\u001B[38;5;124m.\u001B[39m\u001B[38;5;124m\"\u001B[39m, name), value)\n\u001B[1;32m    329\u001B[0m \u001B[38;5;28;01melse\u001B[39;00m:\n\u001B[1;32m    330\u001B[0m     \u001B[38;5;28;01mraise\u001B[39;00m Py4JError(\n\u001B[1;32m    331\u001B[0m         \u001B[38;5;124m\"\u001B[39m\u001B[38;5;124mAn error occurred while calling \u001B[39m\u001B[38;5;132;01m{0}\u001B[39;00m\u001B[38;5;132;01m{1}\u001B[39;00m\u001B[38;5;132;01m{2}\u001B[39;00m\u001B[38;5;124m. Trace:\u001B[39m\u001B[38;5;130;01m\\n\u001B[39;00m\u001B[38;5;132;01m{3}\u001B[39;00m\u001B[38;5;130;01m\\n\u001B[39;00m\u001B[38;5;124m\"\u001B[39m\u001B[38;5;241m.\u001B[39m\n\u001B[1;32m    332\u001B[0m         \u001B[38;5;28mformat\u001B[39m(target_id, \u001B[38;5;124m\"\u001B[39m\u001B[38;5;124m.\u001B[39m\u001B[38;5;124m\"\u001B[39m, name, value))\n\n\u001B[0;31mPy4JJavaError\u001B[0m: An error occurred while calling o1364.json.\n: org.apache.spark.SparkException: Job aborted due to stage failure: Task 0 in stage 33.0 failed 1 times, most recent failure: Lost task 0.0 in stage 33.0 (TID 33) (ip-10-172-212-169.us-west-2.compute.internal executor driver): org.apache.spark.SparkException: Malformed records are detected in schema inference. Parse Mode: FAILFAST.\n\tat org.apache.spark.sql.errors.QueryExecutionErrors$.malformedRecordsDetectedInSchemaInferenceError(QueryExecutionErrors.scala:1847)\n\tat org.apache.spark.sql.catalyst.json.JsonInferSchema.handleJsonErrorsByParseMode(JsonInferSchema.scala:64)\n\tat org.apache.spark.sql.catalyst.json.JsonInferSchema.$anonfun$infer$2(JsonInferSchema.scala:93)\n\tat scala.collection.Iterator$$anon$11.nextCur(Iterator.scala:486)\n\tat scala.collection.Iterator$$anon$11.hasNext(Iterator.scala:492)\n\tat scala.collection.Iterator.foreach(Iterator.scala:943)\n\tat scala.collection.Iterator.foreach$(Iterator.scala:943)\n\tat scala.collection.AbstractIterator.foreach(Iterator.scala:1431)\n\tat scala.collection.TraversableOnce.reduceLeft(TraversableOnce.scala:237)\n\tat scala.collection.TraversableOnce.reduceLeft$(TraversableOnce.scala:220)\n\tat scala.collection.AbstractIterator.reduceLeft(Iterator.scala:1431)\n\tat scala.collection.TraversableOnce.reduceLeftOption(TraversableOnce.scala:249)\n\tat scala.collection.TraversableOnce.reduceLeftOption$(TraversableOnce.scala:248)\n\tat scala.collection.AbstractIterator.reduceLeftOption(Iterator.scala:1431)\n\tat scala.collection.TraversableOnce.reduceOption(TraversableOnce.scala:256)\n\tat scala.collection.TraversableOnce.reduceOption$(TraversableOnce.scala:256)\n\tat scala.collection.AbstractIterator.reduceOption(Iterator.scala:1431)\n\tat org.apache.spark.sql.catalyst.json.JsonInferSchema.$anonfun$infer$1(JsonInferSchema.scala:103)\n\tat org.apache.spark.rdd.RDD.$anonfun$mapPartitions$2(RDD.scala:894)\n\tat org.apache.spark.rdd.RDD.$anonfun$mapPartitions$2$adapted(RDD.scala:894)\n\tat org.apache.spark.rdd.MapPartitionsRDD.compute(MapPartitionsRDD.scala:60)\n\tat org.apache.spark.rdd.RDD.computeOrReadCheckpoint(RDD.scala:406)\n\tat org.apache.spark.rdd.RDD.iterator(RDD.scala:370)\n\tat org.apache.spark.scheduler.ResultTask.$anonfun$runTask$3(ResultTask.scala:75)\n\tat com.databricks.spark.util.ExecutorFrameProfiler$.record(ExecutorFrameProfiler.scala:110)\n\tat org.apache.spark.scheduler.ResultTask.$anonfun$runTask$1(ResultTask.scala:75)\n\tat com.databricks.spark.util.ExecutorFrameProfiler$.record(ExecutorFrameProfiler.scala:110)\n\tat org.apache.spark.scheduler.ResultTask.runTask(ResultTask.scala:55)\n\tat org.apache.spark.scheduler.Task.doRunTask(Task.scala:179)\n\tat org.apache.spark.scheduler.Task.$anonfun$run$5(Task.scala:142)\n\tat com.databricks.unity.EmptyHandle$.runWithAndClose(UCSHandle.scala:126)\n\tat org.apache.spark.scheduler.Task.$anonfun$run$1(Task.scala:142)\n\tat com.databricks.spark.util.ExecutorFrameProfiler$.record(ExecutorFrameProfiler.scala:110)\n\tat org.apache.spark.scheduler.Task.run(Task.scala:97)\n\tat org.apache.spark.executor.Executor$TaskRunner.$anonfun$run$13(Executor.scala:904)\n\tat org.apache.spark.util.Utils$.tryWithSafeFinally(Utils.scala:1741)\n\tat org.apache.spark.executor.Executor$TaskRunner.$anonfun$run$4(Executor.scala:907)\n\tat scala.runtime.java8.JFunction0$mcV$sp.apply(JFunction0$mcV$sp.java:23)\n\tat com.databricks.spark.util.ExecutorFrameProfiler$.record(ExecutorFrameProfiler.scala:110)\n\tat org.apache.spark.executor.Executor$TaskRunner.run(Executor.scala:761)\n\tat java.util.concurrent.ThreadPoolExecutor.runWorker(ThreadPoolExecutor.java:1149)\n\tat java.util.concurrent.ThreadPoolExecutor$Worker.run(ThreadPoolExecutor.java:624)\n\tat java.lang.Thread.run(Thread.java:750)\nCaused by: com.fasterxml.jackson.core.JsonParseException: Unexpected character (',' (code 44)): was expecting double-quote to start field name\n at [Source: (byte[])\"{\"id\": 4,\"first_name\": {,\"last_name\": \"Valek\",\"email\": \"wvalek3@vk.com\",\"gender\": \"Male\",\"ip_address\": \"67.76.188.26\"}\"; line: 1, column: 26]\n\tat com.fasterxml.jackson.core.JsonParser._constructError(JsonParser.java:2391)\n\tat com.fasterxml.jackson.core.base.ParserMinimalBase._reportError(ParserMinimalBase.java:735)\n\tat com.fasterxml.jackson.core.base.ParserMinimalBase._reportUnexpectedChar(ParserMinimalBase.java:659)\n\tat com.fasterxml.jackson.core.json.UTF8StreamJsonParser._handleOddName(UTF8StreamJsonParser.java:2096)\n\tat com.fasterxml.jackson.core.json.UTF8StreamJsonParser._parseName(UTF8StreamJsonParser.java:1746)\n\tat com.fasterxml.jackson.core.json.UTF8StreamJsonParser.nextToken(UTF8StreamJsonParser.java:798)\n\tat org.apache.spark.sql.catalyst.json.JacksonUtils$.nextUntil(JacksonUtils.scala:32)\n\tat org.apache.spark.sql.catalyst.json.JsonInferSchema.inferField(JsonInferSchema.scala:165)\n\tat org.apache.spark.sql.catalyst.json.JsonInferSchema.inferField(JsonInferSchema.scala:134)\n\tat org.apache.spark.sql.catalyst.json.JsonInferSchema.inferField(JsonInferSchema.scala:168)\n\tat org.apache.spark.sql.catalyst.json.JsonInferSchema.$anonfun$infer$4(JsonInferSchema.scala:88)\n\tat org.apache.spark.util.Utils$.tryWithResource(Utils.scala:3183)\n\tat org.apache.spark.sql.catalyst.json.JsonInferSchema.$anonfun$infer$2(JsonInferSchema.scala:86)\n\t... 40 more\n\nDriver stacktrace:\n\tat org.apache.spark.scheduler.DAGScheduler.failJobAndIndependentStages(DAGScheduler.scala:3440)\n\tat org.apache.spark.scheduler.DAGScheduler.$anonfun$abortStage$2(DAGScheduler.scala:3362)\n\tat org.apache.spark.scheduler.DAGScheduler.$anonfun$abortStage$2$adapted(DAGScheduler.scala:3351)\n\tat scala.collection.mutable.ResizableArray.foreach(ResizableArray.scala:62)\n\tat scala.collection.mutable.ResizableArray.foreach$(ResizableArray.scala:55)\n\tat scala.collection.mutable.ArrayBuffer.foreach(ArrayBuffer.scala:49)\n\tat org.apache.spark.scheduler.DAGScheduler.abortStage(DAGScheduler.scala:3351)\n\tat org.apache.spark.scheduler.DAGScheduler.$anonfun$handleTaskSetFailed$1(DAGScheduler.scala:1460)\n\tat org.apache.spark.scheduler.DAGScheduler.$anonfun$handleTaskSetFailed$1$adapted(DAGScheduler.scala:1460)\n\tat scala.Option.foreach(Option.scala:407)\n\tat org.apache.spark.scheduler.DAGScheduler.handleTaskSetFailed(DAGScheduler.scala:1460)\n\tat org.apache.spark.scheduler.DAGSchedulerEventProcessLoop.doOnReceive(DAGScheduler.scala:3651)\n\tat org.apache.spark.scheduler.DAGSchedulerEventProcessLoop.onReceive(DAGScheduler.scala:3589)\n\tat org.apache.spark.scheduler.DAGSchedulerEventProcessLoop.onReceive(DAGScheduler.scala:3577)\n\tat org.apache.spark.util.EventLoop$$anon$1.run(EventLoop.scala:51)\n\tat org.apache.spark.scheduler.DAGScheduler.$anonfun$runJob$1(DAGScheduler.scala:1209)\n\tat scala.runtime.java8.JFunction0$mcV$sp.apply(JFunction0$mcV$sp.java:23)\n\tat com.databricks.spark.util.FrameProfiler$.record(FrameProfiler.scala:80)\n\tat org.apache.spark.scheduler.DAGScheduler.runJob(DAGScheduler.scala:1197)\n\tat org.apache.spark.SparkContext.runJobInternal(SparkContext.scala:2758)\n\tat org.apache.spark.SparkContext.runJob(SparkContext.scala:2741)\n\tat org.apache.spark.SparkContext.runJob(SparkContext.scala:2853)\n\tat org.apache.spark.sql.catalyst.json.JsonInferSchema.infer(JsonInferSchema.scala:116)\n\tat org.apache.spark.sql.execution.datasources.json.TextInputJsonDataSource$.$anonfun$inferFromDataset$1(JsonDataSource.scala:134)\n\tat org.apache.spark.sql.execution.SQLExecution$.withSQLConfPropagated(SQLExecution.scala:448)\n\tat org.apache.spark.sql.execution.datasources.json.TextInputJsonDataSource$.inferFromDataset(JsonDataSource.scala:134)\n\tat org.apache.spark.sql.execution.datasources.json.TextInputJsonDataSource$.infer(JsonDataSource.scala:125)\n\tat org.apache.spark.sql.execution.datasources.json.JsonDataSource.inferSchema(JsonDataSource.scala:81)\n\tat org.apache.spark.sql.execution.datasources.json.JsonFileFormat.inferSchema(JsonFileFormat.scala:59)\n\tat org.apache.spark.sql.execution.datasources.DataSource.$anonfun$getOrInferFileFormatSchema$11(DataSource.scala:237)\n\tat scala.Option.orElse(Option.scala:447)\n\tat org.apache.spark.sql.execution.datasources.DataSource.getOrInferFileFormatSchema(DataSource.scala:230)\n\tat org.apache.spark.sql.execution.datasources.DataSource.resolveRelation(DataSource.scala:462)\n\tat org.apache.spark.sql.DataFrameReader.loadV1Source(DataFrameReader.scala:378)\n\tat org.apache.spark.sql.DataFrameReader.$anonfun$load$2(DataFrameReader.scala:334)\n\tat scala.Option.getOrElse(Option.scala:189)\n\tat org.apache.spark.sql.DataFrameReader.load(DataFrameReader.scala:334)\n\tat org.apache.spark.sql.DataFrameReader.json(DataFrameReader.scala:512)\n\tat sun.reflect.NativeMethodAccessorImpl.invoke0(Native Method)\n\tat sun.reflect.NativeMethodAccessorImpl.invoke(NativeMethodAccessorImpl.java:62)\n\tat sun.reflect.DelegatingMethodAccessorImpl.invoke(DelegatingMethodAccessorImpl.java:43)\n\tat java.lang.reflect.Method.invoke(Method.java:498)\n\tat py4j.reflection.MethodInvoker.invoke(MethodInvoker.java:244)\n\tat py4j.reflection.ReflectionEngine.invoke(ReflectionEngine.java:380)\n\tat py4j.Gateway.invoke(Gateway.java:306)\n\tat py4j.commands.AbstractCommand.invokeMethod(AbstractCommand.java:132)\n\tat py4j.commands.CallCommand.execute(CallCommand.java:79)\n\tat py4j.ClientServerConnection.waitForCommands(ClientServerConnection.java:195)\n\tat py4j.ClientServerConnection.run(ClientServerConnection.java:115)\n\tat java.lang.Thread.run(Thread.java:750)\nCaused by: org.apache.spark.SparkException: Malformed records are detected in schema inference. Parse Mode: FAILFAST.\n\tat org.apache.spark.sql.errors.QueryExecutionErrors$.malformedRecordsDetectedInSchemaInferenceError(QueryExecutionErrors.scala:1847)\n\tat org.apache.spark.sql.catalyst.json.JsonInferSchema.handleJsonErrorsByParseMode(JsonInferSchema.scala:64)\n\tat org.apache.spark.sql.catalyst.json.JsonInferSchema.$anonfun$infer$2(JsonInferSchema.scala:93)\n\tat scala.collection.Iterator$$anon$11.nextCur(Iterator.scala:486)\n\tat scala.collection.Iterator$$anon$11.hasNext(Iterator.scala:492)\n\tat scala.collection.Iterator.foreach(Iterator.scala:943)\n\tat scala.collection.Iterator.foreach$(Iterator.scala:943)\n\tat scala.collection.AbstractIterator.foreach(Iterator.scala:1431)\n\tat scala.collection.TraversableOnce.reduceLeft(TraversableOnce.scala:237)\n\tat scala.collection.TraversableOnce.reduceLeft$(TraversableOnce.scala:220)\n\tat scala.collection.AbstractIterator.reduceLeft(Iterator.scala:1431)\n\tat scala.collection.TraversableOnce.reduceLeftOption(TraversableOnce.scala:249)\n\tat scala.collection.TraversableOnce.reduceLeftOption$(TraversableOnce.scala:248)\n\tat scala.collection.AbstractIterator.reduceLeftOption(Iterator.scala:1431)\n\tat scala.collection.TraversableOnce.reduceOption(TraversableOnce.scala:256)\n\tat scala.collection.TraversableOnce.reduceOption$(TraversableOnce.scala:256)\n\tat scala.collection.AbstractIterator.reduceOption(Iterator.scala:1431)\n\tat org.apache.spark.sql.catalyst.json.JsonInferSchema.$anonfun$infer$1(JsonInferSchema.scala:103)\n\tat org.apache.spark.rdd.RDD.$anonfun$mapPartitions$2(RDD.scala:894)\n\tat org.apache.spark.rdd.RDD.$anonfun$mapPartitions$2$adapted(RDD.scala:894)\n\tat org.apache.spark.rdd.MapPartitionsRDD.compute(MapPartitionsRDD.scala:60)\n\tat org.apache.spark.rdd.RDD.computeOrReadCheckpoint(RDD.scala:406)\n\tat org.apache.spark.rdd.RDD.iterator(RDD.scala:370)\n\tat org.apache.spark.scheduler.ResultTask.$anonfun$runTask$3(ResultTask.scala:75)\n\tat com.databricks.spark.util.ExecutorFrameProfiler$.record(ExecutorFrameProfiler.scala:110)\n\tat org.apache.spark.scheduler.ResultTask.$anonfun$runTask$1(ResultTask.scala:75)\n\tat com.databricks.spark.util.ExecutorFrameProfiler$.record(ExecutorFrameProfiler.scala:110)\n\tat org.apache.spark.scheduler.ResultTask.runTask(ResultTask.scala:55)\n\tat org.apache.spark.scheduler.Task.doRunTask(Task.scala:179)\n\tat org.apache.spark.scheduler.Task.$anonfun$run$5(Task.scala:142)\n\tat com.databricks.unity.EmptyHandle$.runWithAndClose(UCSHandle.scala:126)\n\tat org.apache.spark.scheduler.Task.$anonfun$run$1(Task.scala:142)\n\tat com.databricks.spark.util.ExecutorFrameProfiler$.record(ExecutorFrameProfiler.scala:110)\n\tat org.apache.spark.scheduler.Task.run(Task.scala:97)\n\tat org.apache.spark.executor.Executor$TaskRunner.$anonfun$run$13(Executor.scala:904)\n\tat org.apache.spark.util.Utils$.tryWithSafeFinally(Utils.scala:1741)\n\tat org.apache.spark.executor.Executor$TaskRunner.$anonfun$run$4(Executor.scala:907)\n\tat scala.runtime.java8.JFunction0$mcV$sp.apply(JFunction0$mcV$sp.java:23)\n\tat com.databricks.spark.util.ExecutorFrameProfiler$.record(ExecutorFrameProfiler.scala:110)\n\tat org.apache.spark.executor.Executor$TaskRunner.run(Executor.scala:761)\n\tat java.util.concurrent.ThreadPoolExecutor.runWorker(ThreadPoolExecutor.java:1149)\n\tat java.util.concurrent.ThreadPoolExecutor$Worker.run(ThreadPoolExecutor.java:624)\n\t... 1 more\nCaused by: com.fasterxml.jackson.core.JsonParseException: Unexpected character (',' (code 44)): was expecting double-quote to start field name\n at [Source: UNKNOWN; line: 1, column: 26]\n\tat com.fasterxml.jackson.core.JsonParser._constructError(JsonParser.java:2391)\n\tat com.fasterxml.jackson.core.base.ParserMinimalBase._reportError(ParserMinimalBase.java:735)\n\tat com.fasterxml.jackson.core.base.ParserMinimalBase._reportUnexpectedChar(ParserMinimalBase.java:659)\n\tat com.fasterxml.jackson.core.json.UTF8StreamJsonParser._handleOddName(UTF8StreamJsonParser.java:2096)\n\tat com.fasterxml.jackson.core.json.UTF8StreamJsonParser._parseName(UTF8StreamJsonParser.java:1746)\n\tat com.fasterxml.jackson.core.json.UTF8StreamJsonParser.nextToken(UTF8StreamJsonParser.java:798)\n\tat org.apache.spark.sql.catalyst.json.JacksonUtils$.nextUntil(JacksonUtils.scala:32)\n\tat org.apache.spark.sql.catalyst.json.JsonInferSchema.inferField(JsonInferSchema.scala:165)\n\tat org.apache.spark.sql.catalyst.json.JsonInferSchema.inferField(JsonInferSchema.scala:134)\n\tat org.apache.spark.sql.catalyst.json.JsonInferSchema.inferField(JsonInferSchema.scala:168)\n\tat org.apache.spark.sql.catalyst.json.JsonInferSchema.$anonfun$infer$4(JsonInferSchema.scala:88)\n\tat org.apache.spark.util.Utils$.tryWithResource(Utils.scala:3183)\n\tat org.apache.spark.sql.catalyst.json.JsonInferSchema.$anonfun$infer$2(JsonInferSchema.scala:86)\n\t... 40 more\n",
       "errorSummary": "org.apache.spark.SparkException: Job aborted due to stage failure: Task 0 in stage 33.0 failed 1 times, most recent failure: Lost task 0.0 in stage 33.0 (TID 33) (ip-10-172-212-169.us-west-2.compute.internal executor driver): org.apache.spark.SparkException: Malformed records are detected in schema inference. Parse Mode: FAILFAST.",
       "errorTraceType": "ansi",
       "metadata": {},
       "type": "ipynbError"
      }
     },
     "output_type": "display_data"
    }
   ],
   "source": [
    "access_logs = spark.read.json(\n",
    "    path=\"dbfs:/FileStore/synechron009/dataset/access_logs.json\", mode=\"FAILFAST\"\n",
    ")\n",
    "access_logs.display()"
   ]
  },
  {
   "cell_type": "markdown",
   "metadata": {
    "application/vnd.databricks.v1+cell": {
     "cellMetadata": {},
     "inputWidgets": {},
     "nuid": "5e0a9fd6-493f-4251-80dd-540e8cc18d06",
     "showTitle": false,
     "tableResultSettingsMap": {},
     "title": ""
    }
   },
   "source": [
    "#Exploring DataFrameWriter API"
   ]
  },
  {
   "cell_type": "markdown",
   "metadata": {
    "application/vnd.databricks.v1+cell": {
     "cellMetadata": {},
     "inputWidgets": {},
     "nuid": "296c0a37-750b-4776-b7ff-54547caaf4fe",
     "showTitle": false,
     "tableResultSettingsMap": {},
     "title": ""
    }
   },
   "source": [
    "## Writing DF as JSON"
   ]
  },
  {
   "cell_type": "code",
   "execution_count": 0,
   "metadata": {
    "application/vnd.databricks.v1+cell": {
     "cellMetadata": {
      "byteLimit": 2048000,
      "rowLimit": 10000
     },
     "inputWidgets": {},
     "nuid": "6cda5236-518e-42c0-a26d-8590a4d46a4f",
     "showTitle": false,
     "tableResultSettingsMap": {},
     "title": ""
    }
   },
   "outputs": [],
   "source": [
    "spark.read.csv(\n",
    "    path=\"dbfs:/FileStore/synechron009/dataset/users/csv_format/users_001.csv\",\n",
    "    header=True,\n",
    "    inferSchema=True,\n",
    ").write.mode(\"overwrite\").format(\"json\").save(\n",
    "    \"dbfs:/FileStore/synechron009/output/json\"\n",
    ")"
   ]
  },
  {
   "cell_type": "code",
   "execution_count": 0,
   "metadata": {
    "application/vnd.databricks.v1+cell": {
     "cellMetadata": {
      "byteLimit": 2048000,
      "rowLimit": 10000
     },
     "inputWidgets": {},
     "nuid": "dd212437-ef24-4f7b-829e-686493cc6928",
     "showTitle": false,
     "tableResultSettingsMap": {},
     "title": ""
    }
   },
   "outputs": [
    {
     "output_type": "display_data",
     "data": {
      "text/html": [
       "<style scoped>\n",
       "  .table-result-container {\n",
       "    max-height: 300px;\n",
       "    overflow: auto;\n",
       "  }\n",
       "  table, th, td {\n",
       "    border: 1px solid black;\n",
       "    border-collapse: collapse;\n",
       "  }\n",
       "  th, td {\n",
       "    padding: 5px;\n",
       "  }\n",
       "  th {\n",
       "    text-align: left;\n",
       "  }\n",
       "</style><div class='table-result-container'><table class='table-result'><thead style='background-color: white'><tr><th>age</th><th>designation</th><th>gen</th><th>id</th><th>salary</th></tr></thead><tbody><tr><td>26</td><td>Technician</td><td>M</td><td>1</td><td>85711</td></tr><tr><td>53</td><td>Other</td><td>F</td><td>2</td><td>94043</td></tr><tr><td>23</td><td>Writer</td><td>M</td><td>3</td><td>32067</td></tr><tr><td>26</td><td>technician</td><td>M</td><td>4</td><td>43537</td></tr></tbody></table></div>"
      ]
     },
     "metadata": {
      "application/vnd.databricks.v1+output": {
       "addedWidgets": {},
       "aggData": [],
       "aggError": "",
       "aggOverflow": false,
       "aggSchema": [],
       "aggSeriesLimitReached": false,
       "aggType": "",
       "arguments": {},
       "columnCustomDisplayInfos": {},
       "data": [
        [
         26,
         "Technician",
         "M",
         1,
         85711
        ],
        [
         53,
         "Other",
         "F",
         2,
         94043
        ],
        [
         23,
         "Writer",
         "M",
         3,
         32067
        ],
        [
         26,
         "technician",
         "M",
         4,
         43537
        ]
       ],
       "datasetInfos": [],
       "dbfsResultPath": null,
       "isJsonSchema": true,
       "metadata": {},
       "overflow": false,
       "plotOptions": {
        "customPlotOptions": {},
        "displayType": "table",
        "pivotAggregation": null,
        "pivotColumns": null,
        "xColumns": null,
        "yColumns": null
       },
       "removedWidgets": [],
       "schema": [
        {
         "metadata": "{}",
         "name": "age",
         "type": "\"long\""
        },
        {
         "metadata": "{}",
         "name": "designation",
         "type": "\"string\""
        },
        {
         "metadata": "{}",
         "name": "gen",
         "type": "\"string\""
        },
        {
         "metadata": "{}",
         "name": "id",
         "type": "\"long\""
        },
        {
         "metadata": "{}",
         "name": "salary",
         "type": "\"long\""
        }
       ],
       "type": "table"
      }
     },
     "output_type": "display_data"
    }
   ],
   "source": [
    "spark.read.json(path=\"dbfs:/FileStore/synechron009/output/json\").limit(4).display()"
   ]
  },
  {
   "cell_type": "markdown",
   "metadata": {
    "application/vnd.databricks.v1+cell": {
     "cellMetadata": {},
     "inputWidgets": {},
     "nuid": "de43787e-1c3c-4237-82a1-fb03bee17d81",
     "showTitle": false,
     "tableResultSettingsMap": {},
     "title": ""
    }
   },
   "source": [
    "## Modes"
   ]
  },
  {
   "cell_type": "markdown",
   "metadata": {
    "application/vnd.databricks.v1+cell": {
     "cellMetadata": {},
     "inputWidgets": {},
     "nuid": "cfc533fc-cd3f-4f12-9d46-ace02f7ac650",
     "showTitle": false,
     "tableResultSettingsMap": {},
     "title": ""
    }
   },
   "source": [
    "### Overwrite"
   ]
  },
  {
   "cell_type": "code",
   "execution_count": 0,
   "metadata": {
    "application/vnd.databricks.v1+cell": {
     "cellMetadata": {},
     "inputWidgets": {},
     "nuid": "89ab8c05-2861-4eaf-9068-03b3870b62ce",
     "showTitle": false,
     "tableResultSettingsMap": {},
     "title": ""
    }
   },
   "outputs": [],
   "source": [
    "spark.read.csv(\n",
    "    path=\"dbfs:/FileStore/synechron009/dataset/users/csv_format/users_001.csv\",\n",
    "    header=True,\n",
    "    inferSchema=True,\n",
    ").write.mode(\"ovewrite\").format(\"json\").save(\n",
    "    \"dbfs:/FileStore/synechron009/output/json\"\n",
    ")"
   ]
  },
  {
   "cell_type": "markdown",
   "metadata": {
    "application/vnd.databricks.v1+cell": {
     "cellMetadata": {},
     "inputWidgets": {},
     "nuid": "db9ec176-f666-4acf-bd5e-29262928baf5",
     "showTitle": false,
     "tableResultSettingsMap": {},
     "title": ""
    }
   },
   "source": [
    "### Append"
   ]
  },
  {
   "cell_type": "code",
   "execution_count": 0,
   "metadata": {
    "application/vnd.databricks.v1+cell": {
     "cellMetadata": {
      "byteLimit": 2048000,
      "rowLimit": 10000
     },
     "inputWidgets": {},
     "nuid": "91f11127-3a85-447a-b4ed-82bf90809eca",
     "showTitle": false,
     "tableResultSettingsMap": {},
     "title": ""
    }
   },
   "outputs": [],
   "source": [
    "spark.read.csv(\n",
    "    path=\"dbfs:/FileStore/synechron009/dataset/users/csv_format/users_001.csv\",\n",
    "    header=True,\n",
    "    inferSchema=True,\n",
    ").write.mode(\"append\").format(\"json\").save(\n",
    "    \"dbfs:/FileStore/synechron009/output/json\"\n",
    ")"
   ]
  },
  {
   "cell_type": "markdown",
   "metadata": {
    "application/vnd.databricks.v1+cell": {
     "cellMetadata": {},
     "inputWidgets": {},
     "nuid": "11efaee1-692b-47b9-9ebf-1cd3f9201fdd",
     "showTitle": false,
     "tableResultSettingsMap": {},
     "title": ""
    }
   },
   "source": [
    "### Error If Exists"
   ]
  },
  {
   "cell_type": "code",
   "execution_count": 0,
   "metadata": {
    "application/vnd.databricks.v1+cell": {
     "cellMetadata": {
      "byteLimit": 2048000,
      "rowLimit": 10000
     },
     "inputWidgets": {},
     "nuid": "05c35f60-f7f5-4dd2-bace-3ccba999e4ce",
     "showTitle": false,
     "tableResultSettingsMap": {},
     "title": ""
    }
   },
   "outputs": [
    {
     "output_type": "display_data",
     "data": {
      "text/plain": [
       "\u001B[0;31m---------------------------------------------------------------------------\u001B[0m\n",
       "\u001B[0;31mAnalysisException\u001B[0m                         Traceback (most recent call last)\n",
       "File \u001B[0;32m<command-3004113653720678>:1\u001B[0m\n",
       "\u001B[0;32m----> 1\u001B[0m \u001B[43mspark\u001B[49m\u001B[38;5;241;43m.\u001B[39;49m\u001B[43mread\u001B[49m\u001B[38;5;241;43m.\u001B[39;49m\u001B[43mcsv\u001B[49m\u001B[43m(\u001B[49m\n",
       "\u001B[1;32m      2\u001B[0m \u001B[43m    \u001B[49m\u001B[43mpath\u001B[49m\u001B[38;5;241;43m=\u001B[39;49m\u001B[38;5;124;43m\"\u001B[39;49m\u001B[38;5;124;43mdbfs:/FileStore/synechron009/dataset/users/csv_format/users_001.csv\u001B[39;49m\u001B[38;5;124;43m\"\u001B[39;49m\u001B[43m,\u001B[49m\n",
       "\u001B[1;32m      3\u001B[0m \u001B[43m    \u001B[49m\u001B[43mheader\u001B[49m\u001B[38;5;241;43m=\u001B[39;49m\u001B[38;5;28;43;01mTrue\u001B[39;49;00m\u001B[43m,\u001B[49m\n",
       "\u001B[1;32m      4\u001B[0m \u001B[43m    \u001B[49m\u001B[43minferSchema\u001B[49m\u001B[38;5;241;43m=\u001B[39;49m\u001B[38;5;28;43;01mTrue\u001B[39;49;00m\u001B[43m,\u001B[49m\n",
       "\u001B[1;32m      5\u001B[0m \u001B[43m)\u001B[49m\u001B[38;5;241;43m.\u001B[39;49m\u001B[43mwrite\u001B[49m\u001B[38;5;241;43m.\u001B[39;49m\u001B[43mformat\u001B[49m\u001B[43m(\u001B[49m\u001B[38;5;124;43m\"\u001B[39;49m\u001B[38;5;124;43mjson\u001B[39;49m\u001B[38;5;124;43m\"\u001B[39;49m\u001B[43m)\u001B[49m\u001B[38;5;241;43m.\u001B[39;49m\u001B[43msave\u001B[49m\u001B[43m(\u001B[49m\n",
       "\u001B[1;32m      6\u001B[0m \u001B[43m    \u001B[49m\u001B[38;5;124;43m\"\u001B[39;49m\u001B[38;5;124;43mdbfs:/FileStore/synechron009/output/json\u001B[39;49m\u001B[38;5;124;43m\"\u001B[39;49m\n",
       "\u001B[1;32m      7\u001B[0m \u001B[43m)\u001B[49m\n",
       "\n",
       "File \u001B[0;32m/databricks/spark/python/pyspark/instrumentation_utils.py:48\u001B[0m, in \u001B[0;36m_wrap_function.<locals>.wrapper\u001B[0;34m(*args, **kwargs)\u001B[0m\n",
       "\u001B[1;32m     46\u001B[0m start \u001B[38;5;241m=\u001B[39m time\u001B[38;5;241m.\u001B[39mperf_counter()\n",
       "\u001B[1;32m     47\u001B[0m \u001B[38;5;28;01mtry\u001B[39;00m:\n",
       "\u001B[0;32m---> 48\u001B[0m     res \u001B[38;5;241m=\u001B[39m \u001B[43mfunc\u001B[49m\u001B[43m(\u001B[49m\u001B[38;5;241;43m*\u001B[39;49m\u001B[43margs\u001B[49m\u001B[43m,\u001B[49m\u001B[43m \u001B[49m\u001B[38;5;241;43m*\u001B[39;49m\u001B[38;5;241;43m*\u001B[39;49m\u001B[43mkwargs\u001B[49m\u001B[43m)\u001B[49m\n",
       "\u001B[1;32m     49\u001B[0m     logger\u001B[38;5;241m.\u001B[39mlog_success(\n",
       "\u001B[1;32m     50\u001B[0m         module_name, class_name, function_name, time\u001B[38;5;241m.\u001B[39mperf_counter() \u001B[38;5;241m-\u001B[39m start, signature\n",
       "\u001B[1;32m     51\u001B[0m     )\n",
       "\u001B[1;32m     52\u001B[0m     \u001B[38;5;28;01mreturn\u001B[39;00m res\n",
       "\n",
       "File \u001B[0;32m/databricks/spark/python/pyspark/sql/readwriter.py:1397\u001B[0m, in \u001B[0;36mDataFrameWriter.save\u001B[0;34m(self, path, format, mode, partitionBy, **options)\u001B[0m\n",
       "\u001B[1;32m   1395\u001B[0m     \u001B[38;5;28mself\u001B[39m\u001B[38;5;241m.\u001B[39m_jwrite\u001B[38;5;241m.\u001B[39msave()\n",
       "\u001B[1;32m   1396\u001B[0m \u001B[38;5;28;01melse\u001B[39;00m:\n",
       "\u001B[0;32m-> 1397\u001B[0m     \u001B[38;5;28;43mself\u001B[39;49m\u001B[38;5;241;43m.\u001B[39;49m\u001B[43m_jwrite\u001B[49m\u001B[38;5;241;43m.\u001B[39;49m\u001B[43msave\u001B[49m\u001B[43m(\u001B[49m\u001B[43mpath\u001B[49m\u001B[43m)\u001B[49m\n",
       "\n",
       "File \u001B[0;32m/databricks/spark/python/lib/py4j-0.10.9.5-src.zip/py4j/java_gateway.py:1321\u001B[0m, in \u001B[0;36mJavaMember.__call__\u001B[0;34m(self, *args)\u001B[0m\n",
       "\u001B[1;32m   1315\u001B[0m command \u001B[38;5;241m=\u001B[39m proto\u001B[38;5;241m.\u001B[39mCALL_COMMAND_NAME \u001B[38;5;241m+\u001B[39m\\\n",
       "\u001B[1;32m   1316\u001B[0m     \u001B[38;5;28mself\u001B[39m\u001B[38;5;241m.\u001B[39mcommand_header \u001B[38;5;241m+\u001B[39m\\\n",
       "\u001B[1;32m   1317\u001B[0m     args_command \u001B[38;5;241m+\u001B[39m\\\n",
       "\u001B[1;32m   1318\u001B[0m     proto\u001B[38;5;241m.\u001B[39mEND_COMMAND_PART\n",
       "\u001B[1;32m   1320\u001B[0m answer \u001B[38;5;241m=\u001B[39m \u001B[38;5;28mself\u001B[39m\u001B[38;5;241m.\u001B[39mgateway_client\u001B[38;5;241m.\u001B[39msend_command(command)\n",
       "\u001B[0;32m-> 1321\u001B[0m return_value \u001B[38;5;241m=\u001B[39m \u001B[43mget_return_value\u001B[49m\u001B[43m(\u001B[49m\n",
       "\u001B[1;32m   1322\u001B[0m \u001B[43m    \u001B[49m\u001B[43manswer\u001B[49m\u001B[43m,\u001B[49m\u001B[43m \u001B[49m\u001B[38;5;28;43mself\u001B[39;49m\u001B[38;5;241;43m.\u001B[39;49m\u001B[43mgateway_client\u001B[49m\u001B[43m,\u001B[49m\u001B[43m \u001B[49m\u001B[38;5;28;43mself\u001B[39;49m\u001B[38;5;241;43m.\u001B[39;49m\u001B[43mtarget_id\u001B[49m\u001B[43m,\u001B[49m\u001B[43m \u001B[49m\u001B[38;5;28;43mself\u001B[39;49m\u001B[38;5;241;43m.\u001B[39;49m\u001B[43mname\u001B[49m\u001B[43m)\u001B[49m\n",
       "\u001B[1;32m   1324\u001B[0m \u001B[38;5;28;01mfor\u001B[39;00m temp_arg \u001B[38;5;129;01min\u001B[39;00m temp_args:\n",
       "\u001B[1;32m   1325\u001B[0m     temp_arg\u001B[38;5;241m.\u001B[39m_detach()\n",
       "\n",
       "File \u001B[0;32m/databricks/spark/python/pyspark/errors/exceptions.py:234\u001B[0m, in \u001B[0;36mcapture_sql_exception.<locals>.deco\u001B[0;34m(*a, **kw)\u001B[0m\n",
       "\u001B[1;32m    230\u001B[0m converted \u001B[38;5;241m=\u001B[39m convert_exception(e\u001B[38;5;241m.\u001B[39mjava_exception)\n",
       "\u001B[1;32m    231\u001B[0m \u001B[38;5;28;01mif\u001B[39;00m \u001B[38;5;129;01mnot\u001B[39;00m \u001B[38;5;28misinstance\u001B[39m(converted, UnknownException):\n",
       "\u001B[1;32m    232\u001B[0m     \u001B[38;5;66;03m# Hide where the exception came from that shows a non-Pythonic\u001B[39;00m\n",
       "\u001B[1;32m    233\u001B[0m     \u001B[38;5;66;03m# JVM exception message.\u001B[39;00m\n",
       "\u001B[0;32m--> 234\u001B[0m     \u001B[38;5;28;01mraise\u001B[39;00m converted \u001B[38;5;28;01mfrom\u001B[39;00m \u001B[38;5;28mNone\u001B[39m\n",
       "\u001B[1;32m    235\u001B[0m \u001B[38;5;28;01melse\u001B[39;00m:\n",
       "\u001B[1;32m    236\u001B[0m     \u001B[38;5;28;01mraise\u001B[39;00m\n",
       "\n",
       "\u001B[0;31mAnalysisException\u001B[0m: Path dbfs:/FileStore/synechron009/output/json already exists."
      ]
     },
     "metadata": {
      "application/vnd.databricks.v1+output": {
       "arguments": {},
       "data": "\u001B[0;31m---------------------------------------------------------------------------\u001B[0m\n\u001B[0;31mAnalysisException\u001B[0m                         Traceback (most recent call last)\nFile \u001B[0;32m<command-3004113653720678>:1\u001B[0m\n\u001B[0;32m----> 1\u001B[0m \u001B[43mspark\u001B[49m\u001B[38;5;241;43m.\u001B[39;49m\u001B[43mread\u001B[49m\u001B[38;5;241;43m.\u001B[39;49m\u001B[43mcsv\u001B[49m\u001B[43m(\u001B[49m\n\u001B[1;32m      2\u001B[0m \u001B[43m    \u001B[49m\u001B[43mpath\u001B[49m\u001B[38;5;241;43m=\u001B[39;49m\u001B[38;5;124;43m\"\u001B[39;49m\u001B[38;5;124;43mdbfs:/FileStore/synechron009/dataset/users/csv_format/users_001.csv\u001B[39;49m\u001B[38;5;124;43m\"\u001B[39;49m\u001B[43m,\u001B[49m\n\u001B[1;32m      3\u001B[0m \u001B[43m    \u001B[49m\u001B[43mheader\u001B[49m\u001B[38;5;241;43m=\u001B[39;49m\u001B[38;5;28;43;01mTrue\u001B[39;49;00m\u001B[43m,\u001B[49m\n\u001B[1;32m      4\u001B[0m \u001B[43m    \u001B[49m\u001B[43minferSchema\u001B[49m\u001B[38;5;241;43m=\u001B[39;49m\u001B[38;5;28;43;01mTrue\u001B[39;49;00m\u001B[43m,\u001B[49m\n\u001B[1;32m      5\u001B[0m \u001B[43m)\u001B[49m\u001B[38;5;241;43m.\u001B[39;49m\u001B[43mwrite\u001B[49m\u001B[38;5;241;43m.\u001B[39;49m\u001B[43mformat\u001B[49m\u001B[43m(\u001B[49m\u001B[38;5;124;43m\"\u001B[39;49m\u001B[38;5;124;43mjson\u001B[39;49m\u001B[38;5;124;43m\"\u001B[39;49m\u001B[43m)\u001B[49m\u001B[38;5;241;43m.\u001B[39;49m\u001B[43msave\u001B[49m\u001B[43m(\u001B[49m\n\u001B[1;32m      6\u001B[0m \u001B[43m    \u001B[49m\u001B[38;5;124;43m\"\u001B[39;49m\u001B[38;5;124;43mdbfs:/FileStore/synechron009/output/json\u001B[39;49m\u001B[38;5;124;43m\"\u001B[39;49m\n\u001B[1;32m      7\u001B[0m \u001B[43m)\u001B[49m\n\nFile \u001B[0;32m/databricks/spark/python/pyspark/instrumentation_utils.py:48\u001B[0m, in \u001B[0;36m_wrap_function.<locals>.wrapper\u001B[0;34m(*args, **kwargs)\u001B[0m\n\u001B[1;32m     46\u001B[0m start \u001B[38;5;241m=\u001B[39m time\u001B[38;5;241m.\u001B[39mperf_counter()\n\u001B[1;32m     47\u001B[0m \u001B[38;5;28;01mtry\u001B[39;00m:\n\u001B[0;32m---> 48\u001B[0m     res \u001B[38;5;241m=\u001B[39m \u001B[43mfunc\u001B[49m\u001B[43m(\u001B[49m\u001B[38;5;241;43m*\u001B[39;49m\u001B[43margs\u001B[49m\u001B[43m,\u001B[49m\u001B[43m \u001B[49m\u001B[38;5;241;43m*\u001B[39;49m\u001B[38;5;241;43m*\u001B[39;49m\u001B[43mkwargs\u001B[49m\u001B[43m)\u001B[49m\n\u001B[1;32m     49\u001B[0m     logger\u001B[38;5;241m.\u001B[39mlog_success(\n\u001B[1;32m     50\u001B[0m         module_name, class_name, function_name, time\u001B[38;5;241m.\u001B[39mperf_counter() \u001B[38;5;241m-\u001B[39m start, signature\n\u001B[1;32m     51\u001B[0m     )\n\u001B[1;32m     52\u001B[0m     \u001B[38;5;28;01mreturn\u001B[39;00m res\n\nFile \u001B[0;32m/databricks/spark/python/pyspark/sql/readwriter.py:1397\u001B[0m, in \u001B[0;36mDataFrameWriter.save\u001B[0;34m(self, path, format, mode, partitionBy, **options)\u001B[0m\n\u001B[1;32m   1395\u001B[0m     \u001B[38;5;28mself\u001B[39m\u001B[38;5;241m.\u001B[39m_jwrite\u001B[38;5;241m.\u001B[39msave()\n\u001B[1;32m   1396\u001B[0m \u001B[38;5;28;01melse\u001B[39;00m:\n\u001B[0;32m-> 1397\u001B[0m     \u001B[38;5;28;43mself\u001B[39;49m\u001B[38;5;241;43m.\u001B[39;49m\u001B[43m_jwrite\u001B[49m\u001B[38;5;241;43m.\u001B[39;49m\u001B[43msave\u001B[49m\u001B[43m(\u001B[49m\u001B[43mpath\u001B[49m\u001B[43m)\u001B[49m\n\nFile \u001B[0;32m/databricks/spark/python/lib/py4j-0.10.9.5-src.zip/py4j/java_gateway.py:1321\u001B[0m, in \u001B[0;36mJavaMember.__call__\u001B[0;34m(self, *args)\u001B[0m\n\u001B[1;32m   1315\u001B[0m command \u001B[38;5;241m=\u001B[39m proto\u001B[38;5;241m.\u001B[39mCALL_COMMAND_NAME \u001B[38;5;241m+\u001B[39m\\\n\u001B[1;32m   1316\u001B[0m     \u001B[38;5;28mself\u001B[39m\u001B[38;5;241m.\u001B[39mcommand_header \u001B[38;5;241m+\u001B[39m\\\n\u001B[1;32m   1317\u001B[0m     args_command \u001B[38;5;241m+\u001B[39m\\\n\u001B[1;32m   1318\u001B[0m     proto\u001B[38;5;241m.\u001B[39mEND_COMMAND_PART\n\u001B[1;32m   1320\u001B[0m answer \u001B[38;5;241m=\u001B[39m \u001B[38;5;28mself\u001B[39m\u001B[38;5;241m.\u001B[39mgateway_client\u001B[38;5;241m.\u001B[39msend_command(command)\n\u001B[0;32m-> 1321\u001B[0m return_value \u001B[38;5;241m=\u001B[39m \u001B[43mget_return_value\u001B[49m\u001B[43m(\u001B[49m\n\u001B[1;32m   1322\u001B[0m \u001B[43m    \u001B[49m\u001B[43manswer\u001B[49m\u001B[43m,\u001B[49m\u001B[43m \u001B[49m\u001B[38;5;28;43mself\u001B[39;49m\u001B[38;5;241;43m.\u001B[39;49m\u001B[43mgateway_client\u001B[49m\u001B[43m,\u001B[49m\u001B[43m \u001B[49m\u001B[38;5;28;43mself\u001B[39;49m\u001B[38;5;241;43m.\u001B[39;49m\u001B[43mtarget_id\u001B[49m\u001B[43m,\u001B[49m\u001B[43m \u001B[49m\u001B[38;5;28;43mself\u001B[39;49m\u001B[38;5;241;43m.\u001B[39;49m\u001B[43mname\u001B[49m\u001B[43m)\u001B[49m\n\u001B[1;32m   1324\u001B[0m \u001B[38;5;28;01mfor\u001B[39;00m temp_arg \u001B[38;5;129;01min\u001B[39;00m temp_args:\n\u001B[1;32m   1325\u001B[0m     temp_arg\u001B[38;5;241m.\u001B[39m_detach()\n\nFile \u001B[0;32m/databricks/spark/python/pyspark/errors/exceptions.py:234\u001B[0m, in \u001B[0;36mcapture_sql_exception.<locals>.deco\u001B[0;34m(*a, **kw)\u001B[0m\n\u001B[1;32m    230\u001B[0m converted \u001B[38;5;241m=\u001B[39m convert_exception(e\u001B[38;5;241m.\u001B[39mjava_exception)\n\u001B[1;32m    231\u001B[0m \u001B[38;5;28;01mif\u001B[39;00m \u001B[38;5;129;01mnot\u001B[39;00m \u001B[38;5;28misinstance\u001B[39m(converted, UnknownException):\n\u001B[1;32m    232\u001B[0m     \u001B[38;5;66;03m# Hide where the exception came from that shows a non-Pythonic\u001B[39;00m\n\u001B[1;32m    233\u001B[0m     \u001B[38;5;66;03m# JVM exception message.\u001B[39;00m\n\u001B[0;32m--> 234\u001B[0m     \u001B[38;5;28;01mraise\u001B[39;00m converted \u001B[38;5;28;01mfrom\u001B[39;00m \u001B[38;5;28mNone\u001B[39m\n\u001B[1;32m    235\u001B[0m \u001B[38;5;28;01melse\u001B[39;00m:\n\u001B[1;32m    236\u001B[0m     \u001B[38;5;28;01mraise\u001B[39;00m\n\n\u001B[0;31mAnalysisException\u001B[0m: Path dbfs:/FileStore/synechron009/output/json already exists.",
       "errorSummary": "<span class='ansi-red-fg'>AnalysisException</span>: Path dbfs:/FileStore/synechron009/output/json already exists.",
       "errorTraceType": "ansi",
       "metadata": {},
       "type": "ipynbError"
      }
     },
     "output_type": "display_data"
    }
   ],
   "source": [
    "spark.read.csv(\n",
    "    path=\"dbfs:/FileStore/synechron009/dataset/users/csv_format/users_001.csv\",\n",
    "    header=True,\n",
    "    inferSchema=True,\n",
    ").write.format(\"json\").save(\n",
    "    \"dbfs:/FileStore/synechron009/output/json\"\n",
    ")"
   ]
  },
  {
   "cell_type": "markdown",
   "metadata": {
    "application/vnd.databricks.v1+cell": {
     "cellMetadata": {},
     "inputWidgets": {},
     "nuid": "01573f84-fde4-4b42-9373-d525c92dee2e",
     "showTitle": false,
     "tableResultSettingsMap": {},
     "title": ""
    }
   },
   "source": [
    "# DataFrame Operations"
   ]
  },
  {
   "cell_type": "markdown",
   "metadata": {
    "application/vnd.databricks.v1+cell": {
     "cellMetadata": {},
     "inputWidgets": {},
     "nuid": "cb716163-99ef-43f5-b5e8-491add1998c3",
     "showTitle": false,
     "tableResultSettingsMap": {},
     "title": ""
    }
   },
   "source": [
    "## Basic Operations"
   ]
  },
  {
   "cell_type": "code",
   "execution_count": 0,
   "metadata": {
    "application/vnd.databricks.v1+cell": {
     "cellMetadata": {
      "byteLimit": 2048000,
      "rowLimit": 10000
     },
     "inputWidgets": {},
     "nuid": "3dad3dc3-80d1-4190-a8f5-4e6d8a9b3b6a",
     "showTitle": false,
     "tableResultSettingsMap": {},
     "title": ""
    }
   },
   "outputs": [
    {
     "output_type": "display_data",
     "data": {
      "text/html": [
       "<style scoped>\n",
       "  .table-result-container {\n",
       "    max-height: 300px;\n",
       "    overflow: auto;\n",
       "  }\n",
       "  table, th, td {\n",
       "    border: 1px solid black;\n",
       "    border-collapse: collapse;\n",
       "  }\n",
       "  th, td {\n",
       "    padding: 5px;\n",
       "  }\n",
       "  th {\n",
       "    text-align: left;\n",
       "  }\n",
       "</style><div class='table-result-container'><table class='table-result'><thead style='background-color: white'><tr><th>id</th><th>age</th><th>gen</th></tr></thead><tbody><tr><td>1</td><td>26</td><td>M</td></tr><tr><td>2</td><td>53</td><td>F</td></tr><tr><td>3</td><td>23</td><td>M</td></tr></tbody></table></div>"
      ]
     },
     "metadata": {
      "application/vnd.databricks.v1+output": {
       "addedWidgets": {},
       "aggData": [],
       "aggError": "",
       "aggOverflow": false,
       "aggSchema": [],
       "aggSeriesLimitReached": false,
       "aggType": "",
       "arguments": {},
       "columnCustomDisplayInfos": {},
       "data": [
        [
         1,
         26,
         "M"
        ],
        [
         2,
         53,
         "F"
        ],
        [
         3,
         23,
         "M"
        ]
       ],
       "datasetInfos": [],
       "dbfsResultPath": null,
       "isJsonSchema": true,
       "metadata": {},
       "overflow": false,
       "plotOptions": {
        "customPlotOptions": {},
        "displayType": "table",
        "pivotAggregation": null,
        "pivotColumns": null,
        "xColumns": null,
        "yColumns": null
       },
       "removedWidgets": [],
       "schema": [
        {
         "metadata": "{}",
         "name": "id",
         "type": "\"integer\""
        },
        {
         "metadata": "{}",
         "name": "age",
         "type": "\"integer\""
        },
        {
         "metadata": "{}",
         "name": "gen",
         "type": "\"string\""
        }
       ],
       "type": "table"
      }
     },
     "output_type": "display_data"
    }
   ],
   "source": [
    "user_df = spark.read.csv(\n",
    "    path=\"dbfs:/FileStore/synechron009/dataset/users/csv_format/users_001.csv\",\n",
    "    header=True,\n",
    "    inferSchema=True\n",
    ")\n",
    "user_df.select(\"id\",\"age\",\"gen\").limit(3).display()"
   ]
  },
  {
   "cell_type": "markdown",
   "metadata": {
    "application/vnd.databricks.v1+cell": {
     "cellMetadata": {},
     "inputWidgets": {},
     "nuid": "69948ea9-eff8-4f85-b94d-b5e7da796a7b",
     "showTitle": false,
     "tableResultSettingsMap": {},
     "title": ""
    }
   },
   "source": [
    "## col function"
   ]
  },
  {
   "cell_type": "code",
   "execution_count": 0,
   "metadata": {
    "application/vnd.databricks.v1+cell": {
     "cellMetadata": {
      "byteLimit": 2048000,
      "rowLimit": 10000
     },
     "inputWidgets": {},
     "nuid": "bc471477-e738-4af7-b774-f24173d0c8f9",
     "showTitle": false,
     "tableResultSettingsMap": {},
     "title": ""
    }
   },
   "outputs": [
    {
     "output_type": "display_data",
     "data": {
      "text/html": [
       "<style scoped>\n",
       "  .table-result-container {\n",
       "    max-height: 300px;\n",
       "    overflow: auto;\n",
       "  }\n",
       "  table, th, td {\n",
       "    border: 1px solid black;\n",
       "    border-collapse: collapse;\n",
       "  }\n",
       "  th, td {\n",
       "    padding: 5px;\n",
       "  }\n",
       "  th {\n",
       "    text-align: left;\n",
       "  }\n",
       "</style><div class='table-result-container'><table class='table-result'><thead style='background-color: white'><tr><th>concat(id, -, gen)</th></tr></thead><tbody><tr><td>1-M</td></tr><tr><td>2-F</td></tr><tr><td>3-M</td></tr><tr><td>4-M</td></tr><tr><td>5-F</td></tr><tr><td>6-M</td></tr><tr><td>7-M</td></tr><tr><td>8-M</td></tr><tr><td>9-M</td></tr><tr><td>10-M</td></tr><tr><td>11-F</td></tr><tr><td>12-F</td></tr><tr><td>13-M</td></tr><tr><td>14-M</td></tr><tr><td>15-F</td></tr><tr><td>16-M</td></tr><tr><td>17-M</td></tr><tr><td>18-F</td></tr><tr><td>19-M</td></tr><tr><td>20-F</td></tr><tr><td>21-M</td></tr><tr><td>22-M</td></tr><tr><td>23-F</td></tr><tr><td>24-F</td></tr><tr><td>25-M</td></tr><tr><td>26-M</td></tr><tr><td>27-F</td></tr><tr><td>28-M</td></tr><tr><td>29-M</td></tr><tr><td>30-M</td></tr><tr><td>31-M</td></tr><tr><td>32-F</td></tr><tr><td>33-M</td></tr><tr><td>34-F</td></tr><tr><td>35-F</td></tr><tr><td>36-F</td></tr><tr><td>37-M</td></tr><tr><td>38-F</td></tr><tr><td>39-M</td></tr><tr><td>40-M</td></tr><tr><td>41-M</td></tr><tr><td>42-M</td></tr><tr><td>43-F</td></tr><tr><td>44-M</td></tr><tr><td>45-M</td></tr><tr><td>46-F</td></tr><tr><td>47-M</td></tr><tr><td>48-M</td></tr><tr><td>49-F</td></tr><tr><td>50-M</td></tr><tr><td>51-M</td></tr><tr><td>52-F</td></tr><tr><td>53-M</td></tr><tr><td>54-M</td></tr><tr><td>55-M</td></tr><tr><td>56-M</td></tr><tr><td>57-M</td></tr><tr><td>58-M</td></tr><tr><td>59-M</td></tr><tr><td>60-M</td></tr><tr><td>61-M</td></tr><tr><td>62-F</td></tr><tr><td>63-M</td></tr><tr><td>64-M</td></tr><tr><td>65-F</td></tr><tr><td>66-M</td></tr><tr><td>67-M</td></tr><tr><td>68-M</td></tr><tr><td>69-M</td></tr><tr><td>70-M</td></tr><tr><td>71-M</td></tr><tr><td>72-F</td></tr><tr><td>73-M</td></tr><tr><td>74-M</td></tr><tr><td>75-M</td></tr><tr><td>76-M</td></tr><tr><td>77-M</td></tr><tr><td>78-M</td></tr><tr><td>79-F</td></tr><tr><td>80-F</td></tr><tr><td>81-M</td></tr><tr><td>82-M</td></tr><tr><td>83-M</td></tr><tr><td>84-M</td></tr><tr><td>85-M</td></tr><tr><td>86-M</td></tr><tr><td>87-M</td></tr><tr><td>88-F</td></tr><tr><td>89-F</td></tr><tr><td>90-M</td></tr><tr><td>91-M</td></tr><tr><td>92-M</td></tr><tr><td>93-M</td></tr><tr><td>94-M</td></tr><tr><td>95-M</td></tr><tr><td>96-F</td></tr><tr><td>97-M</td></tr><tr><td>98-F</td></tr><tr><td>99-M</td></tr><tr><td>100-M</td></tr><tr><td>101-M</td></tr><tr><td>102-M</td></tr><tr><td>103-M</td></tr><tr><td>104-M</td></tr><tr><td>105-M</td></tr><tr><td>106-M</td></tr><tr><td>107-M</td></tr><tr><td>108-M</td></tr><tr><td>109-M</td></tr><tr><td>110-M</td></tr><tr><td>111-M</td></tr><tr><td>112-M</td></tr><tr><td>113-M</td></tr><tr><td>114-M</td></tr><tr><td>115-M</td></tr><tr><td>116-M</td></tr><tr><td>117-M</td></tr><tr><td>118-M</td></tr><tr><td>119-M</td></tr><tr><td>120-F</td></tr><tr><td>121-M</td></tr><tr><td>122-F</td></tr><tr><td>123-F</td></tr><tr><td>124-M</td></tr><tr><td>125-M</td></tr><tr><td>126-F</td></tr><tr><td>127-M</td></tr><tr><td>128-F</td></tr><tr><td>129-F</td></tr><tr><td>130-M</td></tr><tr><td>131-F</td></tr><tr><td>132-M</td></tr><tr><td>133-M</td></tr><tr><td>134-M</td></tr><tr><td>135-M</td></tr><tr><td>136-M</td></tr><tr><td>137-M</td></tr><tr><td>138-M</td></tr><tr><td>139-M</td></tr><tr><td>140-F</td></tr><tr><td>141-M</td></tr><tr><td>142-M</td></tr><tr><td>143-M</td></tr><tr><td>144-M</td></tr><tr><td>145-M</td></tr><tr><td>146-M</td></tr><tr><td>147-F</td></tr><tr><td>148-M</td></tr><tr><td>149-F</td></tr><tr><td>150-F</td></tr><tr><td>151-F</td></tr><tr><td>152-F</td></tr><tr><td>153-M</td></tr><tr><td>154-M</td></tr><tr><td>155-F</td></tr><tr><td>156-M</td></tr><tr><td>157-M</td></tr><tr><td>158-M</td></tr><tr><td>159-F</td></tr><tr><td>160-M</td></tr><tr><td>161-M</td></tr><tr><td>162-M</td></tr><tr><td>163-M</td></tr><tr><td>164-M</td></tr><tr><td>165-F</td></tr><tr><td>166-M</td></tr><tr><td>167-M</td></tr><tr><td>168-M</td></tr><tr><td>169-F</td></tr><tr><td>170-F</td></tr><tr><td>171-F</td></tr><tr><td>172-M</td></tr><tr><td>173-M</td></tr><tr><td>174-F</td></tr><tr><td>175-F</td></tr><tr><td>176-M</td></tr><tr><td>177-M</td></tr><tr><td>178-M</td></tr><tr><td>179-M</td></tr><tr><td>180-F</td></tr><tr><td>181-M</td></tr><tr><td>182-M</td></tr><tr><td>183-M</td></tr><tr><td>184-M</td></tr><tr><td>185-F</td></tr><tr><td>186-F</td></tr><tr><td>187-M</td></tr><tr><td>188-M</td></tr><tr><td>189-M</td></tr><tr><td>190-M</td></tr><tr><td>191-M</td></tr><tr><td>192-M</td></tr><tr><td>193-M</td></tr><tr><td>194-M</td></tr><tr><td>195-M</td></tr><tr><td>196-M</td></tr><tr><td>197-M</td></tr><tr><td>198-F</td></tr><tr><td>199-M</td></tr><tr><td>200-M</td></tr><tr><td>201-M</td></tr><tr><td>202-F</td></tr><tr><td>203-F</td></tr><tr><td>204-F</td></tr><tr><td>205-M</td></tr><tr><td>206-F</td></tr><tr><td>207-M</td></tr><tr><td>208-M</td></tr><tr><td>209-F</td></tr><tr><td>210-M</td></tr><tr><td>211-M</td></tr><tr><td>212-F</td></tr><tr><td>213-M</td></tr><tr><td>214-F</td></tr><tr><td>215-M</td></tr><tr><td>216-M</td></tr><tr><td>217-M</td></tr><tr><td>218-M</td></tr><tr><td>219-M</td></tr><tr><td>220-M</td></tr><tr><td>221-M</td></tr><tr><td>222-M</td></tr><tr><td>223-F</td></tr><tr><td>224-F</td></tr><tr><td>225-F</td></tr><tr><td>226-M</td></tr><tr><td>227-M</td></tr><tr><td>228-F</td></tr><tr><td>229-F</td></tr><tr><td>230-F</td></tr><tr><td>231-M</td></tr><tr><td>232-M</td></tr><tr><td>233-M</td></tr><tr><td>234-M</td></tr><tr><td>235-M</td></tr><tr><td>236-F</td></tr><tr><td>237-M</td></tr><tr><td>238-F</td></tr><tr><td>239-M</td></tr><tr><td>240-F</td></tr><tr><td>241-F</td></tr><tr><td>242-M</td></tr><tr><td>243-M</td></tr><tr><td>244-M</td></tr><tr><td>245-F</td></tr></tbody></table></div>"
      ]
     },
     "metadata": {
      "application/vnd.databricks.v1+output": {
       "addedWidgets": {},
       "aggData": [],
       "aggError": "",
       "aggOverflow": false,
       "aggSchema": [],
       "aggSeriesLimitReached": false,
       "aggType": "",
       "arguments": {},
       "columnCustomDisplayInfos": {},
       "data": [
        [
         "1-M"
        ],
        [
         "2-F"
        ],
        [
         "3-M"
        ],
        [
         "4-M"
        ],
        [
         "5-F"
        ],
        [
         "6-M"
        ],
        [
         "7-M"
        ],
        [
         "8-M"
        ],
        [
         "9-M"
        ],
        [
         "10-M"
        ],
        [
         "11-F"
        ],
        [
         "12-F"
        ],
        [
         "13-M"
        ],
        [
         "14-M"
        ],
        [
         "15-F"
        ],
        [
         "16-M"
        ],
        [
         "17-M"
        ],
        [
         "18-F"
        ],
        [
         "19-M"
        ],
        [
         "20-F"
        ],
        [
         "21-M"
        ],
        [
         "22-M"
        ],
        [
         "23-F"
        ],
        [
         "24-F"
        ],
        [
         "25-M"
        ],
        [
         "26-M"
        ],
        [
         "27-F"
        ],
        [
         "28-M"
        ],
        [
         "29-M"
        ],
        [
         "30-M"
        ],
        [
         "31-M"
        ],
        [
         "32-F"
        ],
        [
         "33-M"
        ],
        [
         "34-F"
        ],
        [
         "35-F"
        ],
        [
         "36-F"
        ],
        [
         "37-M"
        ],
        [
         "38-F"
        ],
        [
         "39-M"
        ],
        [
         "40-M"
        ],
        [
         "41-M"
        ],
        [
         "42-M"
        ],
        [
         "43-F"
        ],
        [
         "44-M"
        ],
        [
         "45-M"
        ],
        [
         "46-F"
        ],
        [
         "47-M"
        ],
        [
         "48-M"
        ],
        [
         "49-F"
        ],
        [
         "50-M"
        ],
        [
         "51-M"
        ],
        [
         "52-F"
        ],
        [
         "53-M"
        ],
        [
         "54-M"
        ],
        [
         "55-M"
        ],
        [
         "56-M"
        ],
        [
         "57-M"
        ],
        [
         "58-M"
        ],
        [
         "59-M"
        ],
        [
         "60-M"
        ],
        [
         "61-M"
        ],
        [
         "62-F"
        ],
        [
         "63-M"
        ],
        [
         "64-M"
        ],
        [
         "65-F"
        ],
        [
         "66-M"
        ],
        [
         "67-M"
        ],
        [
         "68-M"
        ],
        [
         "69-M"
        ],
        [
         "70-M"
        ],
        [
         "71-M"
        ],
        [
         "72-F"
        ],
        [
         "73-M"
        ],
        [
         "74-M"
        ],
        [
         "75-M"
        ],
        [
         "76-M"
        ],
        [
         "77-M"
        ],
        [
         "78-M"
        ],
        [
         "79-F"
        ],
        [
         "80-F"
        ],
        [
         "81-M"
        ],
        [
         "82-M"
        ],
        [
         "83-M"
        ],
        [
         "84-M"
        ],
        [
         "85-M"
        ],
        [
         "86-M"
        ],
        [
         "87-M"
        ],
        [
         "88-F"
        ],
        [
         "89-F"
        ],
        [
         "90-M"
        ],
        [
         "91-M"
        ],
        [
         "92-M"
        ],
        [
         "93-M"
        ],
        [
         "94-M"
        ],
        [
         "95-M"
        ],
        [
         "96-F"
        ],
        [
         "97-M"
        ],
        [
         "98-F"
        ],
        [
         "99-M"
        ],
        [
         "100-M"
        ],
        [
         "101-M"
        ],
        [
         "102-M"
        ],
        [
         "103-M"
        ],
        [
         "104-M"
        ],
        [
         "105-M"
        ],
        [
         "106-M"
        ],
        [
         "107-M"
        ],
        [
         "108-M"
        ],
        [
         "109-M"
        ],
        [
         "110-M"
        ],
        [
         "111-M"
        ],
        [
         "112-M"
        ],
        [
         "113-M"
        ],
        [
         "114-M"
        ],
        [
         "115-M"
        ],
        [
         "116-M"
        ],
        [
         "117-M"
        ],
        [
         "118-M"
        ],
        [
         "119-M"
        ],
        [
         "120-F"
        ],
        [
         "121-M"
        ],
        [
         "122-F"
        ],
        [
         "123-F"
        ],
        [
         "124-M"
        ],
        [
         "125-M"
        ],
        [
         "126-F"
        ],
        [
         "127-M"
        ],
        [
         "128-F"
        ],
        [
         "129-F"
        ],
        [
         "130-M"
        ],
        [
         "131-F"
        ],
        [
         "132-M"
        ],
        [
         "133-M"
        ],
        [
         "134-M"
        ],
        [
         "135-M"
        ],
        [
         "136-M"
        ],
        [
         "137-M"
        ],
        [
         "138-M"
        ],
        [
         "139-M"
        ],
        [
         "140-F"
        ],
        [
         "141-M"
        ],
        [
         "142-M"
        ],
        [
         "143-M"
        ],
        [
         "144-M"
        ],
        [
         "145-M"
        ],
        [
         "146-M"
        ],
        [
         "147-F"
        ],
        [
         "148-M"
        ],
        [
         "149-F"
        ],
        [
         "150-F"
        ],
        [
         "151-F"
        ],
        [
         "152-F"
        ],
        [
         "153-M"
        ],
        [
         "154-M"
        ],
        [
         "155-F"
        ],
        [
         "156-M"
        ],
        [
         "157-M"
        ],
        [
         "158-M"
        ],
        [
         "159-F"
        ],
        [
         "160-M"
        ],
        [
         "161-M"
        ],
        [
         "162-M"
        ],
        [
         "163-M"
        ],
        [
         "164-M"
        ],
        [
         "165-F"
        ],
        [
         "166-M"
        ],
        [
         "167-M"
        ],
        [
         "168-M"
        ],
        [
         "169-F"
        ],
        [
         "170-F"
        ],
        [
         "171-F"
        ],
        [
         "172-M"
        ],
        [
         "173-M"
        ],
        [
         "174-F"
        ],
        [
         "175-F"
        ],
        [
         "176-M"
        ],
        [
         "177-M"
        ],
        [
         "178-M"
        ],
        [
         "179-M"
        ],
        [
         "180-F"
        ],
        [
         "181-M"
        ],
        [
         "182-M"
        ],
        [
         "183-M"
        ],
        [
         "184-M"
        ],
        [
         "185-F"
        ],
        [
         "186-F"
        ],
        [
         "187-M"
        ],
        [
         "188-M"
        ],
        [
         "189-M"
        ],
        [
         "190-M"
        ],
        [
         "191-M"
        ],
        [
         "192-M"
        ],
        [
         "193-M"
        ],
        [
         "194-M"
        ],
        [
         "195-M"
        ],
        [
         "196-M"
        ],
        [
         "197-M"
        ],
        [
         "198-F"
        ],
        [
         "199-M"
        ],
        [
         "200-M"
        ],
        [
         "201-M"
        ],
        [
         "202-F"
        ],
        [
         "203-F"
        ],
        [
         "204-F"
        ],
        [
         "205-M"
        ],
        [
         "206-F"
        ],
        [
         "207-M"
        ],
        [
         "208-M"
        ],
        [
         "209-F"
        ],
        [
         "210-M"
        ],
        [
         "211-M"
        ],
        [
         "212-F"
        ],
        [
         "213-M"
        ],
        [
         "214-F"
        ],
        [
         "215-M"
        ],
        [
         "216-M"
        ],
        [
         "217-M"
        ],
        [
         "218-M"
        ],
        [
         "219-M"
        ],
        [
         "220-M"
        ],
        [
         "221-M"
        ],
        [
         "222-M"
        ],
        [
         "223-F"
        ],
        [
         "224-F"
        ],
        [
         "225-F"
        ],
        [
         "226-M"
        ],
        [
         "227-M"
        ],
        [
         "228-F"
        ],
        [
         "229-F"
        ],
        [
         "230-F"
        ],
        [
         "231-M"
        ],
        [
         "232-M"
        ],
        [
         "233-M"
        ],
        [
         "234-M"
        ],
        [
         "235-M"
        ],
        [
         "236-F"
        ],
        [
         "237-M"
        ],
        [
         "238-F"
        ],
        [
         "239-M"
        ],
        [
         "240-F"
        ],
        [
         "241-F"
        ],
        [
         "242-M"
        ],
        [
         "243-M"
        ],
        [
         "244-M"
        ],
        [
         "245-F"
        ]
       ],
       "datasetInfos": [],
       "dbfsResultPath": null,
       "isJsonSchema": true,
       "metadata": {},
       "overflow": false,
       "plotOptions": {
        "customPlotOptions": {},
        "displayType": "table",
        "pivotAggregation": null,
        "pivotColumns": null,
        "xColumns": null,
        "yColumns": null
       },
       "removedWidgets": [],
       "schema": [
        {
         "metadata": "{}",
         "name": "concat(id, -, gen)",
         "type": "\"string\""
        }
       ],
       "type": "table"
      }
     },
     "output_type": "display_data"
    }
   ],
   "source": [
    "from pyspark.sql.functions import col, concat, lit\n",
    "user_df.select(concat(col(\"id\"),lit(\"-\"),col(\"gen\"))).display()"
   ]
  },
  {
   "cell_type": "code",
   "execution_count": 0,
   "metadata": {
    "application/vnd.databricks.v1+cell": {
     "cellMetadata": {
      "byteLimit": 2048000,
      "rowLimit": 10000
     },
     "inputWidgets": {},
     "nuid": "84ca5415-4568-40ca-b295-d005308a048f",
     "showTitle": false,
     "tableResultSettingsMap": {},
     "title": ""
    }
   },
   "outputs": [
    {
     "output_type": "display_data",
     "data": {
      "text/html": [
       "<style scoped>\n",
       "  .table-result-container {\n",
       "    max-height: 300px;\n",
       "    overflow: auto;\n",
       "  }\n",
       "  table, th, td {\n",
       "    border: 1px solid black;\n",
       "    border-collapse: collapse;\n",
       "  }\n",
       "  th, td {\n",
       "    padding: 5px;\n",
       "  }\n",
       "  th {\n",
       "    text-align: left;\n",
       "  }\n",
       "</style><div class='table-result-container'><table class='table-result'><thead style='background-color: white'><tr><th>id</th><th>age</th><th>gen</th><th>designation</th><th>salary</th></tr></thead><tbody><tr><td>1</td><td>26</td><td>M</td><td>Technician</td><td>85711</td></tr><tr><td>3</td><td>23</td><td>M</td><td>Writer</td><td>32067</td></tr><tr><td>4</td><td>26</td><td>M</td><td>technician</td><td>43537</td></tr><tr><td>6</td><td>42</td><td>M</td><td>Cheif Executive Officer</td><td>98101</td></tr></tbody></table></div>"
      ]
     },
     "metadata": {
      "application/vnd.databricks.v1+output": {
       "addedWidgets": {},
       "aggData": [],
       "aggError": "",
       "aggOverflow": false,
       "aggSchema": [],
       "aggSeriesLimitReached": false,
       "aggType": "",
       "arguments": {},
       "columnCustomDisplayInfos": {},
       "data": [
        [
         1,
         26,
         "M",
         "Technician",
         85711
        ],
        [
         3,
         23,
         "M",
         "Writer",
         32067
        ],
        [
         4,
         26,
         "M",
         "technician",
         43537
        ],
        [
         6,
         42,
         "M",
         "Cheif Executive Officer",
         98101
        ]
       ],
       "datasetInfos": [],
       "dbfsResultPath": null,
       "isJsonSchema": true,
       "metadata": {},
       "overflow": false,
       "plotOptions": {
        "customPlotOptions": {},
        "displayType": "table",
        "pivotAggregation": null,
        "pivotColumns": null,
        "xColumns": null,
        "yColumns": null
       },
       "removedWidgets": [],
       "schema": [
        {
         "metadata": "{}",
         "name": "id",
         "type": "\"integer\""
        },
        {
         "metadata": "{}",
         "name": "age",
         "type": "\"integer\""
        },
        {
         "metadata": "{}",
         "name": "gen",
         "type": "\"string\""
        },
        {
         "metadata": "{}",
         "name": "designation",
         "type": "\"string\""
        },
        {
         "metadata": "{}",
         "name": "salary",
         "type": "\"integer\""
        }
       ],
       "type": "table"
      }
     },
     "output_type": "display_data"
    }
   ],
   "source": [
    "user_df.filter(col(\"gen\")==\"M\").limit(4).display()"
   ]
  },
  {
   "cell_type": "code",
   "execution_count": 0,
   "metadata": {
    "application/vnd.databricks.v1+cell": {
     "cellMetadata": {
      "byteLimit": 2048000,
      "rowLimit": 10000
     },
     "inputWidgets": {},
     "nuid": "7c6b7743-e455-4fbc-8db1-7f4fd4cd9fb3",
     "showTitle": false,
     "tableResultSettingsMap": {},
     "title": ""
    }
   },
   "outputs": [
    {
     "output_type": "display_data",
     "data": {
      "text/html": [
       "<style scoped>\n",
       "  .table-result-container {\n",
       "    max-height: 300px;\n",
       "    overflow: auto;\n",
       "  }\n",
       "  table, th, td {\n",
       "    border: 1px solid black;\n",
       "    border-collapse: collapse;\n",
       "  }\n",
       "  th, td {\n",
       "    padding: 5px;\n",
       "  }\n",
       "  th {\n",
       "    text-align: left;\n",
       "  }\n",
       "</style><div class='table-result-container'><table class='table-result'><thead style='background-color: white'><tr><th>id</th><th>age</th><th>gen</th><th>designation</th><th>salary</th></tr></thead><tbody><tr><td>1</td><td>26</td><td>M</td><td>Technician</td><td>85711</td></tr><tr><td>2</td><td>53</td><td>F</td><td>Other</td><td>94043</td></tr><tr><td>3</td><td>23</td><td>M</td><td>Writer</td><td>32067</td></tr><tr><td>4</td><td>26</td><td>M</td><td>technician</td><td>43537</td></tr><tr><td>5</td><td>33</td><td>F</td><td>Other</td><td>15213</td></tr><tr><td>6</td><td>42</td><td>M</td><td>Cheif Executive Officer</td><td>98101</td></tr><tr><td>7</td><td>57</td><td>M</td><td>Administrator</td><td>91344</td></tr><tr><td>8</td><td>36</td><td>M</td><td>Administrator</td><td>5201</td></tr><tr><td>9</td><td>29</td><td>M</td><td>Student</td><td>1002</td></tr><tr><td>10</td><td>53</td><td>M</td><td>Lawyer</td><td>90703</td></tr><tr><td>11</td><td>39</td><td>F</td><td>Other</td><td>30329</td></tr><tr><td>12</td><td>28</td><td>F</td><td>Other</td><td>6405</td></tr><tr><td>13</td><td>47</td><td>M</td><td>Educator</td><td>29206</td></tr><tr><td>14</td><td>45</td><td>M</td><td>Scientist</td><td>55106</td></tr><tr><td>15</td><td>49</td><td>F</td><td>Educator</td><td>97301</td></tr><tr><td>16</td><td>21</td><td>M</td><td>Entertainment</td><td>10309</td></tr><tr><td>17</td><td>30</td><td>M</td><td>Programmer</td><td>6355</td></tr><tr><td>18</td><td>35</td><td>F</td><td>Other</td><td>37212</td></tr><tr><td>19</td><td>40</td><td>M</td><td>Librarian</td><td>2138</td></tr><tr><td>20</td><td>42</td><td>F</td><td>Homemaker</td><td>95660</td></tr><tr><td>21</td><td>26</td><td>M</td><td>Writer</td><td>30068</td></tr><tr><td>22</td><td>25</td><td>M</td><td>Writer</td><td>40206</td></tr><tr><td>23</td><td>30</td><td>F</td><td>Artist</td><td>48197</td></tr><tr><td>24</td><td>21</td><td>F</td><td>Artist</td><td>94533</td></tr><tr><td>25</td><td>39</td><td>M</td><td>Engineer</td><td>55107</td></tr><tr><td>26</td><td>49</td><td>M</td><td>Engineer</td><td>21044</td></tr><tr><td>27</td><td>40</td><td>F</td><td>Librarian</td><td>30030</td></tr><tr><td>28</td><td>32</td><td>M</td><td>Writer</td><td>55369</td></tr><tr><td>29</td><td>41</td><td>M</td><td>Programmer</td><td>94043</td></tr><tr><td>30</td><td>7</td><td>M</td><td>Student</td><td>55436</td></tr><tr><td>31</td><td>24</td><td>M</td><td>Artist</td><td>10003</td></tr><tr><td>32</td><td>28</td><td>F</td><td>Student</td><td>78741</td></tr><tr><td>33</td><td>23</td><td>M</td><td>Student</td><td>27510</td></tr><tr><td>34</td><td>38</td><td>F</td><td>Administrator</td><td>42141</td></tr><tr><td>35</td><td>20</td><td>F</td><td>Homemaker</td><td>42459</td></tr><tr><td>36</td><td>19</td><td>F</td><td>Student</td><td>93117</td></tr><tr><td>37</td><td>23</td><td>M</td><td>Student</td><td>55105</td></tr><tr><td>38</td><td>28</td><td>F</td><td>Other</td><td>54467</td></tr><tr><td>39</td><td>41</td><td>M</td><td>Entertainment</td><td>1040</td></tr><tr><td>40</td><td>38</td><td>M</td><td>Scientist</td><td>27514</td></tr><tr><td>41</td><td>33</td><td>M</td><td>Engineer</td><td>80525</td></tr><tr><td>42</td><td>30</td><td>M</td><td>Administrator</td><td>17870</td></tr><tr><td>43</td><td>29</td><td>F</td><td>Librarian</td><td>20854</td></tr><tr><td>44</td><td>26</td><td>M</td><td>Technician</td><td>46260</td></tr><tr><td>45</td><td>29</td><td>M</td><td>Programmer</td><td>50233</td></tr><tr><td>46</td><td>27</td><td>F</td><td>marketing</td><td>46538</td></tr><tr><td>47</td><td>53</td><td>M</td><td>marketing</td><td>7102</td></tr><tr><td>48</td><td>45</td><td>M</td><td>Administrator</td><td>12550</td></tr><tr><td>49</td><td>23</td><td>F</td><td>Student</td><td>76111</td></tr><tr><td>50</td><td>21</td><td>M</td><td>Writer</td><td>52245</td></tr><tr><td>51</td><td>28</td><td>M</td><td>Educator</td><td>16509</td></tr><tr><td>52</td><td>18</td><td>F</td><td>Student</td><td>55105</td></tr><tr><td>53</td><td>26</td><td>M</td><td>Programmer</td><td>55414</td></tr><tr><td>54</td><td>22</td><td>M</td><td>Cheif Executive Officer</td><td>66315</td></tr><tr><td>55</td><td>37</td><td>M</td><td>Programmer</td><td>1331</td></tr><tr><td>56</td><td>25</td><td>M</td><td>Librarian</td><td>46260</td></tr><tr><td>57</td><td>16</td><td>M</td><td>Cheif Executive Officer</td><td>84010</td></tr><tr><td>58</td><td>27</td><td>M</td><td>Programmer</td><td>52246</td></tr><tr><td>59</td><td>49</td><td>M</td><td>Educator</td><td>8403</td></tr><tr><td>60</td><td>50</td><td>M</td><td>healthcare</td><td>6472</td></tr><tr><td>61</td><td>36</td><td>M</td><td>Engineer</td><td>30040</td></tr><tr><td>62</td><td>27</td><td>F</td><td>Administrator</td><td>97214</td></tr><tr><td>63</td><td>31</td><td>M</td><td>marketing</td><td>75240</td></tr><tr><td>64</td><td>32</td><td>M</td><td>Educator</td><td>43202</td></tr><tr><td>65</td><td>51</td><td>F</td><td>Educator</td><td>48118</td></tr><tr><td>66</td><td>23</td><td>M</td><td>Student</td><td>80521</td></tr><tr><td>67</td><td>17</td><td>M</td><td>Student</td><td>60402</td></tr><tr><td>68</td><td>19</td><td>M</td><td>Student</td><td>22904</td></tr><tr><td>69</td><td>24</td><td>M</td><td>Engineer</td><td>55337</td></tr><tr><td>70</td><td>27</td><td>M</td><td>Engineer</td><td>60067</td></tr><tr><td>71</td><td>39</td><td>M</td><td>Scientist</td><td>98034</td></tr><tr><td>72</td><td>48</td><td>F</td><td>Administrator</td><td>73034</td></tr><tr><td>73</td><td>24</td><td>M</td><td>Student</td><td>41850</td></tr><tr><td>74</td><td>39</td><td>M</td><td>Scientist</td><td>41850</td></tr><tr><td>75</td><td>24</td><td>M</td><td>Entertainment</td><td>8816</td></tr><tr><td>76</td><td>20</td><td>M</td><td>Student</td><td>2215</td></tr><tr><td>77</td><td>30</td><td>M</td><td>Technician</td><td>29379</td></tr><tr><td>78</td><td>26</td><td>M</td><td>Administrator</td><td>61801</td></tr><tr><td>79</td><td>39</td><td>F</td><td>Administrator</td><td>3755</td></tr><tr><td>80</td><td>34</td><td>F</td><td>Administrator</td><td>52241</td></tr><tr><td>81</td><td>21</td><td>M</td><td>Student</td><td>21218</td></tr><tr><td>82</td><td>50</td><td>M</td><td>Programmer</td><td>22902</td></tr><tr><td>83</td><td>40</td><td>M</td><td>Other</td><td>44133</td></tr><tr><td>84</td><td>32</td><td>M</td><td>Cheif Executive Officer</td><td>55369</td></tr><tr><td>85</td><td>51</td><td>M</td><td>Educator</td><td>20003</td></tr><tr><td>86</td><td>26</td><td>M</td><td>Administrator</td><td>46005</td></tr><tr><td>87</td><td>47</td><td>M</td><td>Administrator</td><td>89503</td></tr><tr><td>88</td><td>49</td><td>F</td><td>Librarian</td><td>11701</td></tr><tr><td>89</td><td>43</td><td>F</td><td>Administrator</td><td>68106</td></tr><tr><td>90</td><td>60</td><td>M</td><td>Educator</td><td>78155</td></tr><tr><td>91</td><td>55</td><td>M</td><td>marketing</td><td>1913</td></tr><tr><td>92</td><td>32</td><td>M</td><td>Entertainment</td><td>80525</td></tr><tr><td>93</td><td>48</td><td>M</td><td>Cheif Executive Officer</td><td>23112</td></tr><tr><td>94</td><td>26</td><td>M</td><td>Student</td><td>71457</td></tr><tr><td>95</td><td>31</td><td>M</td><td>Administrator</td><td>10707</td></tr><tr><td>96</td><td>25</td><td>F</td><td>Artist</td><td>75206</td></tr><tr><td>97</td><td>43</td><td>M</td><td>Artist</td><td>98006</td></tr><tr><td>98</td><td>49</td><td>F</td><td>Cheif Executive Officer</td><td>90291</td></tr><tr><td>99</td><td>20</td><td>M</td><td>Student</td><td>63129</td></tr><tr><td>100</td><td>36</td><td>M</td><td>Cheif Executive Officer</td><td>90254</td></tr><tr><td>101</td><td>15</td><td>M</td><td>Student</td><td>5146</td></tr><tr><td>102</td><td>38</td><td>M</td><td>Programmer</td><td>30220</td></tr><tr><td>103</td><td>26</td><td>M</td><td>Student</td><td>55108</td></tr><tr><td>104</td><td>27</td><td>M</td><td>Student</td><td>55108</td></tr><tr><td>105</td><td>24</td><td>M</td><td>Engineer</td><td>94043</td></tr><tr><td>106</td><td>61</td><td>M</td><td>retired</td><td>55125</td></tr><tr><td>107</td><td>39</td><td>M</td><td>Scientist</td><td>60466</td></tr><tr><td>108</td><td>44</td><td>M</td><td>Educator</td><td>63130</td></tr><tr><td>109</td><td>29</td><td>M</td><td>Other</td><td>55423</td></tr><tr><td>110</td><td>19</td><td>M</td><td>Student</td><td>77840</td></tr><tr><td>111</td><td>57</td><td>M</td><td>Engineer</td><td>90630</td></tr><tr><td>112</td><td>30</td><td>M</td><td>salesman</td><td>60613</td></tr><tr><td>113</td><td>47</td><td>M</td><td>Cheif Executive Officer</td><td>95032</td></tr><tr><td>114</td><td>27</td><td>M</td><td>Programmer</td><td>75013</td></tr><tr><td>115</td><td>31</td><td>M</td><td>Engineer</td><td>17110</td></tr><tr><td>116</td><td>40</td><td>M</td><td>healthcare</td><td>97232</td></tr><tr><td>117</td><td>20</td><td>M</td><td>Student</td><td>16125</td></tr><tr><td>118</td><td>21</td><td>M</td><td>Administrator</td><td>90210</td></tr><tr><td>119</td><td>32</td><td>M</td><td>Programmer</td><td>67401</td></tr><tr><td>120</td><td>47</td><td>F</td><td>Other</td><td>6260</td></tr><tr><td>121</td><td>54</td><td>M</td><td>Librarian</td><td>99603</td></tr><tr><td>122</td><td>32</td><td>F</td><td>Writer</td><td>22206</td></tr><tr><td>123</td><td>48</td><td>F</td><td>Artist</td><td>20008</td></tr><tr><td>124</td><td>34</td><td>M</td><td>Student</td><td>60615</td></tr><tr><td>125</td><td>30</td><td>M</td><td>Lawyer</td><td>22202</td></tr><tr><td>126</td><td>28</td><td>F</td><td>Lawyer</td><td>20015</td></tr><tr><td>127</td><td>33</td><td>M</td><td>cheif Cheif Executive Officer Officer</td><td>73439</td></tr><tr><td>128</td><td>24</td><td>F</td><td>marketing</td><td>20009</td></tr><tr><td>129</td><td>36</td><td>F</td><td>marketing</td><td>7039</td></tr><tr><td>130</td><td>20</td><td>M</td><td>cheif Cheif Executive Officer Officer</td><td>60115</td></tr><tr><td>131</td><td>59</td><td>F</td><td>Administrator</td><td>15237</td></tr><tr><td>132</td><td>24</td><td>M</td><td>Other</td><td>94612</td></tr><tr><td>133</td><td>53</td><td>M</td><td>Engineer</td><td>78602</td></tr><tr><td>134</td><td>31</td><td>M</td><td>Programmer</td><td>80236</td></tr><tr><td>135</td><td>23</td><td>M</td><td>Student</td><td>38401</td></tr><tr><td>136</td><td>51</td><td>M</td><td>Other</td><td>97365</td></tr><tr><td>137</td><td>50</td><td>M</td><td>Educator</td><td>84408</td></tr><tr><td>138</td><td>46</td><td>M</td><td>doctor</td><td>53211</td></tr><tr><td>139</td><td>20</td><td>M</td><td>Student</td><td>8904</td></tr><tr><td>140</td><td>30</td><td>F</td><td>Student</td><td>32250</td></tr><tr><td>141</td><td>49</td><td>M</td><td>Programmer</td><td>36117</td></tr><tr><td>142</td><td>13</td><td>M</td><td>Other</td><td>48118</td></tr><tr><td>143</td><td>42</td><td>M</td><td>Technician</td><td>8832</td></tr><tr><td>144</td><td>53</td><td>M</td><td>Programmer</td><td>20910</td></tr><tr><td>145</td><td>31</td><td>M</td><td>Entertainment</td><td>20910</td></tr><tr><td>146</td><td>45</td><td>M</td><td>Artist</td><td>83814</td></tr><tr><td>147</td><td>40</td><td>F</td><td>Librarian</td><td>2143</td></tr><tr><td>148</td><td>33</td><td>M</td><td>Engineer</td><td>97006</td></tr><tr><td>149</td><td>35</td><td>F</td><td>marketing</td><td>17325</td></tr><tr><td>150</td><td>20</td><td>F</td><td>Artist</td><td>2139</td></tr><tr><td>151</td><td>38</td><td>F</td><td>Administrator</td><td>48103</td></tr><tr><td>152</td><td>33</td><td>F</td><td>Educator</td><td>68767</td></tr><tr><td>153</td><td>25</td><td>M</td><td>Student</td><td>60641</td></tr><tr><td>154</td><td>25</td><td>M</td><td>Student</td><td>53703</td></tr><tr><td>155</td><td>32</td><td>F</td><td>Other</td><td>11217</td></tr><tr><td>156</td><td>25</td><td>M</td><td>Educator</td><td>8360</td></tr><tr><td>157</td><td>57</td><td>M</td><td>Engineer</td><td>70808</td></tr><tr><td>158</td><td>50</td><td>M</td><td>Educator</td><td>27606</td></tr><tr><td>159</td><td>23</td><td>F</td><td>Student</td><td>55346</td></tr><tr><td>160</td><td>27</td><td>M</td><td>Programmer</td><td>66215</td></tr><tr><td>161</td><td>50</td><td>M</td><td>Lawyer</td><td>55104</td></tr><tr><td>162</td><td>25</td><td>M</td><td>Artist</td><td>15610</td></tr><tr><td>163</td><td>49</td><td>M</td><td>Administrator</td><td>97212</td></tr><tr><td>164</td><td>47</td><td>M</td><td>healthcare</td><td>80123</td></tr><tr><td>165</td><td>20</td><td>F</td><td>Other</td><td>53715</td></tr><tr><td>166</td><td>47</td><td>M</td><td>Educator</td><td>55113</td></tr><tr><td>167</td><td>37</td><td>M</td><td>Other</td><td>55113</td></tr><tr><td>168</td><td>48</td><td>M</td><td>Other</td><td>80127</td></tr><tr><td>169</td><td>52</td><td>F</td><td>Other</td><td>53705</td></tr><tr><td>170</td><td>53</td><td>F</td><td>healthcare</td><td>30067</td></tr><tr><td>171</td><td>48</td><td>F</td><td>Educator</td><td>78750</td></tr><tr><td>172</td><td>55</td><td>M</td><td>marketing</td><td>22207</td></tr><tr><td>173</td><td>56</td><td>M</td><td>Other</td><td>22306</td></tr><tr><td>174</td><td>30</td><td>F</td><td>Administrator</td><td>52302</td></tr><tr><td>175</td><td>26</td><td>F</td><td>Scientist</td><td>21911</td></tr><tr><td>176</td><td>28</td><td>M</td><td>Scientist</td><td>7030</td></tr><tr><td>177</td><td>20</td><td>M</td><td>Programmer</td><td>19104</td></tr><tr><td>178</td><td>26</td><td>M</td><td>Other</td><td>49512</td></tr><tr><td>179</td><td>15</td><td>M</td><td>Entertainment</td><td>20755</td></tr><tr><td>180</td><td>22</td><td>F</td><td>Administrator</td><td>60202</td></tr><tr><td>181</td><td>26</td><td>M</td><td>Cheif Executive Officer</td><td>21218</td></tr><tr><td>182</td><td>36</td><td>M</td><td>Programmer</td><td>33884</td></tr><tr><td>183</td><td>33</td><td>M</td><td>Scientist</td><td>27708</td></tr><tr><td>184</td><td>37</td><td>M</td><td>Librarian</td><td>76013</td></tr><tr><td>185</td><td>53</td><td>F</td><td>Librarian</td><td>97403</td></tr><tr><td>186</td><td>39</td><td>F</td><td>Cheif Executive Officer</td><td>0</td></tr><tr><td>187</td><td>26</td><td>M</td><td>Educator</td><td>16801</td></tr><tr><td>188</td><td>42</td><td>M</td><td>Student</td><td>29440</td></tr><tr><td>189</td><td>32</td><td>M</td><td>Artist</td><td>95014</td></tr><tr><td>190</td><td>30</td><td>M</td><td>Administrator</td><td>95938</td></tr><tr><td>191</td><td>33</td><td>M</td><td>Administrator</td><td>95161</td></tr><tr><td>192</td><td>42</td><td>M</td><td>Educator</td><td>90840</td></tr><tr><td>193</td><td>29</td><td>M</td><td>Student</td><td>49931</td></tr><tr><td>194</td><td>38</td><td>M</td><td>Administrator</td><td>2154</td></tr><tr><td>195</td><td>42</td><td>M</td><td>Scientist</td><td>93555</td></tr><tr><td>196</td><td>49</td><td>M</td><td>Writer</td><td>55105</td></tr><tr><td>197</td><td>55</td><td>M</td><td>Technician</td><td>75094</td></tr><tr><td>198</td><td>21</td><td>F</td><td>Student</td><td>55414</td></tr><tr><td>199</td><td>30</td><td>M</td><td>Writer</td><td>17604</td></tr><tr><td>200</td><td>40</td><td>M</td><td>Programmer</td><td>93402</td></tr><tr><td>201</td><td>27</td><td>M</td><td>Writer</td><td>93402</td></tr><tr><td>202</td><td>41</td><td>F</td><td>Educator</td><td>60201</td></tr><tr><td>203</td><td>25</td><td>F</td><td>Student</td><td>32301</td></tr><tr><td>204</td><td>52</td><td>F</td><td>Librarian</td><td>10960</td></tr><tr><td>205</td><td>47</td><td>M</td><td>Lawyer</td><td>6371</td></tr><tr><td>206</td><td>14</td><td>F</td><td>Student</td><td>53115</td></tr><tr><td>207</td><td>39</td><td>M</td><td>marketing</td><td>92037</td></tr><tr><td>208</td><td>43</td><td>M</td><td>Engineer</td><td>1720</td></tr><tr><td>209</td><td>33</td><td>F</td><td>Educator</td><td>85710</td></tr><tr><td>210</td><td>39</td><td>M</td><td>Engineer</td><td>3060</td></tr><tr><td>211</td><td>66</td><td>M</td><td>salesman</td><td>32605</td></tr><tr><td>212</td><td>49</td><td>F</td><td>Educator</td><td>61401</td></tr><tr><td>213</td><td>33</td><td>M</td><td>Cheif Executive Officer</td><td>55345</td></tr><tr><td>214</td><td>26</td><td>F</td><td>Librarian</td><td>11231</td></tr><tr><td>215</td><td>35</td><td>M</td><td>Programmer</td><td>63033</td></tr><tr><td>216</td><td>22</td><td>M</td><td>Engineer</td><td>2215</td></tr><tr><td>217</td><td>22</td><td>M</td><td>Other</td><td>11727</td></tr><tr><td>218</td><td>37</td><td>M</td><td>Administrator</td><td>6513</td></tr><tr><td>219</td><td>32</td><td>M</td><td>Programmer</td><td>43212</td></tr><tr><td>220</td><td>30</td><td>M</td><td>Librarian</td><td>78205</td></tr><tr><td>221</td><td>19</td><td>M</td><td>Student</td><td>20685</td></tr><tr><td>222</td><td>29</td><td>M</td><td>Programmer</td><td>27502</td></tr><tr><td>223</td><td>19</td><td>F</td><td>Student</td><td>47906</td></tr><tr><td>224</td><td>31</td><td>F</td><td>Educator</td><td>43512</td></tr><tr><td>225</td><td>51</td><td>F</td><td>Administrator</td><td>58202</td></tr><tr><td>226</td><td>28</td><td>M</td><td>Student</td><td>92103</td></tr><tr><td>227</td><td>46</td><td>M</td><td>Cheif Executive Officer</td><td>60659</td></tr><tr><td>228</td><td>21</td><td>F</td><td>Student</td><td>22003</td></tr><tr><td>229</td><td>29</td><td>F</td><td>Librarian</td><td>22903</td></tr><tr><td>230</td><td>28</td><td>F</td><td>Student</td><td>14476</td></tr><tr><td>231</td><td>48</td><td>M</td><td>Librarian</td><td>1080</td></tr><tr><td>232</td><td>45</td><td>M</td><td>Scientist</td><td>99709</td></tr><tr><td>233</td><td>38</td><td>M</td><td>Engineer</td><td>98682</td></tr><tr><td>234</td><td>60</td><td>M</td><td>retired</td><td>94702</td></tr><tr><td>235</td><td>37</td><td>M</td><td>Educator</td><td>22973</td></tr><tr><td>236</td><td>44</td><td>F</td><td>Writer</td><td>53214</td></tr><tr><td>237</td><td>49</td><td>M</td><td>Administrator</td><td>63146</td></tr><tr><td>238</td><td>42</td><td>F</td><td>Administrator</td><td>44124</td></tr><tr><td>239</td><td>39</td><td>M</td><td>Artist</td><td>95628</td></tr><tr><td>240</td><td>23</td><td>F</td><td>Educator</td><td>20784</td></tr><tr><td>241</td><td>26</td><td>F</td><td>Student</td><td>20001</td></tr><tr><td>242</td><td>33</td><td>M</td><td>Educator</td><td>31404</td></tr><tr><td>243</td><td>33</td><td>M</td><td>Educator</td><td>60201</td></tr><tr><td>244</td><td>28</td><td>M</td><td>Technician</td><td>100005</td></tr><tr><td>245</td><td>26</td><td>F</td><td>Technician</td><td>110000</td></tr></tbody></table></div>"
      ]
     },
     "metadata": {
      "application/vnd.databricks.v1+output": {
       "addedWidgets": {},
       "aggData": [],
       "aggError": "",
       "aggOverflow": false,
       "aggSchema": [],
       "aggSeriesLimitReached": false,
       "aggType": "",
       "arguments": {},
       "columnCustomDisplayInfos": {},
       "data": [
        [
         1,
         26,
         "M",
         "Technician",
         85711
        ],
        [
         2,
         53,
         "F",
         "Other",
         94043
        ],
        [
         3,
         23,
         "M",
         "Writer",
         32067
        ],
        [
         4,
         26,
         "M",
         "technician",
         43537
        ],
        [
         5,
         33,
         "F",
         "Other",
         15213
        ],
        [
         6,
         42,
         "M",
         "Cheif Executive Officer",
         98101
        ],
        [
         7,
         57,
         "M",
         "Administrator",
         91344
        ],
        [
         8,
         36,
         "M",
         "Administrator",
         5201
        ],
        [
         9,
         29,
         "M",
         "Student",
         1002
        ],
        [
         10,
         53,
         "M",
         "Lawyer",
         90703
        ],
        [
         11,
         39,
         "F",
         "Other",
         30329
        ],
        [
         12,
         28,
         "F",
         "Other",
         6405
        ],
        [
         13,
         47,
         "M",
         "Educator",
         29206
        ],
        [
         14,
         45,
         "M",
         "Scientist",
         55106
        ],
        [
         15,
         49,
         "F",
         "Educator",
         97301
        ],
        [
         16,
         21,
         "M",
         "Entertainment",
         10309
        ],
        [
         17,
         30,
         "M",
         "Programmer",
         6355
        ],
        [
         18,
         35,
         "F",
         "Other",
         37212
        ],
        [
         19,
         40,
         "M",
         "Librarian",
         2138
        ],
        [
         20,
         42,
         "F",
         "Homemaker",
         95660
        ],
        [
         21,
         26,
         "M",
         "Writer",
         30068
        ],
        [
         22,
         25,
         "M",
         "Writer",
         40206
        ],
        [
         23,
         30,
         "F",
         "Artist",
         48197
        ],
        [
         24,
         21,
         "F",
         "Artist",
         94533
        ],
        [
         25,
         39,
         "M",
         "Engineer",
         55107
        ],
        [
         26,
         49,
         "M",
         "Engineer",
         21044
        ],
        [
         27,
         40,
         "F",
         "Librarian",
         30030
        ],
        [
         28,
         32,
         "M",
         "Writer",
         55369
        ],
        [
         29,
         41,
         "M",
         "Programmer",
         94043
        ],
        [
         30,
         7,
         "M",
         "Student",
         55436
        ],
        [
         31,
         24,
         "M",
         "Artist",
         10003
        ],
        [
         32,
         28,
         "F",
         "Student",
         78741
        ],
        [
         33,
         23,
         "M",
         "Student",
         27510
        ],
        [
         34,
         38,
         "F",
         "Administrator",
         42141
        ],
        [
         35,
         20,
         "F",
         "Homemaker",
         42459
        ],
        [
         36,
         19,
         "F",
         "Student",
         93117
        ],
        [
         37,
         23,
         "M",
         "Student",
         55105
        ],
        [
         38,
         28,
         "F",
         "Other",
         54467
        ],
        [
         39,
         41,
         "M",
         "Entertainment",
         1040
        ],
        [
         40,
         38,
         "M",
         "Scientist",
         27514
        ],
        [
         41,
         33,
         "M",
         "Engineer",
         80525
        ],
        [
         42,
         30,
         "M",
         "Administrator",
         17870
        ],
        [
         43,
         29,
         "F",
         "Librarian",
         20854
        ],
        [
         44,
         26,
         "M",
         "Technician",
         46260
        ],
        [
         45,
         29,
         "M",
         "Programmer",
         50233
        ],
        [
         46,
         27,
         "F",
         "marketing",
         46538
        ],
        [
         47,
         53,
         "M",
         "marketing",
         7102
        ],
        [
         48,
         45,
         "M",
         "Administrator",
         12550
        ],
        [
         49,
         23,
         "F",
         "Student",
         76111
        ],
        [
         50,
         21,
         "M",
         "Writer",
         52245
        ],
        [
         51,
         28,
         "M",
         "Educator",
         16509
        ],
        [
         52,
         18,
         "F",
         "Student",
         55105
        ],
        [
         53,
         26,
         "M",
         "Programmer",
         55414
        ],
        [
         54,
         22,
         "M",
         "Cheif Executive Officer",
         66315
        ],
        [
         55,
         37,
         "M",
         "Programmer",
         1331
        ],
        [
         56,
         25,
         "M",
         "Librarian",
         46260
        ],
        [
         57,
         16,
         "M",
         "Cheif Executive Officer",
         84010
        ],
        [
         58,
         27,
         "M",
         "Programmer",
         52246
        ],
        [
         59,
         49,
         "M",
         "Educator",
         8403
        ],
        [
         60,
         50,
         "M",
         "healthcare",
         6472
        ],
        [
         61,
         36,
         "M",
         "Engineer",
         30040
        ],
        [
         62,
         27,
         "F",
         "Administrator",
         97214
        ],
        [
         63,
         31,
         "M",
         "marketing",
         75240
        ],
        [
         64,
         32,
         "M",
         "Educator",
         43202
        ],
        [
         65,
         51,
         "F",
         "Educator",
         48118
        ],
        [
         66,
         23,
         "M",
         "Student",
         80521
        ],
        [
         67,
         17,
         "M",
         "Student",
         60402
        ],
        [
         68,
         19,
         "M",
         "Student",
         22904
        ],
        [
         69,
         24,
         "M",
         "Engineer",
         55337
        ],
        [
         70,
         27,
         "M",
         "Engineer",
         60067
        ],
        [
         71,
         39,
         "M",
         "Scientist",
         98034
        ],
        [
         72,
         48,
         "F",
         "Administrator",
         73034
        ],
        [
         73,
         24,
         "M",
         "Student",
         41850
        ],
        [
         74,
         39,
         "M",
         "Scientist",
         41850
        ],
        [
         75,
         24,
         "M",
         "Entertainment",
         8816
        ],
        [
         76,
         20,
         "M",
         "Student",
         2215
        ],
        [
         77,
         30,
         "M",
         "Technician",
         29379
        ],
        [
         78,
         26,
         "M",
         "Administrator",
         61801
        ],
        [
         79,
         39,
         "F",
         "Administrator",
         3755
        ],
        [
         80,
         34,
         "F",
         "Administrator",
         52241
        ],
        [
         81,
         21,
         "M",
         "Student",
         21218
        ],
        [
         82,
         50,
         "M",
         "Programmer",
         22902
        ],
        [
         83,
         40,
         "M",
         "Other",
         44133
        ],
        [
         84,
         32,
         "M",
         "Cheif Executive Officer",
         55369
        ],
        [
         85,
         51,
         "M",
         "Educator",
         20003
        ],
        [
         86,
         26,
         "M",
         "Administrator",
         46005
        ],
        [
         87,
         47,
         "M",
         "Administrator",
         89503
        ],
        [
         88,
         49,
         "F",
         "Librarian",
         11701
        ],
        [
         89,
         43,
         "F",
         "Administrator",
         68106
        ],
        [
         90,
         60,
         "M",
         "Educator",
         78155
        ],
        [
         91,
         55,
         "M",
         "marketing",
         1913
        ],
        [
         92,
         32,
         "M",
         "Entertainment",
         80525
        ],
        [
         93,
         48,
         "M",
         "Cheif Executive Officer",
         23112
        ],
        [
         94,
         26,
         "M",
         "Student",
         71457
        ],
        [
         95,
         31,
         "M",
         "Administrator",
         10707
        ],
        [
         96,
         25,
         "F",
         "Artist",
         75206
        ],
        [
         97,
         43,
         "M",
         "Artist",
         98006
        ],
        [
         98,
         49,
         "F",
         "Cheif Executive Officer",
         90291
        ],
        [
         99,
         20,
         "M",
         "Student",
         63129
        ],
        [
         100,
         36,
         "M",
         "Cheif Executive Officer",
         90254
        ],
        [
         101,
         15,
         "M",
         "Student",
         5146
        ],
        [
         102,
         38,
         "M",
         "Programmer",
         30220
        ],
        [
         103,
         26,
         "M",
         "Student",
         55108
        ],
        [
         104,
         27,
         "M",
         "Student",
         55108
        ],
        [
         105,
         24,
         "M",
         "Engineer",
         94043
        ],
        [
         106,
         61,
         "M",
         "retired",
         55125
        ],
        [
         107,
         39,
         "M",
         "Scientist",
         60466
        ],
        [
         108,
         44,
         "M",
         "Educator",
         63130
        ],
        [
         109,
         29,
         "M",
         "Other",
         55423
        ],
        [
         110,
         19,
         "M",
         "Student",
         77840
        ],
        [
         111,
         57,
         "M",
         "Engineer",
         90630
        ],
        [
         112,
         30,
         "M",
         "salesman",
         60613
        ],
        [
         113,
         47,
         "M",
         "Cheif Executive Officer",
         95032
        ],
        [
         114,
         27,
         "M",
         "Programmer",
         75013
        ],
        [
         115,
         31,
         "M",
         "Engineer",
         17110
        ],
        [
         116,
         40,
         "M",
         "healthcare",
         97232
        ],
        [
         117,
         20,
         "M",
         "Student",
         16125
        ],
        [
         118,
         21,
         "M",
         "Administrator",
         90210
        ],
        [
         119,
         32,
         "M",
         "Programmer",
         67401
        ],
        [
         120,
         47,
         "F",
         "Other",
         6260
        ],
        [
         121,
         54,
         "M",
         "Librarian",
         99603
        ],
        [
         122,
         32,
         "F",
         "Writer",
         22206
        ],
        [
         123,
         48,
         "F",
         "Artist",
         20008
        ],
        [
         124,
         34,
         "M",
         "Student",
         60615
        ],
        [
         125,
         30,
         "M",
         "Lawyer",
         22202
        ],
        [
         126,
         28,
         "F",
         "Lawyer",
         20015
        ],
        [
         127,
         33,
         "M",
         "cheif Cheif Executive Officer Officer",
         73439
        ],
        [
         128,
         24,
         "F",
         "marketing",
         20009
        ],
        [
         129,
         36,
         "F",
         "marketing",
         7039
        ],
        [
         130,
         20,
         "M",
         "cheif Cheif Executive Officer Officer",
         60115
        ],
        [
         131,
         59,
         "F",
         "Administrator",
         15237
        ],
        [
         132,
         24,
         "M",
         "Other",
         94612
        ],
        [
         133,
         53,
         "M",
         "Engineer",
         78602
        ],
        [
         134,
         31,
         "M",
         "Programmer",
         80236
        ],
        [
         135,
         23,
         "M",
         "Student",
         38401
        ],
        [
         136,
         51,
         "M",
         "Other",
         97365
        ],
        [
         137,
         50,
         "M",
         "Educator",
         84408
        ],
        [
         138,
         46,
         "M",
         "doctor",
         53211
        ],
        [
         139,
         20,
         "M",
         "Student",
         8904
        ],
        [
         140,
         30,
         "F",
         "Student",
         32250
        ],
        [
         141,
         49,
         "M",
         "Programmer",
         36117
        ],
        [
         142,
         13,
         "M",
         "Other",
         48118
        ],
        [
         143,
         42,
         "M",
         "Technician",
         8832
        ],
        [
         144,
         53,
         "M",
         "Programmer",
         20910
        ],
        [
         145,
         31,
         "M",
         "Entertainment",
         20910
        ],
        [
         146,
         45,
         "M",
         "Artist",
         83814
        ],
        [
         147,
         40,
         "F",
         "Librarian",
         2143
        ],
        [
         148,
         33,
         "M",
         "Engineer",
         97006
        ],
        [
         149,
         35,
         "F",
         "marketing",
         17325
        ],
        [
         150,
         20,
         "F",
         "Artist",
         2139
        ],
        [
         151,
         38,
         "F",
         "Administrator",
         48103
        ],
        [
         152,
         33,
         "F",
         "Educator",
         68767
        ],
        [
         153,
         25,
         "M",
         "Student",
         60641
        ],
        [
         154,
         25,
         "M",
         "Student",
         53703
        ],
        [
         155,
         32,
         "F",
         "Other",
         11217
        ],
        [
         156,
         25,
         "M",
         "Educator",
         8360
        ],
        [
         157,
         57,
         "M",
         "Engineer",
         70808
        ],
        [
         158,
         50,
         "M",
         "Educator",
         27606
        ],
        [
         159,
         23,
         "F",
         "Student",
         55346
        ],
        [
         160,
         27,
         "M",
         "Programmer",
         66215
        ],
        [
         161,
         50,
         "M",
         "Lawyer",
         55104
        ],
        [
         162,
         25,
         "M",
         "Artist",
         15610
        ],
        [
         163,
         49,
         "M",
         "Administrator",
         97212
        ],
        [
         164,
         47,
         "M",
         "healthcare",
         80123
        ],
        [
         165,
         20,
         "F",
         "Other",
         53715
        ],
        [
         166,
         47,
         "M",
         "Educator",
         55113
        ],
        [
         167,
         37,
         "M",
         "Other",
         55113
        ],
        [
         168,
         48,
         "M",
         "Other",
         80127
        ],
        [
         169,
         52,
         "F",
         "Other",
         53705
        ],
        [
         170,
         53,
         "F",
         "healthcare",
         30067
        ],
        [
         171,
         48,
         "F",
         "Educator",
         78750
        ],
        [
         172,
         55,
         "M",
         "marketing",
         22207
        ],
        [
         173,
         56,
         "M",
         "Other",
         22306
        ],
        [
         174,
         30,
         "F",
         "Administrator",
         52302
        ],
        [
         175,
         26,
         "F",
         "Scientist",
         21911
        ],
        [
         176,
         28,
         "M",
         "Scientist",
         7030
        ],
        [
         177,
         20,
         "M",
         "Programmer",
         19104
        ],
        [
         178,
         26,
         "M",
         "Other",
         49512
        ],
        [
         179,
         15,
         "M",
         "Entertainment",
         20755
        ],
        [
         180,
         22,
         "F",
         "Administrator",
         60202
        ],
        [
         181,
         26,
         "M",
         "Cheif Executive Officer",
         21218
        ],
        [
         182,
         36,
         "M",
         "Programmer",
         33884
        ],
        [
         183,
         33,
         "M",
         "Scientist",
         27708
        ],
        [
         184,
         37,
         "M",
         "Librarian",
         76013
        ],
        [
         185,
         53,
         "F",
         "Librarian",
         97403
        ],
        [
         186,
         39,
         "F",
         "Cheif Executive Officer",
         0
        ],
        [
         187,
         26,
         "M",
         "Educator",
         16801
        ],
        [
         188,
         42,
         "M",
         "Student",
         29440
        ],
        [
         189,
         32,
         "M",
         "Artist",
         95014
        ],
        [
         190,
         30,
         "M",
         "Administrator",
         95938
        ],
        [
         191,
         33,
         "M",
         "Administrator",
         95161
        ],
        [
         192,
         42,
         "M",
         "Educator",
         90840
        ],
        [
         193,
         29,
         "M",
         "Student",
         49931
        ],
        [
         194,
         38,
         "M",
         "Administrator",
         2154
        ],
        [
         195,
         42,
         "M",
         "Scientist",
         93555
        ],
        [
         196,
         49,
         "M",
         "Writer",
         55105
        ],
        [
         197,
         55,
         "M",
         "Technician",
         75094
        ],
        [
         198,
         21,
         "F",
         "Student",
         55414
        ],
        [
         199,
         30,
         "M",
         "Writer",
         17604
        ],
        [
         200,
         40,
         "M",
         "Programmer",
         93402
        ],
        [
         201,
         27,
         "M",
         "Writer",
         93402
        ],
        [
         202,
         41,
         "F",
         "Educator",
         60201
        ],
        [
         203,
         25,
         "F",
         "Student",
         32301
        ],
        [
         204,
         52,
         "F",
         "Librarian",
         10960
        ],
        [
         205,
         47,
         "M",
         "Lawyer",
         6371
        ],
        [
         206,
         14,
         "F",
         "Student",
         53115
        ],
        [
         207,
         39,
         "M",
         "marketing",
         92037
        ],
        [
         208,
         43,
         "M",
         "Engineer",
         1720
        ],
        [
         209,
         33,
         "F",
         "Educator",
         85710
        ],
        [
         210,
         39,
         "M",
         "Engineer",
         3060
        ],
        [
         211,
         66,
         "M",
         "salesman",
         32605
        ],
        [
         212,
         49,
         "F",
         "Educator",
         61401
        ],
        [
         213,
         33,
         "M",
         "Cheif Executive Officer",
         55345
        ],
        [
         214,
         26,
         "F",
         "Librarian",
         11231
        ],
        [
         215,
         35,
         "M",
         "Programmer",
         63033
        ],
        [
         216,
         22,
         "M",
         "Engineer",
         2215
        ],
        [
         217,
         22,
         "M",
         "Other",
         11727
        ],
        [
         218,
         37,
         "M",
         "Administrator",
         6513
        ],
        [
         219,
         32,
         "M",
         "Programmer",
         43212
        ],
        [
         220,
         30,
         "M",
         "Librarian",
         78205
        ],
        [
         221,
         19,
         "M",
         "Student",
         20685
        ],
        [
         222,
         29,
         "M",
         "Programmer",
         27502
        ],
        [
         223,
         19,
         "F",
         "Student",
         47906
        ],
        [
         224,
         31,
         "F",
         "Educator",
         43512
        ],
        [
         225,
         51,
         "F",
         "Administrator",
         58202
        ],
        [
         226,
         28,
         "M",
         "Student",
         92103
        ],
        [
         227,
         46,
         "M",
         "Cheif Executive Officer",
         60659
        ],
        [
         228,
         21,
         "F",
         "Student",
         22003
        ],
        [
         229,
         29,
         "F",
         "Librarian",
         22903
        ],
        [
         230,
         28,
         "F",
         "Student",
         14476
        ],
        [
         231,
         48,
         "M",
         "Librarian",
         1080
        ],
        [
         232,
         45,
         "M",
         "Scientist",
         99709
        ],
        [
         233,
         38,
         "M",
         "Engineer",
         98682
        ],
        [
         234,
         60,
         "M",
         "retired",
         94702
        ],
        [
         235,
         37,
         "M",
         "Educator",
         22973
        ],
        [
         236,
         44,
         "F",
         "Writer",
         53214
        ],
        [
         237,
         49,
         "M",
         "Administrator",
         63146
        ],
        [
         238,
         42,
         "F",
         "Administrator",
         44124
        ],
        [
         239,
         39,
         "M",
         "Artist",
         95628
        ],
        [
         240,
         23,
         "F",
         "Educator",
         20784
        ],
        [
         241,
         26,
         "F",
         "Student",
         20001
        ],
        [
         242,
         33,
         "M",
         "Educator",
         31404
        ],
        [
         243,
         33,
         "M",
         "Educator",
         60201
        ],
        [
         244,
         28,
         "M",
         "Technician",
         100005
        ],
        [
         245,
         26,
         "F",
         "Technician",
         110000
        ]
       ],
       "datasetInfos": [],
       "dbfsResultPath": null,
       "isJsonSchema": true,
       "metadata": {},
       "overflow": false,
       "plotOptions": {
        "customPlotOptions": {},
        "displayType": "table",
        "pivotAggregation": null,
        "pivotColumns": null,
        "xColumns": null,
        "yColumns": null
       },
       "removedWidgets": [],
       "schema": [
        {
         "metadata": "{}",
         "name": "id",
         "type": "\"integer\""
        },
        {
         "metadata": "{}",
         "name": "age",
         "type": "\"integer\""
        },
        {
         "metadata": "{}",
         "name": "gen",
         "type": "\"string\""
        },
        {
         "metadata": "{}",
         "name": "designation",
         "type": "\"string\""
        },
        {
         "metadata": "{}",
         "name": "salary",
         "type": "\"integer\""
        }
       ],
       "type": "table"
      }
     },
     "output_type": "display_data"
    }
   ],
   "source": [
    "user_df.display()"
   ]
  },
  {
   "cell_type": "code",
   "execution_count": 0,
   "metadata": {
    "application/vnd.databricks.v1+cell": {
     "cellMetadata": {
      "byteLimit": 2048000,
      "rowLimit": 10000
     },
     "inputWidgets": {},
     "nuid": "6f830a5f-fa6a-4628-ac8e-abf6c7107b4c",
     "showTitle": false,
     "tableResultSettingsMap": {},
     "title": ""
    }
   },
   "outputs": [
    {
     "output_type": "display_data",
     "data": {
      "text/html": [
       "<style scoped>\n",
       "  .table-result-container {\n",
       "    max-height: 300px;\n",
       "    overflow: auto;\n",
       "  }\n",
       "  table, th, td {\n",
       "    border: 1px solid black;\n",
       "    border-collapse: collapse;\n",
       "  }\n",
       "  th, td {\n",
       "    padding: 5px;\n",
       "  }\n",
       "  th {\n",
       "    text-align: left;\n",
       "  }\n",
       "</style><div class='table-result-container'><table class='table-result'><thead style='background-color: white'><tr><th>id</th><th>age</th><th>gen</th><th>designation</th><th>salary</th></tr></thead><tbody><tr><td>2</td><td>53</td><td>F</td><td>Other</td><td>94043</td></tr><tr><td>5</td><td>33</td><td>F</td><td>Other</td><td>15213</td></tr><tr><td>9</td><td>29</td><td>M</td><td>Student</td><td>1002</td></tr><tr><td>11</td><td>39</td><td>F</td><td>Other</td><td>30329</td></tr><tr><td>12</td><td>28</td><td>F</td><td>Other</td><td>6405</td></tr><tr><td>18</td><td>35</td><td>F</td><td>Other</td><td>37212</td></tr><tr><td>30</td><td>7</td><td>M</td><td>Student</td><td>55436</td></tr><tr><td>32</td><td>28</td><td>F</td><td>Student</td><td>78741</td></tr><tr><td>33</td><td>23</td><td>M</td><td>Student</td><td>27510</td></tr><tr><td>36</td><td>19</td><td>F</td><td>Student</td><td>93117</td></tr><tr><td>37</td><td>23</td><td>M</td><td>Student</td><td>55105</td></tr><tr><td>38</td><td>28</td><td>F</td><td>Other</td><td>54467</td></tr><tr><td>49</td><td>23</td><td>F</td><td>Student</td><td>76111</td></tr><tr><td>52</td><td>18</td><td>F</td><td>Student</td><td>55105</td></tr></tbody></table></div>"
      ]
     },
     "metadata": {
      "application/vnd.databricks.v1+output": {
       "addedWidgets": {},
       "aggData": [],
       "aggError": "",
       "aggOverflow": false,
       "aggSchema": [],
       "aggSeriesLimitReached": false,
       "aggType": "",
       "arguments": {},
       "columnCustomDisplayInfos": {},
       "data": [
        [
         2,
         53,
         "F",
         "Other",
         94043
        ],
        [
         5,
         33,
         "F",
         "Other",
         15213
        ],
        [
         9,
         29,
         "M",
         "Student",
         1002
        ],
        [
         11,
         39,
         "F",
         "Other",
         30329
        ],
        [
         12,
         28,
         "F",
         "Other",
         6405
        ],
        [
         18,
         35,
         "F",
         "Other",
         37212
        ],
        [
         30,
         7,
         "M",
         "Student",
         55436
        ],
        [
         32,
         28,
         "F",
         "Student",
         78741
        ],
        [
         33,
         23,
         "M",
         "Student",
         27510
        ],
        [
         36,
         19,
         "F",
         "Student",
         93117
        ],
        [
         37,
         23,
         "M",
         "Student",
         55105
        ],
        [
         38,
         28,
         "F",
         "Other",
         54467
        ],
        [
         49,
         23,
         "F",
         "Student",
         76111
        ],
        [
         52,
         18,
         "F",
         "Student",
         55105
        ]
       ],
       "datasetInfos": [],
       "dbfsResultPath": null,
       "isJsonSchema": true,
       "metadata": {},
       "overflow": false,
       "plotOptions": {
        "customPlotOptions": {},
        "displayType": "table",
        "pivotAggregation": null,
        "pivotColumns": null,
        "xColumns": null,
        "yColumns": null
       },
       "removedWidgets": [],
       "schema": [
        {
         "metadata": "{}",
         "name": "id",
         "type": "\"integer\""
        },
        {
         "metadata": "{}",
         "name": "age",
         "type": "\"integer\""
        },
        {
         "metadata": "{}",
         "name": "gen",
         "type": "\"string\""
        },
        {
         "metadata": "{}",
         "name": "designation",
         "type": "\"string\""
        },
        {
         "metadata": "{}",
         "name": "salary",
         "type": "\"integer\""
        }
       ],
       "type": "table"
      }
     },
     "output_type": "display_data"
    }
   ],
   "source": [
    "user_df.filter(col(\"designation\").isin(\"Other\", \"Student\")).limit(14).display()"
   ]
  },
  {
   "cell_type": "code",
   "execution_count": 0,
   "metadata": {
    "application/vnd.databricks.v1+cell": {
     "cellMetadata": {
      "byteLimit": 2048000,
      "rowLimit": 10000
     },
     "inputWidgets": {},
     "nuid": "231cb097-74ad-4a5b-9623-15060eea6d15",
     "showTitle": false,
     "tableResultSettingsMap": {},
     "title": ""
    }
   },
   "outputs": [
    {
     "output_type": "display_data",
     "data": {
      "text/html": [
       "<style scoped>\n",
       "  .table-result-container {\n",
       "    max-height: 300px;\n",
       "    overflow: auto;\n",
       "  }\n",
       "  table, th, td {\n",
       "    border: 1px solid black;\n",
       "    border-collapse: collapse;\n",
       "  }\n",
       "  th, td {\n",
       "    padding: 5px;\n",
       "  }\n",
       "  th {\n",
       "    text-align: left;\n",
       "  }\n",
       "</style><div class='table-result-container'><table class='table-result'><thead style='background-color: white'><tr><th>id</th><th>age</th><th>gen</th><th>designation</th><th>salary</th></tr></thead><tbody><tr><td>1</td><td>26</td><td>M</td><td>Technician</td><td>85711</td></tr><tr><td>4</td><td>26</td><td>M</td><td>technician</td><td>43537</td></tr><tr><td>44</td><td>26</td><td>M</td><td>Technician</td><td>46260</td></tr><tr><td>77</td><td>30</td><td>M</td><td>Technician</td><td>29379</td></tr><tr><td>143</td><td>42</td><td>M</td><td>Technician</td><td>8832</td></tr><tr><td>197</td><td>55</td><td>M</td><td>Technician</td><td>75094</td></tr><tr><td>244</td><td>28</td><td>M</td><td>Technician</td><td>100005</td></tr><tr><td>245</td><td>26</td><td>F</td><td>Technician</td><td>110000</td></tr></tbody></table></div>"
      ]
     },
     "metadata": {
      "application/vnd.databricks.v1+output": {
       "addedWidgets": {},
       "aggData": [],
       "aggError": "",
       "aggOverflow": false,
       "aggSchema": [],
       "aggSeriesLimitReached": false,
       "aggType": "",
       "arguments": {},
       "columnCustomDisplayInfos": {},
       "data": [
        [
         1,
         26,
         "M",
         "Technician",
         85711
        ],
        [
         4,
         26,
         "M",
         "technician",
         43537
        ],
        [
         44,
         26,
         "M",
         "Technician",
         46260
        ],
        [
         77,
         30,
         "M",
         "Technician",
         29379
        ],
        [
         143,
         42,
         "M",
         "Technician",
         8832
        ],
        [
         197,
         55,
         "M",
         "Technician",
         75094
        ],
        [
         244,
         28,
         "M",
         "Technician",
         100005
        ],
        [
         245,
         26,
         "F",
         "Technician",
         110000
        ]
       ],
       "datasetInfos": [],
       "dbfsResultPath": null,
       "isJsonSchema": true,
       "metadata": {},
       "overflow": false,
       "plotOptions": {
        "customPlotOptions": {},
        "displayType": "table",
        "pivotAggregation": null,
        "pivotColumns": null,
        "xColumns": null,
        "yColumns": null
       },
       "removedWidgets": [],
       "schema": [
        {
         "metadata": "{}",
         "name": "id",
         "type": "\"integer\""
        },
        {
         "metadata": "{}",
         "name": "age",
         "type": "\"integer\""
        },
        {
         "metadata": "{}",
         "name": "gen",
         "type": "\"string\""
        },
        {
         "metadata": "{}",
         "name": "designation",
         "type": "\"string\""
        },
        {
         "metadata": "{}",
         "name": "salary",
         "type": "\"integer\""
        }
       ],
       "type": "table"
      }
     },
     "output_type": "display_data"
    }
   ],
   "source": [
    "from pyspark.sql.functions import lower\n",
    "user_df.filter(lower(col(\"designation\"))==\"technician\").display()"
   ]
  },
  {
   "cell_type": "code",
   "execution_count": 0,
   "metadata": {
    "application/vnd.databricks.v1+cell": {
     "cellMetadata": {
      "byteLimit": 2048000,
      "rowLimit": 10000
     },
     "inputWidgets": {},
     "nuid": "30b4b14c-b3be-4642-95a6-1d76d7a66329",
     "showTitle": false,
     "tableResultSettingsMap": {},
     "title": ""
    }
   },
   "outputs": [
    {
     "output_type": "display_data",
     "data": {
      "text/html": [
       "<style scoped>\n",
       "  .table-result-container {\n",
       "    max-height: 300px;\n",
       "    overflow: auto;\n",
       "  }\n",
       "  table, th, td {\n",
       "    border: 1px solid black;\n",
       "    border-collapse: collapse;\n",
       "  }\n",
       "  th, td {\n",
       "    padding: 5px;\n",
       "  }\n",
       "  th {\n",
       "    text-align: left;\n",
       "  }\n",
       "</style><div class='table-result-container'><table class='table-result'><thead style='background-color: white'><tr><th>id</th><th>age</th><th>gen</th><th>designation</th><th>salary</th></tr></thead><tbody><tr><td>1</td><td>26</td><td>M</td><td>Technician</td><td>85711</td></tr><tr><td>2</td><td>53</td><td>F</td><td>Other</td><td>94043</td></tr><tr><td>5</td><td>33</td><td>F</td><td>Other</td><td>15213</td></tr><tr><td>11</td><td>39</td><td>F</td><td>Other</td><td>30329</td></tr><tr><td>12</td><td>28</td><td>F</td><td>Other</td><td>6405</td></tr><tr><td>18</td><td>35</td><td>F</td><td>Other</td><td>37212</td></tr><tr><td>38</td><td>28</td><td>F</td><td>Other</td><td>54467</td></tr><tr><td>44</td><td>26</td><td>M</td><td>Technician</td><td>46260</td></tr><tr><td>77</td><td>30</td><td>M</td><td>Technician</td><td>29379</td></tr><tr><td>83</td><td>40</td><td>M</td><td>Other</td><td>44133</td></tr><tr><td>109</td><td>29</td><td>M</td><td>Other</td><td>55423</td></tr><tr><td>120</td><td>47</td><td>F</td><td>Other</td><td>6260</td></tr><tr><td>132</td><td>24</td><td>M</td><td>Other</td><td>94612</td></tr><tr><td>136</td><td>51</td><td>M</td><td>Other</td><td>97365</td></tr></tbody></table></div>"
      ]
     },
     "metadata": {
      "application/vnd.databricks.v1+output": {
       "addedWidgets": {},
       "aggData": [],
       "aggError": "",
       "aggOverflow": false,
       "aggSchema": [],
       "aggSeriesLimitReached": false,
       "aggType": "",
       "arguments": {},
       "columnCustomDisplayInfos": {},
       "data": [
        [
         1,
         26,
         "M",
         "Technician",
         85711
        ],
        [
         2,
         53,
         "F",
         "Other",
         94043
        ],
        [
         5,
         33,
         "F",
         "Other",
         15213
        ],
        [
         11,
         39,
         "F",
         "Other",
         30329
        ],
        [
         12,
         28,
         "F",
         "Other",
         6405
        ],
        [
         18,
         35,
         "F",
         "Other",
         37212
        ],
        [
         38,
         28,
         "F",
         "Other",
         54467
        ],
        [
         44,
         26,
         "M",
         "Technician",
         46260
        ],
        [
         77,
         30,
         "M",
         "Technician",
         29379
        ],
        [
         83,
         40,
         "M",
         "Other",
         44133
        ],
        [
         109,
         29,
         "M",
         "Other",
         55423
        ],
        [
         120,
         47,
         "F",
         "Other",
         6260
        ],
        [
         132,
         24,
         "M",
         "Other",
         94612
        ],
        [
         136,
         51,
         "M",
         "Other",
         97365
        ]
       ],
       "datasetInfos": [],
       "dbfsResultPath": null,
       "isJsonSchema": true,
       "metadata": {},
       "overflow": false,
       "plotOptions": {
        "customPlotOptions": {},
        "displayType": "table",
        "pivotAggregation": null,
        "pivotColumns": null,
        "xColumns": null,
        "yColumns": null
       },
       "removedWidgets": [],
       "schema": [
        {
         "metadata": "{}",
         "name": "id",
         "type": "\"integer\""
        },
        {
         "metadata": "{}",
         "name": "age",
         "type": "\"integer\""
        },
        {
         "metadata": "{}",
         "name": "gen",
         "type": "\"string\""
        },
        {
         "metadata": "{}",
         "name": "designation",
         "type": "\"string\""
        },
        {
         "metadata": "{}",
         "name": "salary",
         "type": "\"integer\""
        }
       ],
       "type": "table"
      }
     },
     "output_type": "display_data"
    }
   ],
   "source": [
    "words = [\"Te\",\"Ot\"]\n",
    "check = None\n",
    "for word in words:\n",
    "    if check is None:\n",
    "        check = col(\"designation\").contains(word)\n",
    "    else:\n",
    "        check = check |  col(\"designation\").contains(word)\n",
    "\n",
    "user_df = user_df.filter(check).limit(14)\n",
    "user_df.display()"
   ]
  },
  {
   "cell_type": "markdown",
   "metadata": {
    "application/vnd.databricks.v1+cell": {
     "cellMetadata": {},
     "inputWidgets": {},
     "nuid": "30b67a50-7b56-486a-8ea6-b0935f991dbc",
     "showTitle": false,
     "tableResultSettingsMap": {},
     "title": ""
    }
   },
   "source": [
    "## Grouping, Aggregation and Sorting"
   ]
  },
  {
   "cell_type": "code",
   "execution_count": 0,
   "metadata": {
    "application/vnd.databricks.v1+cell": {
     "cellMetadata": {
      "byteLimit": 2048000,
      "rowLimit": 10000
     },
     "inputWidgets": {},
     "nuid": "a592a032-a578-4199-8e2c-7f686451988c",
     "showTitle": false,
     "tableResultSettingsMap": {},
     "title": ""
    }
   },
   "outputs": [
    {
     "output_type": "display_data",
     "data": {
      "text/html": [
       "<style scoped>\n",
       "  .table-result-container {\n",
       "    max-height: 300px;\n",
       "    overflow: auto;\n",
       "  }\n",
       "  table, th, td {\n",
       "    border: 1px solid black;\n",
       "    border-collapse: collapse;\n",
       "  }\n",
       "  th, td {\n",
       "    padding: 5px;\n",
       "  }\n",
       "  th {\n",
       "    text-align: left;\n",
       "  }\n",
       "</style><div class='table-result-container'><table class='table-result'><thead style='background-color: white'><tr><th>designation</th><th>count</th></tr></thead><tbody><tr><td>Student</td><td>39</td></tr><tr><td>Programmer</td><td>20</td></tr><tr><td>Other</td><td>20</td></tr><tr><td>Cheif Executive Officer</td><td>12</td></tr><tr><td>Librarian</td><td>14</td></tr><tr><td>Artist</td><td>11</td></tr><tr><td>Engineer</td><td>16</td></tr><tr><td>Administrator</td><td>27</td></tr><tr><td>Educator</td><td>25</td></tr></tbody></table></div>"
      ]
     },
     "metadata": {
      "application/vnd.databricks.v1+output": {
       "addedWidgets": {},
       "aggData": [],
       "aggError": "",
       "aggOverflow": false,
       "aggSchema": [],
       "aggSeriesLimitReached": false,
       "aggType": "",
       "arguments": {},
       "columnCustomDisplayInfos": {},
       "data": [
        [
         "Student",
         39
        ],
        [
         "Programmer",
         20
        ],
        [
         "Other",
         20
        ],
        [
         "Cheif Executive Officer",
         12
        ],
        [
         "Librarian",
         14
        ],
        [
         "Artist",
         11
        ],
        [
         "Engineer",
         16
        ],
        [
         "Administrator",
         27
        ],
        [
         "Educator",
         25
        ]
       ],
       "datasetInfos": [],
       "dbfsResultPath": null,
       "isJsonSchema": true,
       "metadata": {},
       "overflow": false,
       "plotOptions": {
        "customPlotOptions": {},
        "displayType": "table",
        "pivotAggregation": null,
        "pivotColumns": null,
        "xColumns": null,
        "yColumns": null
       },
       "removedWidgets": [],
       "schema": [
        {
         "metadata": "{}",
         "name": "designation",
         "type": "\"string\""
        },
        {
         "metadata": "{}",
         "name": "count",
         "type": "\"long\""
        }
       ],
       "type": "table"
      }
     },
     "output_type": "display_data"
    }
   ],
   "source": [
    "user_df.groupBy(col(\"designation\")).count().filter(col(\"count\")>10).display()\n"
   ]
  },
  {
   "cell_type": "code",
   "execution_count": 0,
   "metadata": {
    "application/vnd.databricks.v1+cell": {
     "cellMetadata": {
      "byteLimit": 2048000,
      "rowLimit": 10000
     },
     "inputWidgets": {},
     "nuid": "e9c10885-b1d5-41f3-b9b5-f1693423af51",
     "showTitle": false,
     "tableResultSettingsMap": {},
     "title": ""
    }
   },
   "outputs": [
    {
     "output_type": "display_data",
     "data": {
      "text/html": [
       "<style scoped>\n",
       "  .table-result-container {\n",
       "    max-height: 300px;\n",
       "    overflow: auto;\n",
       "  }\n",
       "  table, th, td {\n",
       "    border: 1px solid black;\n",
       "    border-collapse: collapse;\n",
       "  }\n",
       "  th, td {\n",
       "    padding: 5px;\n",
       "  }\n",
       "  th {\n",
       "    text-align: left;\n",
       "  }\n",
       "</style><div class='table-result-container'><table class='table-result'><thead style='background-color: white'><tr><th>designation</th><th>count</th><th>age</th><th>min(age)</th></tr></thead><tbody><tr><td>Technician</td><td>3</td><td>30</td><td>26</td></tr><tr><td>Other</td><td>11</td><td>53</td><td>24</td></tr></tbody></table></div>"
      ]
     },
     "metadata": {
      "application/vnd.databricks.v1+output": {
       "addedWidgets": {},
       "aggData": [],
       "aggError": "",
       "aggOverflow": false,
       "aggSchema": [],
       "aggSeriesLimitReached": false,
       "aggType": "",
       "arguments": {},
       "columnCustomDisplayInfos": {},
       "data": [
        [
         "Technician",
         3,
         30,
         26
        ],
        [
         "Other",
         11,
         53,
         24
        ]
       ],
       "datasetInfos": [],
       "dbfsResultPath": null,
       "isJsonSchema": true,
       "metadata": {},
       "overflow": false,
       "plotOptions": {
        "customPlotOptions": {},
        "displayType": "table",
        "pivotAggregation": null,
        "pivotColumns": null,
        "xColumns": null,
        "yColumns": null
       },
       "removedWidgets": [],
       "schema": [
        {
         "metadata": "{}",
         "name": "designation",
         "type": "\"string\""
        },
        {
         "metadata": "{}",
         "name": "count",
         "type": "\"long\""
        },
        {
         "metadata": "{}",
         "name": "age",
         "type": "\"integer\""
        },
        {
         "metadata": "{}",
         "name": "min(age)",
         "type": "\"integer\""
        }
       ],
       "type": "table"
      }
     },
     "output_type": "display_data"
    }
   ],
   "source": [
    "from pyspark.sql.functions import count, max, min\n",
    "user_df.groupBy(col(\"designation\")).agg(count(\"*\").alias(\"count\"),\n",
    "                                        max(\"age\").alias(\"age\"),\n",
    "                                        min(\"age\")).display()"
   ]
  },
  {
   "cell_type": "markdown",
   "metadata": {
    "application/vnd.databricks.v1+cell": {
     "cellMetadata": {},
     "inputWidgets": {},
     "nuid": "ed0e5a8a-9de3-4018-84f0-e71f4b9c47e1",
     "showTitle": false,
     "tableResultSettingsMap": {},
     "title": ""
    }
   },
   "source": [
    "# Handling Missing Records"
   ]
  },
  {
   "cell_type": "code",
   "execution_count": 0,
   "metadata": {
    "application/vnd.databricks.v1+cell": {
     "cellMetadata": {},
     "inputWidgets": {},
     "nuid": "5cd8a8ba-9760-4812-a6a3-98166662dd58",
     "showTitle": false,
     "tableResultSettingsMap": {},
     "title": ""
    }
   },
   "outputs": [],
   "source": []
  }
 ],
 "metadata": {
  "application/vnd.databricks.v1+notebook": {
   "computePreferences": null,
   "dashboards": [],
   "environmentMetadata": {
    "base_environment": "",
    "environment_version": "1"
   },
   "inputWidgetPreferences": null,
   "language": "python",
   "notebookMetadata": {
    "pythonIndentUnit": 4
   },
   "notebookName": "02. Exploring DataFrame API",
   "widgets": {}
  }
 },
 "nbformat": 4,
 "nbformat_minor": 0
}